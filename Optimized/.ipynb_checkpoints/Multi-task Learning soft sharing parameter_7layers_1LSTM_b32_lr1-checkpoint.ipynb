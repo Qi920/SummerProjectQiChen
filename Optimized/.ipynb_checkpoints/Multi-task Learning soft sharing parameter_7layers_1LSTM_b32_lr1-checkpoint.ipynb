{
 "cells": [
  {
   "cell_type": "markdown",
   "id": "7f478ba6",
   "metadata": {},
   "source": [
    "# 4. Model Training (Multi-Task Learning Model based on soft parameter sharing)"
   ]
  },
  {
   "cell_type": "code",
   "execution_count": 1,
   "id": "9efc5294",
   "metadata": {},
   "outputs": [],
   "source": [
    "# import libraries\n",
    "import torch\n",
    "import joblib\n",
    "import pandas as pd\n",
    "import numpy as np\n",
    "import pyarrow as pa\n",
    "import matplotlib.pyplot as plt\n",
    "\n",
    "from sklearn.model_selection import train_test_split\n",
    "\n",
    "from datasets import Dataset\n",
    "\n",
    "from torch import nn\n",
    "from torch import optim\n",
    "from sklearn.feature_extraction.text import CountVectorizer\n",
    "from nltk import word_tokenize\n",
    "from gensim.utils import tokenize\n",
    "from torch.utils.data import DataLoader, TensorDataset\n",
    "\n",
    "from sklearn.metrics import confusion_matrix\n",
    "from sklearn.metrics import accuracy_score, precision_score, recall_score, f1_score, classification_report"
   ]
  },
  {
   "cell_type": "markdown",
   "id": "c364e8f3",
   "metadata": {},
   "source": [
    "## 4.1 Load Data"
   ]
  },
  {
   "cell_type": "code",
   "execution_count": 2,
   "id": "954489b1",
   "metadata": {},
   "outputs": [
    {
     "data": {
      "text/html": [
       "<div>\n",
       "<style scoped>\n",
       "    .dataframe tbody tr th:only-of-type {\n",
       "        vertical-align: middle;\n",
       "    }\n",
       "\n",
       "    .dataframe tbody tr th {\n",
       "        vertical-align: top;\n",
       "    }\n",
       "\n",
       "    .dataframe thead th {\n",
       "        text-align: right;\n",
       "    }\n",
       "</style>\n",
       "<table border=\"1\" class=\"dataframe\">\n",
       "  <thead>\n",
       "    <tr style=\"text-align: right;\">\n",
       "      <th></th>\n",
       "      <th>ID</th>\n",
       "      <th>kingdom_n</th>\n",
       "      <th>phylum_n</th>\n",
       "      <th>class_n</th>\n",
       "      <th>sequence</th>\n",
       "      <th>sequence_kmers</th>\n",
       "    </tr>\n",
       "  </thead>\n",
       "  <tbody>\n",
       "    <tr>\n",
       "      <th>0</th>\n",
       "      <td>ID-10213</td>\n",
       "      <td>1</td>\n",
       "      <td>5</td>\n",
       "      <td>111</td>\n",
       "      <td>TACGGAGGGTGCAAGCGTTGTCCGGAATCACTGGGTGTAAAGGGTG...</td>\n",
       "      <td>TACGGA ACGGAG CGGAGG GGAGGG GAGGGT AGGGTG GGGT...</td>\n",
       "    </tr>\n",
       "    <tr>\n",
       "      <th>1</th>\n",
       "      <td>ID-24128</td>\n",
       "      <td>1</td>\n",
       "      <td>5</td>\n",
       "      <td>111</td>\n",
       "      <td>TACGGAGGGTGCAAGCGTTGTCCGGAATCACTGGGTGTAAAGGGTG...</td>\n",
       "      <td>TACGGA ACGGAG CGGAGG GGAGGG GAGGGT AGGGTG GGGT...</td>\n",
       "    </tr>\n",
       "    <tr>\n",
       "      <th>2</th>\n",
       "      <td>ID-89036</td>\n",
       "      <td>1</td>\n",
       "      <td>5</td>\n",
       "      <td>111</td>\n",
       "      <td>TACGGAGGGTGCAAGCGTTGTCCGGAATCACTGGGTGTAAAGGGTG...</td>\n",
       "      <td>TACGGA ACGGAG CGGAGG GGAGGG GAGGGT AGGGTG GGGT...</td>\n",
       "    </tr>\n",
       "    <tr>\n",
       "      <th>3</th>\n",
       "      <td>ID-65937</td>\n",
       "      <td>1</td>\n",
       "      <td>5</td>\n",
       "      <td>111</td>\n",
       "      <td>TACGGAGGGTGCAAGCGTTGTCCGGAATCACTGGGTGTAAAGGGTG...</td>\n",
       "      <td>TACGGA ACGGAG CGGAGG GGAGGG GAGGGT AGGGTG GGGT...</td>\n",
       "    </tr>\n",
       "    <tr>\n",
       "      <th>4</th>\n",
       "      <td>ID-69686</td>\n",
       "      <td>1</td>\n",
       "      <td>5</td>\n",
       "      <td>111</td>\n",
       "      <td>TACGGAGGGTCCAAGCGTTGTCCGGAATCACTGGGTGTAAAGGGTG...</td>\n",
       "      <td>TACGGA ACGGAG CGGAGG GGAGGG GAGGGT AGGGTC GGGT...</td>\n",
       "    </tr>\n",
       "    <tr>\n",
       "      <th>...</th>\n",
       "      <td>...</td>\n",
       "      <td>...</td>\n",
       "      <td>...</td>\n",
       "      <td>...</td>\n",
       "      <td>...</td>\n",
       "      <td>...</td>\n",
       "    </tr>\n",
       "    <tr>\n",
       "      <th>27400</th>\n",
       "      <td>ID-50131</td>\n",
       "      <td>1</td>\n",
       "      <td>29</td>\n",
       "      <td>89</td>\n",
       "      <td>TACGTAAGGAGCGAGCGTTGTTCGGATTTATTGGGCGTAAAGGGCG...</td>\n",
       "      <td>TACGTA ACGTAA CGTAAG GTAAGG TAAGGA AAGGAG AGGA...</td>\n",
       "    </tr>\n",
       "    <tr>\n",
       "      <th>27402</th>\n",
       "      <td>ID-53233</td>\n",
       "      <td>1</td>\n",
       "      <td>9</td>\n",
       "      <td>99</td>\n",
       "      <td>TACGTAGGGTCCGAGCGTTGTCCGGAGTGACTGGGCGTAAAGCGCG...</td>\n",
       "      <td>TACGTA ACGTAG CGTAGG GTAGGG TAGGGT AGGGTC GGGT...</td>\n",
       "    </tr>\n",
       "    <tr>\n",
       "      <th>27405</th>\n",
       "      <td>ID-59236</td>\n",
       "      <td>1</td>\n",
       "      <td>5</td>\n",
       "      <td>41</td>\n",
       "      <td>TACGGAGGGTCCAAGCGTTATCCGGAATCACTGGGTTTAAAGGGTG...</td>\n",
       "      <td>TACGGA ACGGAG CGGAGG GGAGGG GAGGGT AGGGTC GGGT...</td>\n",
       "    </tr>\n",
       "    <tr>\n",
       "      <th>27408</th>\n",
       "      <td>ID-75469</td>\n",
       "      <td>0</td>\n",
       "      <td>10</td>\n",
       "      <td>97</td>\n",
       "      <td>TACCAGCACCCCGAGTGGTCGGGACGATTATTGGGCCTAAAGCATC...</td>\n",
       "      <td>TACCAG ACCAGC CCAGCA CAGCAC AGCACC GCACCC CACC...</td>\n",
       "    </tr>\n",
       "    <tr>\n",
       "      <th>27409</th>\n",
       "      <td>ID-89027</td>\n",
       "      <td>1</td>\n",
       "      <td>26</td>\n",
       "      <td>22</td>\n",
       "      <td>GACAGAGGTGGCAAGCGTTGCTCGGAGTTACTGGGCATAAAGGGCG...</td>\n",
       "      <td>GACAGA ACAGAG CAGAGG AGAGGT GAGGTG AGGTGG GGTG...</td>\n",
       "    </tr>\n",
       "  </tbody>\n",
       "</table>\n",
       "<p>25381 rows × 6 columns</p>\n",
       "</div>"
      ],
      "text/plain": [
       "             ID  kingdom_n  phylum_n  class_n  \\\n",
       "0      ID-10213          1         5      111   \n",
       "1      ID-24128          1         5      111   \n",
       "2      ID-89036          1         5      111   \n",
       "3      ID-65937          1         5      111   \n",
       "4      ID-69686          1         5      111   \n",
       "...         ...        ...       ...      ...   \n",
       "27400  ID-50131          1        29       89   \n",
       "27402  ID-53233          1         9       99   \n",
       "27405  ID-59236          1         5       41   \n",
       "27408  ID-75469          0        10       97   \n",
       "27409  ID-89027          1        26       22   \n",
       "\n",
       "                                                sequence  \\\n",
       "0      TACGGAGGGTGCAAGCGTTGTCCGGAATCACTGGGTGTAAAGGGTG...   \n",
       "1      TACGGAGGGTGCAAGCGTTGTCCGGAATCACTGGGTGTAAAGGGTG...   \n",
       "2      TACGGAGGGTGCAAGCGTTGTCCGGAATCACTGGGTGTAAAGGGTG...   \n",
       "3      TACGGAGGGTGCAAGCGTTGTCCGGAATCACTGGGTGTAAAGGGTG...   \n",
       "4      TACGGAGGGTCCAAGCGTTGTCCGGAATCACTGGGTGTAAAGGGTG...   \n",
       "...                                                  ...   \n",
       "27400  TACGTAAGGAGCGAGCGTTGTTCGGATTTATTGGGCGTAAAGGGCG...   \n",
       "27402  TACGTAGGGTCCGAGCGTTGTCCGGAGTGACTGGGCGTAAAGCGCG...   \n",
       "27405  TACGGAGGGTCCAAGCGTTATCCGGAATCACTGGGTTTAAAGGGTG...   \n",
       "27408  TACCAGCACCCCGAGTGGTCGGGACGATTATTGGGCCTAAAGCATC...   \n",
       "27409  GACAGAGGTGGCAAGCGTTGCTCGGAGTTACTGGGCATAAAGGGCG...   \n",
       "\n",
       "                                          sequence_kmers  \n",
       "0      TACGGA ACGGAG CGGAGG GGAGGG GAGGGT AGGGTG GGGT...  \n",
       "1      TACGGA ACGGAG CGGAGG GGAGGG GAGGGT AGGGTG GGGT...  \n",
       "2      TACGGA ACGGAG CGGAGG GGAGGG GAGGGT AGGGTG GGGT...  \n",
       "3      TACGGA ACGGAG CGGAGG GGAGGG GAGGGT AGGGTG GGGT...  \n",
       "4      TACGGA ACGGAG CGGAGG GGAGGG GAGGGT AGGGTC GGGT...  \n",
       "...                                                  ...  \n",
       "27400  TACGTA ACGTAA CGTAAG GTAAGG TAAGGA AAGGAG AGGA...  \n",
       "27402  TACGTA ACGTAG CGTAGG GTAGGG TAGGGT AGGGTC GGGT...  \n",
       "27405  TACGGA ACGGAG CGGAGG GGAGGG GAGGGT AGGGTC GGGT...  \n",
       "27408  TACCAG ACCAGC CCAGCA CAGCAC AGCACC GCACCC CACC...  \n",
       "27409  GACAGA ACAGAG CAGAGG AGAGGT GAGGTG AGGTGG GGTG...  \n",
       "\n",
       "[25381 rows x 6 columns]"
      ]
     },
     "execution_count": 2,
     "metadata": {},
     "output_type": "execute_result"
    }
   ],
   "source": [
    "data_df = pd.read_csv('taxonomy_preprocessed2.csv',index_col=0)\n",
    "data_df"
   ]
  },
  {
   "cell_type": "markdown",
   "id": "1abe05d1",
   "metadata": {},
   "source": [
    "## 4.2 Train and Test Split"
   ]
  },
  {
   "cell_type": "markdown",
   "id": "5dec02fb",
   "metadata": {},
   "source": [
    "(1) Split data into train data and test data"
   ]
  },
  {
   "cell_type": "code",
   "execution_count": 3,
   "id": "1a47499d",
   "metadata": {},
   "outputs": [],
   "source": [
    "split_ratio = 0.2  # The split ratio\n",
    "\n",
    "Train_data, test_data = train_test_split(data_df, test_size=split_ratio, random_state=1432)\n",
    "train_data, dev_data = train_test_split(Train_data, test_size=split_ratio, random_state=1432)"
   ]
  },
  {
   "cell_type": "markdown",
   "id": "9774adbe",
   "metadata": {},
   "source": [
    "(2) Change the data type from DataFrame to Dataset"
   ]
  },
  {
   "cell_type": "code",
   "execution_count": 4,
   "id": "70f79dcc",
   "metadata": {},
   "outputs": [],
   "source": [
    "train_data = Dataset(pa.Table.from_pandas(train_data))\n",
    "dev_data = Dataset(pa.Table.from_pandas(dev_data))\n",
    "test_data = Dataset(pa.Table.from_pandas(test_data))"
   ]
  },
  {
   "cell_type": "markdown",
   "id": "7fc421ad",
   "metadata": {},
   "source": [
    "## 4.3 Multi-task Learning Model Training based on LSTM"
   ]
  },
  {
   "cell_type": "markdown",
   "id": "2d19af41",
   "metadata": {},
   "source": [
    "(1) Change the DNA short sequences into vectors"
   ]
  },
  {
   "cell_type": "code",
   "execution_count": 5,
   "id": "751ce908",
   "metadata": {},
   "outputs": [
    {
     "name": "stderr",
     "output_type": "stream",
     "text": [
      "/home/ec2-user/anaconda3/envs/python3/lib/python3.8/site-packages/sklearn/feature_extraction/text.py:516: UserWarning: The parameter 'token_pattern' will not be used since 'tokenizer' is not None'\n",
      "  warnings.warn(\n"
     ]
    }
   ],
   "source": [
    "# 1. Tokenizer\n",
    "class Tokenizer(object):\n",
    "    def __call__(self, sequence):\n",
    "        return word_tokenize(sequence)\n",
    "\n",
    "vectorizer = CountVectorizer(tokenizer=Tokenizer())  # Construct the vectorizer\n",
    "\n",
    "vectorizer.fit(train_data['sequence_kmers'])  # Learn the vocabulary\n",
    "\n",
    "# Document-Term Matrix\n",
    "X_train = vectorizer.transform(train_data['sequence_kmers'])  # extract training set bags of words\n",
    "X_dev = vectorizer.transform(dev_data['sequence_kmers'])  # extract validation set bags of words\n",
    "X_test = vectorizer.transform(test_data['sequence_kmers'])  # extract test set bags of words\n",
    "\n",
    "vocab = vectorizer.vocabulary_"
   ]
  },
  {
   "cell_type": "markdown",
   "id": "b1c6ad3d",
   "metadata": {},
   "source": [
    "(2) Data Preprocessing"
   ]
  },
  {
   "cell_type": "code",
   "execution_count": 6,
   "id": "b2e04c90",
   "metadata": {},
   "outputs": [],
   "source": [
    "# 2. Data Preprocessing\n",
    "\n",
    "def encode_text(sample):\n",
    "    tokens = tokenize(sample['sequence_kmers'])  # Tokenize one document\n",
    "    \n",
    "    input_ids = []\n",
    "    for token in tokens:\n",
    "        if str.lower(token) in vocab:  # Skip words from the dev/test set that are not in the vocabulary.\n",
    "            input_ids.append(vocab[str.lower(token)]+1) # +1 is needed because we reserve 0 as a special character\n",
    "            \n",
    "    sample['input_ids'] = input_ids \n",
    "    return sample\n",
    "\n",
    "\n",
    "def get_text_length(sample):\n",
    "    tokens = tokenize(sample['sequence_kmers'])  # Tokenize one document\n",
    "    length = len(list(tokens))\n",
    "            \n",
    "    sample['len'] = length\n",
    "    return sample\n",
    "\n",
    "def convert_to_data_loader(dataset):\n",
    "    # convert from list to tensor\n",
    "    input_tensor = torch.from_numpy(np.array(dataset['input_ids']))\n",
    "    \n",
    "    label_tensor_k = torch.from_numpy(np.array(dataset['kingdom_n'])).long()\n",
    "    label_tensor_p = torch.from_numpy(np.array(dataset['phylum_n'])).long()\n",
    "    label_tensor_c = torch.from_numpy(np.array(dataset['class_n'])).long()\n",
    "    \n",
    "    len_tensor = torch.from_numpy(np.array(dataset['len'])).long() # --> Add len_tensor element\n",
    "    tensor_dataset = TensorDataset(input_tensor, label_tensor_k, label_tensor_p, label_tensor_c, len_tensor) # --> Add len_tensor element\n",
    "    loader = DataLoader(tensor_dataset, batch_size=batch_size, shuffle=True)\n",
    "\n",
    "    return loader"
   ]
  },
  {
   "cell_type": "code",
   "execution_count": 7,
   "id": "d303ae14",
   "metadata": {},
   "outputs": [
    {
     "data": {
      "application/vnd.jupyter.widget-view+json": {
       "model_id": "0ec6dd36fc0f45a19de64e65f3d83c2d",
       "version_major": 2,
       "version_minor": 0
      },
      "text/plain": [
       "  0%|          | 0/16243 [00:00<?, ?ex/s]"
      ]
     },
     "metadata": {},
     "output_type": "display_data"
    },
    {
     "data": {
      "application/vnd.jupyter.widget-view+json": {
       "model_id": "06617bfde6a34e1399e341ba3b48edd2",
       "version_major": 2,
       "version_minor": 0
      },
      "text/plain": [
       "  0%|          | 0/16243 [00:00<?, ?ex/s]"
      ]
     },
     "metadata": {},
     "output_type": "display_data"
    },
    {
     "data": {
      "application/vnd.jupyter.widget-view+json": {
       "model_id": "25bef3334fe742c2855c81ec28b60958",
       "version_major": 2,
       "version_minor": 0
      },
      "text/plain": [
       "  0%|          | 0/4061 [00:00<?, ?ex/s]"
      ]
     },
     "metadata": {},
     "output_type": "display_data"
    },
    {
     "data": {
      "application/vnd.jupyter.widget-view+json": {
       "model_id": "83602f52b79c4d029127eb7f960b0a32",
       "version_major": 2,
       "version_minor": 0
      },
      "text/plain": [
       "  0%|          | 0/4061 [00:00<?, ?ex/s]"
      ]
     },
     "metadata": {},
     "output_type": "display_data"
    },
    {
     "data": {
      "application/vnd.jupyter.widget-view+json": {
       "model_id": "8cf7cade15d743c1a5916120071cc6a1",
       "version_major": 2,
       "version_minor": 0
      },
      "text/plain": [
       "  0%|          | 0/5077 [00:00<?, ?ex/s]"
      ]
     },
     "metadata": {},
     "output_type": "display_data"
    },
    {
     "data": {
      "application/vnd.jupyter.widget-view+json": {
       "model_id": "a1bc5936b60a4fc1bae3e162819b3884",
       "version_major": 2,
       "version_minor": 0
      },
      "text/plain": [
       "  0%|          | 0/5077 [00:00<?, ?ex/s]"
      ]
     },
     "metadata": {},
     "output_type": "display_data"
    }
   ],
   "source": [
    "# Preprocess datasets\n",
    "batch_size = 32\n",
    "\n",
    "train_data = train_data.map(encode_text)\n",
    "train_data = train_data.map(get_text_length) # --> Map train_dataset to get_text_length method\n",
    "train_loader = convert_to_data_loader(train_data)\n",
    "\n",
    "dev_data = dev_data.map(encode_text)\n",
    "dev_data = dev_data.map(get_text_length)  # --> Map validation_dataset to get_text_length method\n",
    "dev_loader = convert_to_data_loader(dev_data)\n",
    "\n",
    "test_data = test_data.map(encode_text)\n",
    "test_data = test_data.map(get_text_length)  # --> Map test_dataset to get_text_length method\n",
    "test_loader = convert_to_data_loader(test_data)"
   ]
  },
  {
   "cell_type": "markdown",
   "id": "1b393ada",
   "metadata": {},
   "source": [
    "(3) Construct Multi-task learning model based on soft sharing parameter"
   ]
  },
  {
   "cell_type": "code",
   "execution_count": 8,
   "id": "2ad6ebb8",
   "metadata": {},
   "outputs": [],
   "source": [
    "# 3. Construct Multi-task learning model based on soft sharing parameter\n",
    "# 3.1 Build the basic model\n",
    "class STLNN(nn.Module):\n",
    "    def __init__(self, vocab_size, embedding_size, hidden_size1, hidden_size2, num_layers, num_classes):\n",
    "        \n",
    "        super(STLNN, self).__init__()\n",
    "        \n",
    "        self.embedding_size = embedding_size\n",
    "        self.num_layers = num_layers\n",
    "        self.hidden_size1 = hidden_size1\n",
    "        self.hidden_size2 = hidden_size2\n",
    "\n",
    "        self.embedding_layer = nn.Embedding(vocab_size,embedding_size) # embedding layer\n",
    "        # Hidden layer (LSTM layer) and the num_layers is the number of recurrent layers\n",
    "        self.hidden_layer = nn.LSTM(embedding_size,hidden_size1,num_layers,batch_first=True)\n",
    "        \n",
    "        self.activation = nn.ReLU() # Hidden layer\n",
    "        \n",
    "        self.output_layer= nn.Sequential(\n",
    "            nn.Linear(hidden_size1,hidden_size2),\n",
    "            nn.ReLU(),\n",
    "            nn.Dropout(),\n",
    "            nn.Linear(hidden_size2,num_classes)\n",
    "        )\n",
    "        \n",
    "    def forward (self, input_words, sequence_len):\n",
    "        # Input dimensions are:  (batch_size, seq_length)\n",
    "        embedded_words = self.embedding_layer(input_words)  # (batch_size, seq_length, embedding_size)\n",
    "        embedded_words = nn.utils.rnn.pack_padded_sequence(embedded_words,sequence_len,batch_first=True,enforce_sorted=False)\n",
    "        # Compute in LSTM layer\n",
    "        h0 = torch.randn(self.num_layers, len(input_words), self.hidden_size1) # --> Initialize hidden state h0\n",
    "        c0 = torch.randn(self.num_layers, len(input_words), self.hidden_size1) # --> Initialize cell state c0\n",
    "        embedded_words_h, (hn, cn)= self.hidden_layer(embedded_words, (h0,c0))  # --> LSTM layer\n",
    "        \n",
    "        # Get the last hidden state or cell state\n",
    "        embedded_words_h = hn[self.num_layers-1] # Short-term memory\n",
    "        # embedded_words_c = cn[self.num_layers-1] # Long-term memory\n",
    "\n",
    "        # Activation layer\n",
    "        h = self.activation(embedded_words_h) \n",
    "        \n",
    "        # Output layer\n",
    "        output = self.output_layer(h) \n",
    "\n",
    "        return output"
   ]
  },
  {
   "cell_type": "code",
   "execution_count": 9,
   "id": "acf1a501",
   "metadata": {},
   "outputs": [],
   "source": [
    "# 3.2 Build the multi-task learning model\n",
    "class TaskInstance(nn.Module):\n",
    "    def __init__(self, vocab_size, embedding_size, hidden_size1, hidden_size2, num_layers, num_classes, num_tasks):\n",
    "        super(TaskInstance, self).__init__()\n",
    "        \n",
    "        self.num_tasks = num_tasks\n",
    "        self.task_nets = nn.ModuleList()\n",
    "        for i in range(num_tasks):\n",
    "            self.task_nets.append(\n",
    "                STLNN(\n",
    "                    vocab_size=vocab_size,\n",
    "                    embedding_size=embedding_size,\n",
    "                    hidden_size1=hidden_size1,\n",
    "                    hidden_size2=hidden_size2[i],\n",
    "                    num_layers=num_layers,\n",
    "                    num_classes=num_classes[i]\n",
    "                )\n",
    "            )\n",
    "\n",
    "    \n",
    "    def forward (self, input_words, sequence_len):\n",
    "        return torch.cat(\n",
    "            tuple(task_model(input_words, sequence_len) for task_model in self.task_nets),\n",
    "            dim=1\n",
    "        )"
   ]
  },
  {
   "cell_type": "code",
   "execution_count": 10,
   "id": "d3dcba44",
   "metadata": {},
   "outputs": [],
   "source": [
    "# 3.3 Build the multi-task learning model based on soft sharing parameter and construct the loss function\n",
    "class SoftSharing(nn.Module):\n",
    "    def __init__(self, vocab_size, embedding_size, hidden_size1, hidden_size2, num_layers, num_classes, num_tasks):\n",
    "        super(SoftSharing, self).__init__()\n",
    "        self.model = TaskInstance(\n",
    "                    vocab_size=vocab_size,\n",
    "                    embedding_size=embedding_size,\n",
    "                    hidden_size1=hidden_size1,\n",
    "                    hidden_size2=hidden_size2,\n",
    "                    num_layers=num_layers,\n",
    "                    num_classes=num_classes,\n",
    "                    num_tasks=num_tasks\n",
    "        )\n",
    "    \n",
    "    def get_param_groups(self):\n",
    "\n",
    "        param_groups = []\n",
    "        for out in zip(*[n.named_parameters() for n in self.model.task_nets]):\n",
    "            if 'weight' in out[0][0]:\n",
    "                param_groups.append(\n",
    "                    [\n",
    "                        out[i][1]\n",
    "                        for i in range(len(out))\n",
    "                    ]\n",
    "                )\n",
    "        return param_groups\n",
    "\n",
    "    def soft_loss(self):\n",
    "        param_groups = self.get_param_groups()\n",
    "\n",
    "        soft_sharing_loss = torch.tensor(0.)\n",
    "        for i,params in enumerate(param_groups[:3]):\n",
    "            soft_sharing_loss += torch.norm(params[0] - params[1], p='fro')+ torch.norm(params[0] - params[2], p='fro')+ torch.norm(params[1] - params[2], p='fro')\n",
    "\n",
    "        return soft_sharing_loss/3\n",
    "\n",
    "    def forward(self, input_words, sequence_len, return_loss=False):\n",
    "        outputs = tuple([self.model(input_words, sequence_len)], )\n",
    "\n",
    "        if return_loss:\n",
    "            soft_loss = self.soft_loss()\n",
    "            outputs = outputs + (soft_loss, )\n",
    "\n",
    "        return outputs\n",
    "  "
   ]
  },
  {
   "cell_type": "markdown",
   "id": "c19575fe",
   "metadata": {},
   "source": [
    "(4) Construct the training model function"
   ]
  },
  {
   "cell_type": "code",
   "execution_count": 11,
   "id": "59ac17e1",
   "metadata": {},
   "outputs": [],
   "source": [
    "# 4. Train model\n",
    "def train_nn(num_epochs, learning_rate, model, train_dataloader, dev_dataloader):\n",
    "# def train_nn(num_epochs, learning_rate, model, train_dataloader):\n",
    "    \n",
    "#     learning_rate = 0.0005  # learning rate for the gradient descent optimizer, related to the step size\n",
    "\n",
    "    loss_fn = nn.CrossEntropyLoss()  # create loss function object\n",
    "    optimizer = optim.Adam(model.parameters(), lr=learning_rate)  # create the optimizer\n",
    "    \n",
    "    for e in range(num_epochs):\n",
    "        # Track performance on the training set as we are learning...\n",
    "        total_correct_k = 0\n",
    "        total_correct_p = 0\n",
    "        total_correct_c = 0\n",
    "        \n",
    "        total_trained_k = 0\n",
    "        total_trained_p = 0\n",
    "        total_trained_c = 0\n",
    "        \n",
    "        train_losses_k = []\n",
    "        train_losses_p = []\n",
    "        train_losses_c = []\n",
    "\n",
    "        model.train()  # Put the model in training mode.\n",
    "\n",
    "        for i, (batch_input_ids, batch_labels_k, batch_labels_p, batch_labels_c, batch_length) in enumerate(train_dataloader): # --> Add batch_length element\n",
    "            # Iterate over each batch of data\n",
    "            # print(f'batch no. = {i}')\n",
    "\n",
    "            optimizer.zero_grad()  # Reset the optimizer\n",
    "\n",
    "            # Use the model to perform forward inference on the input data.\n",
    "            # This will run the forward() function.\n",
    "            output = model(batch_input_ids, batch_length, return_loss = True) # --> Add batch_length parameter\n",
    "\n",
    "            # Vertical loss\n",
    "            batch_loss_k = loss_fn(torch.narrow(output[0],1, 0, num_classes_k), batch_labels_k)\n",
    "            train_losses_k.append(batch_loss_k.item())\n",
    "            \n",
    "            batch_loss_p = loss_fn(torch.narrow(output[0],1, num_classes_k, num_classes_p), batch_labels_p)\n",
    "            train_losses_p.append(batch_loss_p.item())\n",
    "            \n",
    "            batch_loss_c = loss_fn(torch.narrow(output[0],1, num_classes_p, num_classes_c), batch_labels_c)\n",
    "            train_losses_c.append(batch_loss_c.item())\n",
    "            \n",
    "            batch_loss = output[1]+(batch_loss_k+batch_loss_p+batch_loss_c)/3\n",
    "            \n",
    "            # Perform back propagation to compute the gradients with respect to each weight\n",
    "            batch_loss.backward()\n",
    "            # Update the weights using the compute gradients\n",
    "            optimizer.step()\n",
    "            # Record the loss from this sample to keep track of progress.\n",
    "\n",
    "            # Count correct labels so we can compute accuracy on the training set\n",
    "\n",
    "            predicted_labels_k = torch.narrow(output[0],1, 0, num_classes_k).argmax(1)\n",
    "            total_correct_k += (predicted_labels_k == batch_labels_k).sum().item()\n",
    "            total_trained_k += batch_labels_k.size(0)\n",
    "            \n",
    "            predicted_labels_p = torch.narrow(output[0],1, num_classes_k, num_classes_p).argmax(1)\n",
    "            total_correct_p += (predicted_labels_p == batch_labels_p).sum().item()\n",
    "            total_trained_p += batch_labels_p.size(0)\n",
    "            \n",
    "            predicted_labels_c = torch.narrow(output[0],1, num_classes_p, num_classes_c).argmax(1)\n",
    "            total_correct_c += (predicted_labels_c == batch_labels_c).sum().item()\n",
    "            total_trained_c += batch_labels_c.size(0)\n",
    "\n",
    "        train_accuracy_k = total_correct_k/total_trained_k*100\n",
    "        train_accuracy_p = total_correct_p/total_trained_p*100\n",
    "        train_accuracy_c = total_correct_c/total_trained_c*100\n",
    "\n",
    "        print(\"Epoch: {}/{}\".format((e+1), num_epochs),\n",
    "              \"Training Loss ('kingdom'): {:.4f}\".format(np.mean(train_losses_k)),\n",
    "              \"Training Accuracy ('kingdom'): {:.4f}%\".format(train_accuracy_k))\n",
    "        \n",
    "        print(\"Epoch: {}/{}\".format((e+1), num_epochs),\n",
    "              \"Training Loss ('phylum'): {:.4f}\".format(np.mean(train_losses_p)),\n",
    "              \"Training Accuracy ('phylum'): {:.4f}%\".format(train_accuracy_p))\n",
    "        \n",
    "        print(\"Epoch: {}/{}\".format((e+1), num_epochs),\n",
    "              \"Training Loss ('class'): {:.4f}\".format(np.mean(train_losses_c)),\n",
    "              \"Training Accuracy ('class'): {:.4f}%\".format(train_accuracy_c))\n",
    "        \n",
    "        model.eval()  # Switch model to evaluation mode\n",
    "        \n",
    "        total_correct_k = 0\n",
    "        total_correct_p = 0\n",
    "        total_correct_c = 0\n",
    "        \n",
    "        total_trained_k = 0\n",
    "        total_trained_p = 0\n",
    "        total_trained_c = 0\n",
    "        \n",
    "        dev_losses_k = []\n",
    "        dev_losses_p = []\n",
    "        dev_losses_c = []\n",
    "\n",
    "        for dev_input_ids, dev_labels_k, dev_labels_p, dev_labels_c, dev_length in dev_dataloader:  # --> Add dev_length element\n",
    "\n",
    "            optimizer.zero_grad()  # Reset the optimizer\n",
    "\n",
    "            # Use the model to perform forward inference on the input data.\n",
    "            # This will run the forward() function.\n",
    "            dev_output = model(dev_input_ids, dev_length, return_loss = True) # --> Add batch_length parameter\n",
    "            \n",
    "            # Compute the loss for the current batch of data\n",
    "            dev_loss_k = loss_fn(torch.narrow(dev_output[0],1, 0, num_classes_k), dev_labels_k)\n",
    "            dev_losses_k.append(dev_loss_k.item())\n",
    "            \n",
    "            dev_loss_p = loss_fn(torch.narrow(dev_output[0],1, num_classes_k, num_classes_p), dev_labels_p)\n",
    "            dev_losses_p.append(dev_loss_p.item())\n",
    "            \n",
    "            dev_loss_c = loss_fn(torch.narrow(dev_output[0],1, num_classes_p, num_classes_c), dev_labels_c)\n",
    "            dev_losses_c.append(dev_loss_c.item())\n",
    "            \n",
    "            dev_loss = dev_output[1]+(dev_loss_k + dev_loss_p + dev_loss_c) / 3       \n",
    "\n",
    "            # Perform back propagation to compute the gradients with respect to each weight\n",
    "            dev_loss.backward()\n",
    "\n",
    "            # Update the weights using the compute gradients\n",
    "            optimizer.step()\n",
    "            \n",
    "            # Count correct labels so we can compute accuracy on the validation set\n",
    "            predicted_labels_k = torch.narrow(dev_output[0],1, 0, num_classes_k).argmax(1)\n",
    "            total_correct_k += (predicted_labels_k == dev_labels_k).sum().item()\n",
    "            total_trained_k += dev_labels_k.size(0)\n",
    "            \n",
    "            predicted_labels_p = torch.narrow(dev_output[0],1, num_classes_k, num_classes_p).argmax(1)\n",
    "            total_correct_p += (predicted_labels_p == dev_labels_p).sum().item()\n",
    "            total_trained_p += dev_labels_p.size(0)\n",
    "            \n",
    "            predicted_labels_c = torch.narrow(dev_output[0],1, num_classes_p, num_classes_c).argmax(1)\n",
    "            total_correct_c += (predicted_labels_c == dev_labels_c).sum().item()\n",
    "            total_trained_c += dev_labels_c.size(0)\n",
    "            \n",
    "        dev_accuracy_k = total_correct_k/total_trained_k*100\n",
    "        dev_accuracy_p = total_correct_p/total_trained_p*100\n",
    "        dev_accuracy_c = total_correct_c/total_trained_c*100\n",
    "        \n",
    "        print(\"Epoch: {}/{}\".format((e+1), num_epochs),\n",
    "              \"Training Loss ('kingdom'): {:.4f}\".format(np.mean(dev_losses_k)),\n",
    "              \"Training Accuracy ('kingdom'): {:.4f}%\".format(dev_accuracy_k))\n",
    "        \n",
    "        print(\"Epoch: {}/{}\".format((e+1), num_epochs),\n",
    "              \"Training Loss ('phylum'): {:.4f}\".format(np.mean(dev_losses_p)),\n",
    "              \"Training Accuracy ('phylum'): {:.4f}%\".format(dev_accuracy_p))\n",
    "        \n",
    "        print(\"Epoch: {}/{}\".format((e+1), num_epochs),\n",
    "              \"Training Loss ('class'): {:.4f}\".format(np.mean(dev_losses_c)),\n",
    "              \"Training Accuracy ('class'): {:.4f}%\".format(dev_accuracy_c))\n",
    "        \n",
    "\n",
    "    return model"
   ]
  },
  {
   "cell_type": "markdown",
   "id": "7e861fd7",
   "metadata": {},
   "source": [
    "(5) Construct the prediction function"
   ]
  },
  {
   "cell_type": "code",
   "execution_count": 12,
   "id": "eef36ddf",
   "metadata": {},
   "outputs": [],
   "source": [
    "# 5. The prediction function\n",
    "def predict_nn(trained_model, test_loader):\n",
    "\n",
    "    trained_model.eval()\n",
    "\n",
    "    correct = 0  # count the number of correct classification labels\n",
    "\n",
    "    gold_labs_k = []  # gold labels to return\n",
    "    pred_labs_k = []  # predicted labels to return\n",
    "    \n",
    "    gold_labs_p = []  # gold labels to return\n",
    "    pred_labs_p = []  # predicted labels to return\n",
    "    \n",
    "    gold_labs_c = []  # gold labels to return\n",
    "    pred_labs_c = []  # predicted labels to return\n",
    "    \n",
    "    for inputs, labels_k, labels_p, labels_c, length in test_loader: # --> Add length element\n",
    "        test_output = trained_model(inputs, length)  # --> Add length parameter\n",
    "        predicted_labels_k = torch.narrow(test_output[0],1, 0, num_classes_k).argmax(1)\n",
    "        predicted_labels_p = torch.narrow(test_output[0],1, num_classes_k, num_classes_p).argmax(1)\n",
    "        predicted_labels_c = torch.narrow(test_output[0],1, num_classes_p, num_classes_c).argmax(1)\n",
    "\n",
    "        gold_labs_k.extend(labels_k.tolist())\n",
    "        pred_labs_k.extend(predicted_labels_k.tolist())\n",
    "        \n",
    "        gold_labs_p.extend(labels_p.tolist())\n",
    "        pred_labs_p.extend(predicted_labels_p.tolist())\n",
    "        \n",
    "        gold_labs_c.extend(labels_c.tolist())\n",
    "        pred_labs_c.extend(predicted_labels_c.tolist())\n",
    "    \n",
    "    return gold_labs_k, pred_labs_k, gold_labs_p, pred_labs_p, gold_labs_c, pred_labs_c"
   ]
  },
  {
   "cell_type": "markdown",
   "id": "35c9a5f1",
   "metadata": {},
   "source": [
    "(6) Train model"
   ]
  },
  {
   "cell_type": "code",
   "execution_count": null,
   "id": "76f233e7",
   "metadata": {},
   "outputs": [
    {
     "name": "stdout",
     "output_type": "stream",
     "text": [
      "Epoch: 3/10 Training Loss ('kingdom'): 0.0650 Training Accuracy ('kingdom'): 97.7406%\n",
      "Epoch: 3/10 Training Loss ('phylum'): 0.6011 Training Accuracy ('phylum'): 84.0300%\n",
      "Epoch: 3/10 Training Loss ('class'): 0.9543 Training Accuracy ('class'): 75.3309%\n",
      "Epoch: 3/10 Training Loss ('kingdom'): 0.0317 Training Accuracy ('kingdom'): 98.2763%\n",
      "Epoch: 3/10 Training Loss ('phylum'): 0.4240 Training Accuracy ('phylum'): 87.8355%\n",
      "Epoch: 3/10 Training Loss ('class'): 0.6348 Training Accuracy ('class'): 82.7875%\n",
      "Epoch: 4/10 Training Loss ('kingdom'): 0.0647 Training Accuracy ('kingdom'): 97.7406%\n",
      "Epoch: 4/10 Training Loss ('phylum'): 0.4785 Training Accuracy ('phylum'): 87.3299%\n",
      "Epoch: 4/10 Training Loss ('class'): 0.7650 Training Accuracy ('class'): 80.0837%\n",
      "Epoch: 4/10 Training Loss ('kingdom'): 0.0286 Training Accuracy ('kingdom'): 98.2763%\n",
      "Epoch: 4/10 Training Loss ('phylum'): 0.3213 Training Accuracy ('phylum'): 91.3076%\n",
      "Epoch: 4/10 Training Loss ('class'): 0.5005 Training Accuracy ('class'): 86.6289%\n",
      "Epoch: 5/10 Training Loss ('kingdom'): 0.0666 Training Accuracy ('kingdom'): 97.7406%\n",
      "Epoch: 5/10 Training Loss ('phylum'): 0.3923 Training Accuracy ('phylum'): 89.6940%\n",
      "Epoch: 5/10 Training Loss ('class'): 0.6533 Training Accuracy ('class'): 82.3801%\n",
      "Epoch: 5/10 Training Loss ('kingdom'): 0.0277 Training Accuracy ('kingdom'): 98.2763%\n",
      "Epoch: 5/10 Training Loss ('phylum'): 0.2614 Training Accuracy ('phylum'): 92.3910%\n",
      "Epoch: 5/10 Training Loss ('class'): 0.4163 Training Accuracy ('class'): 88.4265%\n",
      "Epoch: 6/10 Training Loss ('kingdom'): 0.0653 Training Accuracy ('kingdom'): 97.7406%\n",
      "Epoch: 6/10 Training Loss ('phylum'): 0.3365 Training Accuracy ('phylum'): 91.0238%\n",
      "Epoch: 6/10 Training Loss ('class'): 0.5507 Training Accuracy ('class'): 84.9905%\n",
      "Epoch: 6/10 Training Loss ('kingdom'): 0.0287 Training Accuracy ('kingdom'): 98.2763%\n",
      "Epoch: 6/10 Training Loss ('phylum'): 0.2146 Training Accuracy ('phylum'): 94.0409%\n",
      "Epoch: 6/10 Training Loss ('class'): 0.3376 Training Accuracy ('class'): 90.9136%\n",
      "Epoch: 7/10 Training Loss ('kingdom'): 0.0644 Training Accuracy ('kingdom'): 97.7406%\n",
      "Epoch: 7/10 Training Loss ('phylum'): 0.2785 Training Accuracy ('phylum'): 92.3413%\n",
      "Epoch: 7/10 Training Loss ('class'): 0.4777 Training Accuracy ('class'): 86.9421%\n",
      "Epoch: 7/10 Training Loss ('kingdom'): 0.0287 Training Accuracy ('kingdom'): 98.2763%\n",
      "Epoch: 7/10 Training Loss ('phylum'): 0.1793 Training Accuracy ('phylum'): 94.8535%\n",
      "Epoch: 7/10 Training Loss ('class'): 0.2767 Training Accuracy ('class'): 91.8493%\n"
     ]
    }
   ],
   "source": [
    "# 6. Construct and train a LSTM model\n",
    "num_layers = 1 # Set the number of recurrent layers     \n",
    "\n",
    "vocab_size = len(vectorizer.vocabulary_) + 1\n",
    "embedding_size = 30  # number of dimensions for embeddings\n",
    "hidden_size1 = 300 # number of hidden units\n",
    "hidden_size2 = [4,100,200]\n",
    "num_epochs = 10\n",
    "learning_rate = 0.005\n",
    "\n",
    "num_classes_k = len(np.unique(train_data['kingdom_n'])) \n",
    "num_classes_p = len(np.unique(train_data['phylum_n']))\n",
    "num_classes_c = len(np.unique(train_data['class_n']))\n",
    "\n",
    "num_classes = [num_classes_k, num_classes_p, num_classes_c]\n",
    "\n",
    "num_tasks = 3\n",
    "\n",
    "model_lstm = SoftSharing(vocab_size, embedding_size, hidden_size1, hidden_size2, num_layers, num_classes, num_tasks) # Creat a LSTM\n",
    "trained_model_lstm = train_nn(num_epochs, learning_rate, model_lstm, train_loader, dev_loader) # Train model"
   ]
  },
  {
   "cell_type": "code",
   "execution_count": null,
   "id": "05d5372c",
   "metadata": {},
   "outputs": [],
   "source": [
    "# Save model\n",
    "joblib.dump(trained_model_lstm, 'mtl_soft_n1_la7_b32_lr1.model')"
   ]
  },
  {
   "cell_type": "markdown",
   "id": "f0586043",
   "metadata": {},
   "source": [
    "(7) Model prediction"
   ]
  },
  {
   "cell_type": "code",
   "execution_count": 22,
   "id": "19deb83d",
   "metadata": {},
   "outputs": [],
   "source": [
    "# 7. Predict model on unseen data\n",
    "trained_model_lstm = joblib.load('mtl_soft_n1_la7_b32_lr1.model')\n",
    "\n",
    "gold_labs_k, pred_labs_k, gold_labs_p, pred_labs_p, gold_labs_c, pred_labs_c = predict_nn(trained_model_lstm, test_loader) # Predict the results of test data "
   ]
  },
  {
   "cell_type": "markdown",
   "id": "af197896",
   "metadata": {},
   "source": [
    "(8) Evaluate model and visualise the results"
   ]
  },
  {
   "cell_type": "markdown",
   "id": "98c83fa8",
   "metadata": {},
   "source": [
    "**$\\cdot$Kingdom**"
   ]
  },
  {
   "cell_type": "code",
   "execution_count": 23,
   "id": "d6a524d9",
   "metadata": {},
   "outputs": [
    {
     "name": "stdout",
     "output_type": "stream",
     "text": [
      "Accuracy = 0.9740003939334253\n",
      "Precision (macro average) = 0.48700019696671265\n",
      "Recall (macro average) = 0.5\n",
      "F1 score (macro average) = 0.4934144881261226\n",
      "              precision    recall  f1-score   support\n",
      "\n",
      "           0       0.00      0.00      0.00       132\n",
      "           1       0.97      1.00      0.99      4945\n",
      "\n",
      "    accuracy                           0.97      5077\n",
      "   macro avg       0.49      0.50      0.49      5077\n",
      "weighted avg       0.95      0.97      0.96      5077\n",
      "\n"
     ]
    },
    {
     "name": "stderr",
     "output_type": "stream",
     "text": [
      "/home/ec2-user/anaconda3/envs/python3/lib/python3.8/site-packages/sklearn/metrics/_classification.py:1308: UndefinedMetricWarning: Precision is ill-defined and being set to 0.0 in labels with no predicted samples. Use `zero_division` parameter to control this behavior.\n",
      "  _warn_prf(average, modifier, msg_start, len(result))\n",
      "/home/ec2-user/anaconda3/envs/python3/lib/python3.8/site-packages/sklearn/metrics/_classification.py:1308: UndefinedMetricWarning: Precision and F-score are ill-defined and being set to 0.0 in labels with no predicted samples. Use `zero_division` parameter to control this behavior.\n",
      "  _warn_prf(average, modifier, msg_start, len(result))\n",
      "/home/ec2-user/anaconda3/envs/python3/lib/python3.8/site-packages/sklearn/metrics/_classification.py:1308: UndefinedMetricWarning: Precision and F-score are ill-defined and being set to 0.0 in labels with no predicted samples. Use `zero_division` parameter to control this behavior.\n",
      "  _warn_prf(average, modifier, msg_start, len(result))\n",
      "/home/ec2-user/anaconda3/envs/python3/lib/python3.8/site-packages/sklearn/metrics/_classification.py:1308: UndefinedMetricWarning: Precision and F-score are ill-defined and being set to 0.0 in labels with no predicted samples. Use `zero_division` parameter to control this behavior.\n",
      "  _warn_prf(average, modifier, msg_start, len(result))\n"
     ]
    }
   ],
   "source": [
    "# 8.1 Evaluate the kingdom\n",
    "acc_k = accuracy_score(gold_labs_k, pred_labs_k)\n",
    "print(f'Accuracy = {acc_k}')\n",
    "\n",
    "prec_k = precision_score(gold_labs_k, pred_labs_k, average='macro')\n",
    "print(f'Precision (macro average) = {prec_k}')\n",
    "\n",
    "rec_k = recall_score(gold_labs_k, pred_labs_k, average='macro')\n",
    "print(f'Recall (macro average) = {rec_k}')\n",
    "\n",
    "f1_k = f1_score(gold_labs_k, pred_labs_k, average='macro')\n",
    "print(f'F1 score (macro average) = {f1_k}')\n",
    "\n",
    "# We can get all of these with a per-class breakdown using classification_report:\n",
    "print(classification_report(gold_labs_k, pred_labs_k))"
   ]
  },
  {
   "cell_type": "code",
   "execution_count": 24,
   "id": "c7c09781",
   "metadata": {},
   "outputs": [
    {
     "data": {
      "text/plain": [
       "<Figure size 7200x3600 with 0 Axes>"
      ]
     },
     "metadata": {},
     "output_type": "display_data"
    },
    {
     "data": {
      "image/png": "[encoded data removed]",
      "text/plain": [
       "<Figure size 1152x1152 with 2 Axes>"
      ]
     },
     "metadata": {
      "needs_background": "light"
     },
     "output_type": "display_data"
    }
   ],
   "source": [
    "# 8.2 Visualise the results\n",
    "cm_k = confusion_matrix(gold_labs_k, pred_labs_k)\n",
    "\n",
    "plt.figure()\n",
    "plt.matshow(cm_k, cmap = plt.cm.GnBu)\n",
    "plt.colorbar()\n",
    "\n",
    "for i in range(cm_k.shape[0]):\n",
    "    for j in range(cm_k.shape[1]):\n",
    "        plt.text(i,j,str(cm_k[i][j]),color='orange',fontsize='x-large',ha='center',va='center',weight='semibold')\n",
    "\n",
    "plt.xlabel('Predicted label',labelpad=-770, fontsize='x-large',color= 'green')\n",
    "plt.ylabel('Gold label',labelpad=15, fontsize='x-large',color= 'green')\n",
    "plt.title('Kingdom', fontsize='xx-large',pad=30,color= 'darkblue')\n",
    "plt.show()"
   ]
  },
  {
   "cell_type": "markdown",
   "id": "b71c72ce",
   "metadata": {},
   "source": [
    "**$\\cdot$Phylum**"
   ]
  },
  {
   "cell_type": "code",
   "execution_count": 25,
   "id": "b3aed990",
   "metadata": {},
   "outputs": [
    {
     "name": "stdout",
     "output_type": "stream",
     "text": [
      "Accuracy = 0.9499704549931062\n",
      "Precision (macro average) = 0.7993386299937426\n",
      "Recall (macro average) = 0.7490762889022181\n",
      "F1 score (macro average) = 0.7638579925252835\n",
      "              precision    recall  f1-score   support\n",
      "\n",
      "           0       0.00      0.00      0.00         1\n",
      "           1       0.93      0.96      0.94       316\n",
      "           2       0.98      0.97      0.98       350\n",
      "           3       0.58      0.67      0.62        21\n",
      "           4       0.00      0.00      0.00         2\n",
      "           5       0.99      0.99      0.99       651\n",
      "           6       1.00      0.33      0.50         3\n",
      "           7       0.97      1.00      0.98        28\n",
      "           8       0.79      0.73      0.76        26\n",
      "           9       0.88      0.89      0.88       195\n",
      "          10       0.94      0.81      0.87        21\n",
      "          11       0.98      0.93      0.95       169\n",
      "          12       0.86      0.76      0.81        33\n",
      "          13       0.94      0.83      0.88        18\n",
      "          14       1.00      0.67      0.80         6\n",
      "          15       0.97      0.95      0.96       366\n",
      "          16       1.00      1.00      1.00         8\n",
      "          17       1.00      0.75      0.86         4\n",
      "          18       0.36      0.71      0.48         7\n",
      "          19       0.91      0.96      0.93        73\n",
      "          20       0.00      0.00      0.00         8\n",
      "          21       0.95      0.91      0.93        23\n",
      "          22       0.91      0.80      0.85        25\n",
      "          24       0.77      0.66      0.71        41\n",
      "          25       0.60      0.60      0.60         5\n",
      "          26       0.97      0.96      0.96       306\n",
      "          27       0.96      0.98      0.97      1879\n",
      "          28       0.55      0.61      0.58        18\n",
      "          29       0.89      0.70      0.78        23\n",
      "          30       1.00      0.87      0.93        23\n",
      "          31       1.00      0.67      0.80         6\n",
      "          32       0.73      0.80      0.76        20\n",
      "          33       0.96      0.96      0.96       267\n",
      "          34       0.82      0.75      0.78        36\n",
      "          36       0.97      0.96      0.96        93\n",
      "          37       0.62      0.83      0.71         6\n",
      "\n",
      "    accuracy                           0.95      5077\n",
      "   macro avg       0.80      0.75      0.76      5077\n",
      "weighted avg       0.95      0.95      0.95      5077\n",
      "\n"
     ]
    },
    {
     "name": "stderr",
     "output_type": "stream",
     "text": [
      "/home/ec2-user/anaconda3/envs/python3/lib/python3.8/site-packages/sklearn/metrics/_classification.py:1308: UndefinedMetricWarning: Precision is ill-defined and being set to 0.0 in labels with no predicted samples. Use `zero_division` parameter to control this behavior.\n",
      "  _warn_prf(average, modifier, msg_start, len(result))\n",
      "/home/ec2-user/anaconda3/envs/python3/lib/python3.8/site-packages/sklearn/metrics/_classification.py:1308: UndefinedMetricWarning: Precision and F-score are ill-defined and being set to 0.0 in labels with no predicted samples. Use `zero_division` parameter to control this behavior.\n",
      "  _warn_prf(average, modifier, msg_start, len(result))\n",
      "/home/ec2-user/anaconda3/envs/python3/lib/python3.8/site-packages/sklearn/metrics/_classification.py:1308: UndefinedMetricWarning: Precision and F-score are ill-defined and being set to 0.0 in labels with no predicted samples. Use `zero_division` parameter to control this behavior.\n",
      "  _warn_prf(average, modifier, msg_start, len(result))\n",
      "/home/ec2-user/anaconda3/envs/python3/lib/python3.8/site-packages/sklearn/metrics/_classification.py:1308: UndefinedMetricWarning: Precision and F-score are ill-defined and being set to 0.0 in labels with no predicted samples. Use `zero_division` parameter to control this behavior.\n",
      "  _warn_prf(average, modifier, msg_start, len(result))\n"
     ]
    }
   ],
   "source": [
    "# 8.3 Evaluate the phylum\n",
    "acc_p = accuracy_score(gold_labs_p, pred_labs_p)\n",
    "print(f'Accuracy = {acc_p}')\n",
    "\n",
    "prec_p = precision_score(gold_labs_p, pred_labs_p, average='macro')\n",
    "print(f'Precision (macro average) = {prec_p}')\n",
    "\n",
    "rec_p = recall_score(gold_labs_p, pred_labs_p, average='macro')\n",
    "print(f'Recall (macro average) = {rec_p}')\n",
    "\n",
    "f1_p = f1_score(gold_labs_p, pred_labs_p, average='macro')\n",
    "print(f'F1 score (macro average) = {f1_p}')\n",
    "\n",
    "# We can get all of these with a per-class breakdown using classification_report:\n",
    "print(classification_report(gold_labs_p, pred_labs_p))"
   ]
  },
  {
   "cell_type": "code",
   "execution_count": 26,
   "id": "791bd01f",
   "metadata": {},
   "outputs": [
    {
     "data": {
      "text/plain": [
       "<Figure size 7200x3600 with 0 Axes>"
      ]
     },
     "metadata": {},
     "output_type": "display_data"
    },
    {
     "data": {
      "image/png": "[encoded data removed]",
      "text/plain": [
       "<Figure size 1152x1152 with 2 Axes>"
      ]
     },
     "metadata": {
      "needs_background": "light"
     },
     "output_type": "display_data"
    }
   ],
   "source": [
    "# 8.4 Visualise the results\n",
    "cm_p = confusion_matrix(gold_labs_p, pred_labs_p)\n",
    "\n",
    "plt.figure()\n",
    "plt.rcParams[\"figure.figsize\"] = [100.00, 50.00]\n",
    "plt.matshow(cm_p, cmap = plt.cm.GnBu)\n",
    "plt.colorbar()\n",
    "\n",
    "for i in range(cm_p.shape[0]):\n",
    "    for j in range(cm_p.shape[1]):\n",
    "        plt.text(i,j,str(cm_p[i][j]),color='orange',fontsize='small',ha='center',va='center',weight='semibold')\n",
    "\n",
    "plt.xlabel('Predicted label',labelpad=-760, fontsize='x-large',color= 'green')\n",
    "plt.ylabel('Gold label',labelpad=15, fontsize='x-large',color= 'green')\n",
    "plt.title('Phylum', fontsize='xx-large',pad=30,color= 'darkblue')\n",
    "plt.show()"
   ]
  },
  {
   "cell_type": "markdown",
   "id": "518a0be9",
   "metadata": {},
   "source": [
    "**$\\cdot$Class**"
   ]
  },
  {
   "cell_type": "code",
   "execution_count": 27,
   "id": "9fa70353",
   "metadata": {},
   "outputs": [
    {
     "name": "stdout",
     "output_type": "stream",
     "text": [
      "Accuracy = 0.9028954106755959\n",
      "Precision (macro average) = 0.7386165565036231\n",
      "Recall (macro average) = 0.7334010348107703\n",
      "F1 score (macro average) = 0.7078384888445896\n",
      "              precision    recall  f1-score   support\n",
      "\n",
      "           0       0.50      0.20      0.29         5\n",
      "           1       0.71      0.75      0.73        16\n",
      "           2       0.50      0.61      0.55        18\n",
      "           3       0.50      1.00      0.67         1\n",
      "           4       0.00      0.00      0.00         3\n",
      "           5       1.00      0.93      0.96        71\n",
      "           6       1.00      0.83      0.91        12\n",
      "           7       0.94      0.92      0.93        74\n",
      "           8       0.97      0.94      0.96        34\n",
      "           9       0.98      0.97      0.97       172\n",
      "          10       0.97      0.94      0.95       647\n",
      "          11       0.82      0.78      0.80        90\n",
      "          12       0.50      0.50      0.50         2\n",
      "          13       1.00      0.75      0.86         4\n",
      "          14       1.00      0.18      0.31        11\n",
      "          15       0.67      1.00      0.80         6\n",
      "          16       0.38      1.00      0.55         6\n",
      "          17       0.88      0.70      0.78        10\n",
      "          18       0.93      0.92      0.93        92\n",
      "          19       0.85      0.80      0.83       101\n",
      "          20       0.98      0.99      0.98       222\n",
      "          21       1.00      0.67      0.80         6\n",
      "          22       0.83      1.00      0.91         5\n",
      "          23       0.38      1.00      0.55         3\n",
      "          24       0.96      0.82      0.88        28\n",
      "          25       0.86      0.86      0.86        14\n",
      "          26       0.97      0.94      0.95       108\n",
      "          27       1.00      1.00      1.00         6\n",
      "          28       0.94      0.95      0.94       260\n",
      "          29       1.00      0.86      0.92         7\n",
      "          30       0.87      0.93      0.90       106\n",
      "          31       1.00      1.00      1.00        18\n",
      "          32       0.44      0.79      0.56        14\n",
      "          33       0.45      0.83      0.59         6\n",
      "          34       0.90      0.92      0.91       465\n",
      "          35       0.67      0.67      0.67         3\n",
      "          36       0.79      0.92      0.85        12\n",
      "          37       0.88      0.85      0.86        33\n",
      "          38       0.93      0.93      0.93        14\n",
      "          39       0.79      0.79      0.79        14\n",
      "          40       1.00      1.00      1.00         4\n",
      "          41       0.92      0.92      0.92       141\n",
      "          42       1.00      1.00      1.00         8\n",
      "          43       0.60      0.43      0.50         7\n",
      "          44       0.93      0.97      0.95       515\n",
      "          45       0.76      1.00      0.86        19\n",
      "          46       0.67      0.50      0.57         4\n",
      "          47       1.00      0.91      0.95        11\n",
      "          48       0.75      1.00      0.86         3\n",
      "          49       1.00      0.50      0.67         4\n",
      "          50       1.00      0.97      0.98        32\n",
      "          51       1.00      1.00      1.00         1\n",
      "          52       0.80      1.00      0.89         8\n",
      "          53       0.00      0.00      0.00         0\n",
      "          54       0.83      0.83      0.83        12\n",
      "          55       0.50      0.70      0.58        10\n",
      "          56       1.00      0.60      0.75         5\n",
      "          57       1.00      0.57      0.73         7\n",
      "          58       0.76      0.72      0.74        18\n",
      "          59       0.91      0.87      0.89        23\n",
      "          60       0.83      1.00      0.91         5\n",
      "          61       0.78      0.95      0.86        19\n",
      "          63       0.67      0.50      0.57         4\n",
      "          64       0.33      1.00      0.50         1\n",
      "          65       0.25      1.00      0.40         1\n",
      "          66       0.50      0.40      0.44         5\n",
      "          67       0.00      0.00      0.00         5\n",
      "          68       0.69      0.81      0.75        27\n",
      "          69       0.40      0.17      0.24        12\n",
      "          70       0.75      0.67      0.71         9\n",
      "          71       0.00      0.00      0.00         2\n",
      "          72       0.78      0.78      0.78        36\n",
      "          73       0.94      0.94      0.94        70\n",
      "          74       0.00      0.00      0.00         5\n",
      "          75       0.98      0.97      0.97       200\n",
      "          76       1.00      0.33      0.50         6\n",
      "          77       0.50      0.50      0.50         2\n",
      "          78       0.22      1.00      0.36         2\n",
      "          79       0.75      1.00      0.86         6\n",
      "          80       0.38      0.42      0.40        12\n",
      "          81       0.00      0.00      0.00        12\n",
      "          82       0.00      0.00      0.00         5\n",
      "          83       1.00      0.83      0.91         6\n",
      "          84       1.00      0.67      0.80         3\n",
      "          85       0.82      1.00      0.90        18\n",
      "          86       1.00      1.00      1.00         6\n",
      "          87       0.75      0.88      0.81        65\n",
      "          88       0.81      0.88      0.84        77\n",
      "          89       0.80      0.84      0.82        19\n",
      "          90       0.94      0.89      0.92        19\n",
      "          91       0.65      0.95      0.77        21\n",
      "          92       1.00      0.06      0.12        16\n",
      "          93       0.00      0.00      0.00         2\n",
      "          94       1.00      0.67      0.80        12\n",
      "          95       0.00      0.00      0.00         3\n",
      "          96       1.00      0.14      0.25         7\n",
      "          97       0.89      1.00      0.94        16\n",
      "          98       0.94      0.94      0.94        87\n",
      "          99       0.67      0.75      0.71         8\n",
      "         100       0.88      0.78      0.82        18\n",
      "         101       0.78      0.78      0.78         9\n",
      "         102       0.74      0.91      0.82        46\n",
      "         103       0.87      0.81      0.84        16\n",
      "         104       0.98      0.94      0.96        51\n",
      "         105       0.67      0.75      0.71         8\n",
      "         106       0.67      0.25      0.36         8\n",
      "         107       0.00      0.00      0.00         4\n",
      "         108       1.00      0.67      0.80        12\n",
      "         109       1.00      0.95      0.97        93\n",
      "         110       0.98      0.98      0.98       113\n",
      "         111       0.83      0.83      0.83         6\n",
      "         112       0.97      0.95      0.96       220\n",
      "         113       0.93      0.95      0.94        60\n",
      "         114       0.45      1.00      0.62         9\n",
      "         115       0.78      0.67      0.72        21\n",
      "         116       1.00      1.00      1.00         1\n",
      "\n",
      "    accuracy                           0.90      5077\n",
      "   macro avg       0.74      0.73      0.71      5077\n",
      "weighted avg       0.91      0.90      0.90      5077\n",
      "\n"
     ]
    },
    {
     "name": "stderr",
     "output_type": "stream",
     "text": [
      "/home/ec2-user/anaconda3/envs/python3/lib/python3.8/site-packages/sklearn/metrics/_classification.py:1308: UndefinedMetricWarning: Precision is ill-defined and being set to 0.0 in labels with no predicted samples. Use `zero_division` parameter to control this behavior.\n",
      "  _warn_prf(average, modifier, msg_start, len(result))\n",
      "/home/ec2-user/anaconda3/envs/python3/lib/python3.8/site-packages/sklearn/metrics/_classification.py:1308: UndefinedMetricWarning: Recall is ill-defined and being set to 0.0 in labels with no true samples. Use `zero_division` parameter to control this behavior.\n",
      "  _warn_prf(average, modifier, msg_start, len(result))\n",
      "/home/ec2-user/anaconda3/envs/python3/lib/python3.8/site-packages/sklearn/metrics/_classification.py:1308: UndefinedMetricWarning: Precision and F-score are ill-defined and being set to 0.0 in labels with no predicted samples. Use `zero_division` parameter to control this behavior.\n",
      "  _warn_prf(average, modifier, msg_start, len(result))\n",
      "/home/ec2-user/anaconda3/envs/python3/lib/python3.8/site-packages/sklearn/metrics/_classification.py:1308: UndefinedMetricWarning: Recall and F-score are ill-defined and being set to 0.0 in labels with no true samples. Use `zero_division` parameter to control this behavior.\n",
      "  _warn_prf(average, modifier, msg_start, len(result))\n",
      "/home/ec2-user/anaconda3/envs/python3/lib/python3.8/site-packages/sklearn/metrics/_classification.py:1308: UndefinedMetricWarning: Precision and F-score are ill-defined and being set to 0.0 in labels with no predicted samples. Use `zero_division` parameter to control this behavior.\n",
      "  _warn_prf(average, modifier, msg_start, len(result))\n",
      "/home/ec2-user/anaconda3/envs/python3/lib/python3.8/site-packages/sklearn/metrics/_classification.py:1308: UndefinedMetricWarning: Recall and F-score are ill-defined and being set to 0.0 in labels with no true samples. Use `zero_division` parameter to control this behavior.\n",
      "  _warn_prf(average, modifier, msg_start, len(result))\n",
      "/home/ec2-user/anaconda3/envs/python3/lib/python3.8/site-packages/sklearn/metrics/_classification.py:1308: UndefinedMetricWarning: Precision and F-score are ill-defined and being set to 0.0 in labels with no predicted samples. Use `zero_division` parameter to control this behavior.\n",
      "  _warn_prf(average, modifier, msg_start, len(result))\n",
      "/home/ec2-user/anaconda3/envs/python3/lib/python3.8/site-packages/sklearn/metrics/_classification.py:1308: UndefinedMetricWarning: Recall and F-score are ill-defined and being set to 0.0 in labels with no true samples. Use `zero_division` parameter to control this behavior.\n",
      "  _warn_prf(average, modifier, msg_start, len(result))\n"
     ]
    }
   ],
   "source": [
    "# 8.5 Evaluate the class\n",
    "acc_c = accuracy_score(gold_labs_c, pred_labs_c)\n",
    "print(f'Accuracy = {acc_c}')\n",
    "\n",
    "prec_c = precision_score(gold_labs_c, pred_labs_c, average='macro')\n",
    "print(f'Precision (macro average) = {prec_c}')\n",
    "\n",
    "rec_c = recall_score(gold_labs_c, pred_labs_c, average='macro')\n",
    "print(f'Recall (macro average) = {rec_c}')\n",
    "\n",
    "f1_c = f1_score(gold_labs_c, pred_labs_c, average='macro')\n",
    "print(f'F1 score (macro average) = {f1_c}')\n",
    "\n",
    "# We can get all of these with a per-class breakdown using classification_report:\n",
    "print(classification_report(gold_labs_c, pred_labs_c))"
   ]
  },
  {
   "cell_type": "code",
   "execution_count": 28,
   "id": "8cac3b28",
   "metadata": {},
   "outputs": [
    {
     "data": {
      "text/plain": [
       "<Figure size 7200x3600 with 0 Axes>"
      ]
     },
     "metadata": {},
     "output_type": "display_data"
    },
    {
     "data": {
      "image/png": "[encoded data removed]",
      "text/plain": [
       "<Figure size 1152x1152 with 2 Axes>"
      ]
     },
     "metadata": {
      "needs_background": "light"
     },
     "output_type": "display_data"
    }
   ],
   "source": [
    "# 8.6 Visualise the results\n",
    "cm_c = confusion_matrix(gold_labs_c, pred_labs_c)\n",
    "\n",
    "plt.figure()\n",
    "plt.rcParams[\"figure.figsize\"] = [100.00, 50.00]\n",
    "plt.matshow(cm_c, cmap = plt.cm.GnBu)\n",
    "plt.colorbar()\n",
    "\n",
    "for i in range(cm_c.shape[0]):\n",
    "    for j in range(cm_c.shape[1]):\n",
    "        if cm_c[i][j] !=0:\n",
    "            plt.text(i,j,str(cm_c[i][j]),color='orange',fontsize='small',ha='center',va='center',weight='normal')\n",
    "\n",
    "plt.xlabel('Predicted label',labelpad=-760, fontsize='x-large',color= 'green')\n",
    "plt.ylabel('Gold label',labelpad=15, fontsize='x-large',color= 'green')\n",
    "plt.title('Class', fontsize='xx-large',pad=30,color= 'darkblue')\n",
    "plt.show()"
   ]
  }
 ],
 "metadata": {
  "kernelspec": {
   "display_name": "conda_python3",
   "language": "python",
   "name": "conda_python3"
  },
  "language_info": {
   "codemirror_mode": {
    "name": "ipython",
    "version": 3
   },
   "file_extension": ".py",
   "mimetype": "text/x-python",
   "name": "python",
   "nbconvert_exporter": "python",
   "pygments_lexer": "ipython3",
   "version": "3.8.12"
  }
 },
 "nbformat": 4,
 "nbformat_minor": 5
}
