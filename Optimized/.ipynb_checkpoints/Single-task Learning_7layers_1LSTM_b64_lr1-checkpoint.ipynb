{
 "cells": [
  {
   "cell_type": "markdown",
   "id": "7877c41f",
   "metadata": {},
   "source": [
    "# 2. Model Training (Single-Task Learning Model)"
   ]
  },
  {
   "cell_type": "code",
   "execution_count": 1,
   "id": "8fbdbebb",
   "metadata": {},
   "outputs": [],
   "source": [
    "# import libraries\n",
    "import torch\n",
    "import nltk\n",
    "import joblib\n",
    "import pandas as pd\n",
    "import numpy as np\n",
    "import pyarrow as pa\n",
    "import matplotlib.pyplot as plt\n",
    "\n",
    "from gensim.models import word2vec\n",
    "from gensim.utils import tokenize\n",
    "from torch import nn\n",
    "from torch import optim\n",
    "from datasets import Dataset\n",
    "from torch.utils.data import DataLoader, TensorDataset\n",
    "\n",
    "from sklearn.model_selection import train_test_split\n",
    "from sklearn.feature_extraction.text import CountVectorizer\n",
    "from nltk import word_tokenize\n",
    "\n",
    "from sklearn.metrics import confusion_matrix\n",
    "from sklearn.metrics import accuracy_score, precision_score, recall_score, f1_score, classification_report"
   ]
  },
  {
   "cell_type": "markdown",
   "id": "5c3613de",
   "metadata": {},
   "source": [
    "## 2.1 Load Data"
   ]
  },
  {
   "cell_type": "code",
   "execution_count": 2,
   "id": "4278dddc",
   "metadata": {
    "scrolled": true
   },
   "outputs": [
    {
     "data": {
      "text/html": [
       "<div>\n",
       "<style scoped>\n",
       "    .dataframe tbody tr th:only-of-type {\n",
       "        vertical-align: middle;\n",
       "    }\n",
       "\n",
       "    .dataframe tbody tr th {\n",
       "        vertical-align: top;\n",
       "    }\n",
       "\n",
       "    .dataframe thead th {\n",
       "        text-align: right;\n",
       "    }\n",
       "</style>\n",
       "<table border=\"1\" class=\"dataframe\">\n",
       "  <thead>\n",
       "    <tr style=\"text-align: right;\">\n",
       "      <th></th>\n",
       "      <th>ID</th>\n",
       "      <th>kingdom_n</th>\n",
       "      <th>phylum_n</th>\n",
       "      <th>class_n</th>\n",
       "      <th>sequence</th>\n",
       "      <th>sequence_kmers</th>\n",
       "    </tr>\n",
       "  </thead>\n",
       "  <tbody>\n",
       "    <tr>\n",
       "      <th>0</th>\n",
       "      <td>ID-10213</td>\n",
       "      <td>1</td>\n",
       "      <td>5</td>\n",
       "      <td>111</td>\n",
       "      <td>TACGGAGGGTGCAAGCGTTGTCCGGAATCACTGGGTGTAAAGGGTG...</td>\n",
       "      <td>TACGGA ACGGAG CGGAGG GGAGGG GAGGGT AGGGTG GGGT...</td>\n",
       "    </tr>\n",
       "    <tr>\n",
       "      <th>1</th>\n",
       "      <td>ID-24128</td>\n",
       "      <td>1</td>\n",
       "      <td>5</td>\n",
       "      <td>111</td>\n",
       "      <td>TACGGAGGGTGCAAGCGTTGTCCGGAATCACTGGGTGTAAAGGGTG...</td>\n",
       "      <td>TACGGA ACGGAG CGGAGG GGAGGG GAGGGT AGGGTG GGGT...</td>\n",
       "    </tr>\n",
       "    <tr>\n",
       "      <th>2</th>\n",
       "      <td>ID-89036</td>\n",
       "      <td>1</td>\n",
       "      <td>5</td>\n",
       "      <td>111</td>\n",
       "      <td>TACGGAGGGTGCAAGCGTTGTCCGGAATCACTGGGTGTAAAGGGTG...</td>\n",
       "      <td>TACGGA ACGGAG CGGAGG GGAGGG GAGGGT AGGGTG GGGT...</td>\n",
       "    </tr>\n",
       "    <tr>\n",
       "      <th>3</th>\n",
       "      <td>ID-65937</td>\n",
       "      <td>1</td>\n",
       "      <td>5</td>\n",
       "      <td>111</td>\n",
       "      <td>TACGGAGGGTGCAAGCGTTGTCCGGAATCACTGGGTGTAAAGGGTG...</td>\n",
       "      <td>TACGGA ACGGAG CGGAGG GGAGGG GAGGGT AGGGTG GGGT...</td>\n",
       "    </tr>\n",
       "    <tr>\n",
       "      <th>4</th>\n",
       "      <td>ID-69686</td>\n",
       "      <td>1</td>\n",
       "      <td>5</td>\n",
       "      <td>111</td>\n",
       "      <td>TACGGAGGGTCCAAGCGTTGTCCGGAATCACTGGGTGTAAAGGGTG...</td>\n",
       "      <td>TACGGA ACGGAG CGGAGG GGAGGG GAGGGT AGGGTC GGGT...</td>\n",
       "    </tr>\n",
       "    <tr>\n",
       "      <th>...</th>\n",
       "      <td>...</td>\n",
       "      <td>...</td>\n",
       "      <td>...</td>\n",
       "      <td>...</td>\n",
       "      <td>...</td>\n",
       "      <td>...</td>\n",
       "    </tr>\n",
       "    <tr>\n",
       "      <th>27400</th>\n",
       "      <td>ID-50131</td>\n",
       "      <td>1</td>\n",
       "      <td>29</td>\n",
       "      <td>89</td>\n",
       "      <td>TACGTAAGGAGCGAGCGTTGTTCGGATTTATTGGGCGTAAAGGGCG...</td>\n",
       "      <td>TACGTA ACGTAA CGTAAG GTAAGG TAAGGA AAGGAG AGGA...</td>\n",
       "    </tr>\n",
       "    <tr>\n",
       "      <th>27402</th>\n",
       "      <td>ID-53233</td>\n",
       "      <td>1</td>\n",
       "      <td>9</td>\n",
       "      <td>99</td>\n",
       "      <td>TACGTAGGGTCCGAGCGTTGTCCGGAGTGACTGGGCGTAAAGCGCG...</td>\n",
       "      <td>TACGTA ACGTAG CGTAGG GTAGGG TAGGGT AGGGTC GGGT...</td>\n",
       "    </tr>\n",
       "    <tr>\n",
       "      <th>27405</th>\n",
       "      <td>ID-59236</td>\n",
       "      <td>1</td>\n",
       "      <td>5</td>\n",
       "      <td>41</td>\n",
       "      <td>TACGGAGGGTCCAAGCGTTATCCGGAATCACTGGGTTTAAAGGGTG...</td>\n",
       "      <td>TACGGA ACGGAG CGGAGG GGAGGG GAGGGT AGGGTC GGGT...</td>\n",
       "    </tr>\n",
       "    <tr>\n",
       "      <th>27408</th>\n",
       "      <td>ID-75469</td>\n",
       "      <td>0</td>\n",
       "      <td>10</td>\n",
       "      <td>97</td>\n",
       "      <td>TACCAGCACCCCGAGTGGTCGGGACGATTATTGGGCCTAAAGCATC...</td>\n",
       "      <td>TACCAG ACCAGC CCAGCA CAGCAC AGCACC GCACCC CACC...</td>\n",
       "    </tr>\n",
       "    <tr>\n",
       "      <th>27409</th>\n",
       "      <td>ID-89027</td>\n",
       "      <td>1</td>\n",
       "      <td>26</td>\n",
       "      <td>22</td>\n",
       "      <td>GACAGAGGTGGCAAGCGTTGCTCGGAGTTACTGGGCATAAAGGGCG...</td>\n",
       "      <td>GACAGA ACAGAG CAGAGG AGAGGT GAGGTG AGGTGG GGTG...</td>\n",
       "    </tr>\n",
       "  </tbody>\n",
       "</table>\n",
       "<p>25381 rows × 6 columns</p>\n",
       "</div>"
      ],
      "text/plain": [
       "             ID  kingdom_n  phylum_n  class_n  \\\n",
       "0      ID-10213          1         5      111   \n",
       "1      ID-24128          1         5      111   \n",
       "2      ID-89036          1         5      111   \n",
       "3      ID-65937          1         5      111   \n",
       "4      ID-69686          1         5      111   \n",
       "...         ...        ...       ...      ...   \n",
       "27400  ID-50131          1        29       89   \n",
       "27402  ID-53233          1         9       99   \n",
       "27405  ID-59236          1         5       41   \n",
       "27408  ID-75469          0        10       97   \n",
       "27409  ID-89027          1        26       22   \n",
       "\n",
       "                                                sequence  \\\n",
       "0      TACGGAGGGTGCAAGCGTTGTCCGGAATCACTGGGTGTAAAGGGTG...   \n",
       "1      TACGGAGGGTGCAAGCGTTGTCCGGAATCACTGGGTGTAAAGGGTG...   \n",
       "2      TACGGAGGGTGCAAGCGTTGTCCGGAATCACTGGGTGTAAAGGGTG...   \n",
       "3      TACGGAGGGTGCAAGCGTTGTCCGGAATCACTGGGTGTAAAGGGTG...   \n",
       "4      TACGGAGGGTCCAAGCGTTGTCCGGAATCACTGGGTGTAAAGGGTG...   \n",
       "...                                                  ...   \n",
       "27400  TACGTAAGGAGCGAGCGTTGTTCGGATTTATTGGGCGTAAAGGGCG...   \n",
       "27402  TACGTAGGGTCCGAGCGTTGTCCGGAGTGACTGGGCGTAAAGCGCG...   \n",
       "27405  TACGGAGGGTCCAAGCGTTATCCGGAATCACTGGGTTTAAAGGGTG...   \n",
       "27408  TACCAGCACCCCGAGTGGTCGGGACGATTATTGGGCCTAAAGCATC...   \n",
       "27409  GACAGAGGTGGCAAGCGTTGCTCGGAGTTACTGGGCATAAAGGGCG...   \n",
       "\n",
       "                                          sequence_kmers  \n",
       "0      TACGGA ACGGAG CGGAGG GGAGGG GAGGGT AGGGTG GGGT...  \n",
       "1      TACGGA ACGGAG CGGAGG GGAGGG GAGGGT AGGGTG GGGT...  \n",
       "2      TACGGA ACGGAG CGGAGG GGAGGG GAGGGT AGGGTG GGGT...  \n",
       "3      TACGGA ACGGAG CGGAGG GGAGGG GAGGGT AGGGTG GGGT...  \n",
       "4      TACGGA ACGGAG CGGAGG GGAGGG GAGGGT AGGGTC GGGT...  \n",
       "...                                                  ...  \n",
       "27400  TACGTA ACGTAA CGTAAG GTAAGG TAAGGA AAGGAG AGGA...  \n",
       "27402  TACGTA ACGTAG CGTAGG GTAGGG TAGGGT AGGGTC GGGT...  \n",
       "27405  TACGGA ACGGAG CGGAGG GGAGGG GAGGGT AGGGTC GGGT...  \n",
       "27408  TACCAG ACCAGC CCAGCA CAGCAC AGCACC GCACCC CACC...  \n",
       "27409  GACAGA ACAGAG CAGAGG AGAGGT GAGGTG AGGTGG GGTG...  \n",
       "\n",
       "[25381 rows x 6 columns]"
      ]
     },
     "execution_count": 2,
     "metadata": {},
     "output_type": "execute_result"
    }
   ],
   "source": [
    "data_df = pd.read_csv('taxonomy_preprocessed2.csv',index_col=0)\n",
    "data_df"
   ]
  },
  {
   "cell_type": "markdown",
   "id": "427f87db",
   "metadata": {},
   "source": [
    "## 2.2 Train and Test Split"
   ]
  },
  {
   "cell_type": "markdown",
   "id": "37a1f359",
   "metadata": {},
   "source": [
    "(1) Split data into train data and test data"
   ]
  },
  {
   "cell_type": "code",
   "execution_count": 3,
   "id": "d302d6cc",
   "metadata": {},
   "outputs": [],
   "source": [
    "split_ratio = 0.2  # The split ratio\n",
    "\n",
    "Train_data, test_data = train_test_split(data_df, test_size=split_ratio, random_state=1432)\n",
    "train_data, dev_data = train_test_split(Train_data, test_size=split_ratio, random_state=1432)"
   ]
  },
  {
   "cell_type": "markdown",
   "id": "b4e4a2e9",
   "metadata": {},
   "source": [
    "(2) Change the data type from DataFrame to Dataset"
   ]
  },
  {
   "cell_type": "code",
   "execution_count": 4,
   "id": "bf4c4fec",
   "metadata": {},
   "outputs": [],
   "source": [
    "train_data = Dataset(pa.Table.from_pandas(train_data))\n",
    "dev_data = Dataset(pa.Table.from_pandas(dev_data))\n",
    "test_data = Dataset(pa.Table.from_pandas(test_data))"
   ]
  },
  {
   "cell_type": "code",
   "execution_count": 5,
   "id": "c4ef9f8a",
   "metadata": {},
   "outputs": [],
   "source": [
    "# sequence_kmers = [list(tokenize(substrings)) for substrings in train_data['sequence_kmers']]\n",
    "# emb_model = word2vec.Word2Vec(sequence_kmers, sg=1, min_count=1, window=3, vector_size=100)\n",
    "# # emb_model.wv['AAAGGG']"
   ]
  },
  {
   "cell_type": "markdown",
   "id": "f4b3f7e7",
   "metadata": {},
   "source": [
    "## 2.3 LSTM Model Training"
   ]
  },
  {
   "cell_type": "markdown",
   "id": "10366a65",
   "metadata": {},
   "source": [
    "(1) Change the DNA short sequences into vectors"
   ]
  },
  {
   "cell_type": "code",
   "execution_count": 6,
   "id": "90beff75",
   "metadata": {},
   "outputs": [
    {
     "name": "stderr",
     "output_type": "stream",
     "text": [
      "/home/ec2-user/anaconda3/envs/python3/lib/python3.8/site-packages/sklearn/feature_extraction/text.py:516: UserWarning: The parameter 'token_pattern' will not be used since 'tokenizer' is not None'\n",
      "  warnings.warn(\n"
     ]
    }
   ],
   "source": [
    "# Tokenizer\n",
    "class Tokenizer(object):\n",
    "    def __call__(self, sequence):\n",
    "        return word_tokenize(sequence)\n",
    "\n",
    "vectorizer = CountVectorizer(tokenizer=Tokenizer())  # Construct the vectorizer\n",
    "\n",
    "vectorizer.fit(train_data['sequence_kmers'])  # Learn the vocabulary\n",
    "\n",
    "# Document-Term Matrix\n",
    "X_train = vectorizer.transform(train_data['sequence_kmers'])  # extract training set bags of words\n",
    "X_dev = vectorizer.transform(dev_data['sequence_kmers'])  # extract validation set bags of words\n",
    "X_test = vectorizer.transform(test_data['sequence_kmers'])  # extract test set bags of words\n",
    "\n",
    "vocab = vectorizer.vocabulary_"
   ]
  },
  {
   "cell_type": "markdown",
   "id": "9b01df3b",
   "metadata": {},
   "source": [
    "(2) Data Preprocessing"
   ]
  },
  {
   "cell_type": "code",
   "execution_count": 7,
   "id": "fcc50aaf",
   "metadata": {},
   "outputs": [],
   "source": [
    "# 2. Data Preprocessing\n",
    "\n",
    "def encode_text(sample):\n",
    "    tokens = tokenize(sample['sequence_kmers'])  # Tokenize one document\n",
    "    \n",
    "    input_ids = []\n",
    "    for token in tokens:\n",
    "        if str.lower(token) in vocab:  # Skip words from the dev/test set that are not in the vocabulary.\n",
    "            input_ids.append(vocab[str.lower(token)]+1) # +1 is needed because we reserve 0 as a special character\n",
    "            \n",
    "    sample['input_ids'] = input_ids \n",
    "    return sample\n",
    "\n",
    "def get_text_length(sample):\n",
    "    tokens = tokenize(sample['sequence_kmers'])  # Tokenize one document\n",
    "    length = len(list(tokens))\n",
    "            \n",
    "    sample['len'] = length\n",
    "    return sample\n",
    "\n",
    "def convert_to_data_loader(dataset, flag):\n",
    "    # convert from list to tensor\n",
    "    input_tensor = torch.from_numpy(np.array(dataset['input_ids']))\n",
    "    if flag == 0:\n",
    "        label_tensor = torch.from_numpy(np.array(dataset['kingdom_n'])).long()\n",
    "    elif flag == 1:\n",
    "        label_tensor = torch.from_numpy(np.array(dataset['phylum_n'])).long()\n",
    "    elif flag == 2:\n",
    "        label_tensor = torch.from_numpy(np.array(dataset['class_n'])).long()\n",
    "    \n",
    "    len_tensor = torch.from_numpy(np.array(dataset['len'])).long() # --> Add len_tensor element\n",
    "    tensor_dataset = TensorDataset(input_tensor, label_tensor, len_tensor) # --> Add len_tensor element\n",
    "    loader = DataLoader(tensor_dataset, batch_size=batch_size, shuffle=True)\n",
    "\n",
    "    return loader"
   ]
  },
  {
   "cell_type": "code",
   "execution_count": 8,
   "id": "385572df",
   "metadata": {},
   "outputs": [
    {
     "data": {
      "application/vnd.jupyter.widget-view+json": {
       "model_id": "ae77a83cb77b4c1abdf56e07f7137cf2",
       "version_major": 2,
       "version_minor": 0
      },
      "text/plain": [
       "  0%|          | 0/16243 [00:00<?, ?ex/s]"
      ]
     },
     "metadata": {},
     "output_type": "display_data"
    },
    {
     "data": {
      "application/vnd.jupyter.widget-view+json": {
       "model_id": "7e98519fd04c41bab395e4ccb1dbe9dd",
       "version_major": 2,
       "version_minor": 0
      },
      "text/plain": [
       "  0%|          | 0/16243 [00:00<?, ?ex/s]"
      ]
     },
     "metadata": {},
     "output_type": "display_data"
    },
    {
     "data": {
      "application/vnd.jupyter.widget-view+json": {
       "model_id": "3c273b9687774490990233e39b60d8f7",
       "version_major": 2,
       "version_minor": 0
      },
      "text/plain": [
       "  0%|          | 0/4061 [00:00<?, ?ex/s]"
      ]
     },
     "metadata": {},
     "output_type": "display_data"
    },
    {
     "data": {
      "application/vnd.jupyter.widget-view+json": {
       "model_id": "1b7a2c3032714528a2a370bcbd7aa8d9",
       "version_major": 2,
       "version_minor": 0
      },
      "text/plain": [
       "  0%|          | 0/4061 [00:00<?, ?ex/s]"
      ]
     },
     "metadata": {},
     "output_type": "display_data"
    },
    {
     "data": {
      "application/vnd.jupyter.widget-view+json": {
       "model_id": "54a6d379e7c14e0696885d55803247ef",
       "version_major": 2,
       "version_minor": 0
      },
      "text/plain": [
       "  0%|          | 0/5077 [00:00<?, ?ex/s]"
      ]
     },
     "metadata": {},
     "output_type": "display_data"
    },
    {
     "data": {
      "application/vnd.jupyter.widget-view+json": {
       "model_id": "0202e344f12d47d184a85a52e4be5d11",
       "version_major": 2,
       "version_minor": 0
      },
      "text/plain": [
       "  0%|          | 0/5077 [00:00<?, ?ex/s]"
      ]
     },
     "metadata": {},
     "output_type": "display_data"
    }
   ],
   "source": [
    "# Preprocess datasets\n",
    "batch_size = 64\n",
    "\n",
    "train_data = train_data.map(encode_text)\n",
    "train_data = train_data.map(get_text_length) # --> Map train_dataset to get_text_length method\n",
    "train_loader_k = convert_to_data_loader(train_data, 0)\n",
    "train_loader_p = convert_to_data_loader(train_data, 1)\n",
    "train_loader_c = convert_to_data_loader(train_data, 2)\n",
    "\n",
    "dev_data = dev_data.map(encode_text)\n",
    "dev_data = dev_data.map(get_text_length)  # --> Map test_dataset to get_text_length method\n",
    "dev_loader_k = convert_to_data_loader(dev_data, 0)\n",
    "dev_loader_p = convert_to_data_loader(dev_data, 1)\n",
    "dev_loader_c = convert_to_data_loader(dev_data, 2)\n",
    "\n",
    "test_data = test_data.map(encode_text)\n",
    "test_data = test_data.map(get_text_length)  # --> Map test_dataset to get_text_length method\n",
    "test_loader_k = convert_to_data_loader(test_data, 0)\n",
    "test_loader_p = convert_to_data_loader(test_data, 1)\n",
    "test_loader_c = convert_to_data_loader(test_data, 2)"
   ]
  },
  {
   "cell_type": "markdown",
   "id": "134d6d9d",
   "metadata": {},
   "source": [
    "(3) Construct Single-task learning model"
   ]
  },
  {
   "cell_type": "code",
   "execution_count": 9,
   "id": "5dfe811f",
   "metadata": {},
   "outputs": [],
   "source": [
    "# 3. Construct Single-task learning model\n",
    "class DNAClassifierWithLSTM(nn.Module):\n",
    "    \n",
    "    def __init__(self, vocab_size, embedding_size, hidden_size1, hidden_size2, num_layers, num_classes): \n",
    "        super(DNAClassifierWithLSTM, self).__init__()\n",
    "\n",
    "        self.embedding_size = embedding_size\n",
    "        self.num_layers = num_layers\n",
    "        self.hidden_size = hidden_size1\n",
    "#         self.hidden_size2 = hidden_size2\n",
    "\n",
    "        self.embedding_layer = nn.Embedding(vocab_size,embedding_size) # embedding layer\n",
    "        # Hidden layer (LSTM layer) and the num_layers is the number of recurrent layers\n",
    "        self.hidden_layer = nn.LSTM(embedding_size,hidden_size1,num_layers,batch_first=True)\n",
    "        \n",
    "        self.activation = nn.ReLU() # Hidden layer\n",
    "        \n",
    "        self.output_layer= nn.Sequential(\n",
    "            nn.Linear(hidden_size1,hidden_size2),\n",
    "            nn.ReLU(),\n",
    "            nn.Dropout(),\n",
    "            nn.Linear(hidden_size2,num_classes)\n",
    "        )\n",
    "        \n",
    "    def forward (self, input_words, sequence_len):\n",
    "        # Input dimensions are:  (batch_size, seq_length)\n",
    "        embedded_words = self.embedding_layer(input_words)  # (batch_size, seq_length, embedding_size)\n",
    "   \n",
    "        # Variable length\n",
    "        embedded_words = nn.utils.rnn.pack_padded_sequence(embedded_words,sequence_len,batch_first=True,enforce_sorted=False)\n",
    "        \n",
    "        # Compute in LSTM layer\n",
    "        h0 = torch.randn(self.num_layers, len(input_words), self.hidden_size) # --> Initialize hidden state h0\n",
    "        c0 = torch.randn(self.num_layers, len(input_words), self.hidden_size) # --> Initialize cell state c0\n",
    "        embedded_words, (hn, cn)= self.hidden_layer(embedded_words, (h0,c0))  # --> LSTM layer\n",
    "        \n",
    "        # Get the last hidden state or cell state\n",
    "        embedded_words_h = hn[self.num_layers-1] # Short-term memory\n",
    "        # embedded_words_c = cn[self.num_layers-1] # Long-term memory\n",
    "\n",
    "        # Activation layer\n",
    "        h = self.activation(embedded_words_h) \n",
    "        \n",
    "        # Output layer\n",
    "        output = self.output_layer(h)    \n",
    "\n",
    "        return output "
   ]
  },
  {
   "cell_type": "markdown",
   "id": "e29d175a",
   "metadata": {},
   "source": [
    "(4) Construct the training model function"
   ]
  },
  {
   "cell_type": "code",
   "execution_count": 10,
   "id": "e4b0c2c2",
   "metadata": {},
   "outputs": [],
   "source": [
    "# 4. Train model\n",
    "def train_nn(num_epochs, learning_rate, model, train_dataloader, dev_dataloader):\n",
    "# def train_nn(num_epochs, model, train_dataloader):\n",
    "    \n",
    "#     learning_rate = 0.0005 # learning rate for the gradient descent optimizer, related to the step size\n",
    "\n",
    "    loss_fn = nn.CrossEntropyLoss()  # create loss function object\n",
    "    optimizer = optim.Adam(model.parameters(), lr=learning_rate)  # create the optimizer\n",
    "    \n",
    "    for e in range(num_epochs):\n",
    "        # Track performance on the training set as we are learning...\n",
    "        total_correct = 0\n",
    "        total_trained = 0\n",
    "        train_losses = []\n",
    "\n",
    "        model.train()  # Put the model in training mode.\n",
    "\n",
    "        for i, (batch_input_ids, batch_labels, batch_length) in enumerate(train_dataloader): # --> Add batch_length element\n",
    "            # Iterate over each batch of data\n",
    "            # print(f'batch no. = {i}')\n",
    "\n",
    "            optimizer.zero_grad()  # Reset the optimizer\n",
    "\n",
    "            # Use the model to perform forward inference on the input data.\n",
    "            # This will run the forward() function.\n",
    "            output = model(batch_input_ids, batch_length) # --> Add batch_length parameter\n",
    "\n",
    "            # Compute the loss for the current batch of data\n",
    "            batch_loss = loss_fn(output, batch_labels)\n",
    "\n",
    "            # Perform back propagation to compute the gradients with respect to each weight\n",
    "            batch_loss.backward()\n",
    "\n",
    "            # Update the weights using the compute gradients\n",
    "            optimizer.step()\n",
    "\n",
    "            # Record the loss from this sample to keep track of progress.\n",
    "            train_losses.append(batch_loss.item())\n",
    "\n",
    "            # Count correct labels so we can compute accuracy on the training set\n",
    "            predicted_labels = output.argmax(1)\n",
    "            total_correct += (predicted_labels == batch_labels).sum().item()\n",
    "            total_trained += batch_labels.size(0)\n",
    "\n",
    "        train_accuracy = total_correct/total_trained*100\n",
    "\n",
    "        print(\"Epoch: {}/{}\".format((e+1), num_epochs),\n",
    "              \"Training Loss: {:.4f}\".format(np.mean(train_losses)),\n",
    "              \"Training Accuracy: {:.4f}%\".format(train_accuracy))\n",
    "\n",
    "        model.eval()  # Switch model to evaluation mode\n",
    "        total_correct = 0\n",
    "        total_trained = 0\n",
    "        dev_losses = []\n",
    "\n",
    "        for dev_input_ids, dev_labels, dev_length in dev_dataloader:  # --> Add dev_length element\n",
    "\n",
    "            optimizer.zero_grad()  # Reset the optimizer\n",
    "\n",
    "            # Use the model to perform forward inference on the input data.\n",
    "            # This will run the forward() function.\n",
    "            dev_output = model(dev_input_ids, dev_length) # --> Add dev_length parameter\n",
    "\n",
    "            # Compute the loss for the current batch of data\n",
    "            dev_loss = loss_fn(dev_output, dev_labels)\n",
    "\n",
    "            # Perform back propagation to compute the gradients with respect to each weight\n",
    "            dev_loss.backward()\n",
    "\n",
    "            # Update the weights using the compute gradients\n",
    "            optimizer.step()\n",
    "\n",
    "            # Save the loss on the dev set\n",
    "            dev_losses.append(dev_loss.item())\n",
    "\n",
    "            # Count the number of correct predictions\n",
    "            predicted_labels = dev_output.argmax(1)\n",
    "            total_correct += (predicted_labels == dev_labels).sum().item()\n",
    "            total_trained += dev_labels.size(0)\n",
    "            \n",
    "        dev_accuracy = total_correct/total_trained*100\n",
    "        \n",
    "        print(\"Epoch: {}/{}\".format((e+1), num_epochs),\n",
    "              \"Validation Loss: {:.4f}\".format(np.mean(dev_losses)),\n",
    "              \"Validation Accuracy: {:.4f}%\".format(dev_accuracy))\n",
    "    return model"
   ]
  },
  {
   "cell_type": "markdown",
   "id": "aa9db0ef",
   "metadata": {},
   "source": [
    "(5) Construct the prediction function"
   ]
  },
  {
   "cell_type": "code",
   "execution_count": 11,
   "id": "191d05fa",
   "metadata": {},
   "outputs": [],
   "source": [
    "# 5. The prediction function\n",
    "def predict_nn(trained_model, test_loader):\n",
    "\n",
    "    trained_model.eval()\n",
    "\n",
    "    correct = 0  # count the number of correct classification labels\n",
    "\n",
    "    gold_labs = []  # gold labels to return\n",
    "    pred_labs = []  # predicted labels to return\n",
    "    \n",
    "    for inputs, labels, length in test_loader: # --> add length element\n",
    "        test_output = trained_model(inputs, length)  # --> Add length parameter\n",
    "        predicted_labels = test_output.argmax(1)\n",
    "\n",
    "        gold_labs.extend(labels.tolist())\n",
    "        pred_labs.extend(predicted_labels.tolist())\n",
    "    \n",
    "    return gold_labs, pred_labs"
   ]
  },
  {
   "cell_type": "markdown",
   "id": "e96094bc",
   "metadata": {},
   "source": [
    "(6) Train models, make predictions, evaluate model and visualise the results"
   ]
  },
  {
   "cell_type": "code",
   "execution_count": 12,
   "id": "f6cf8304",
   "metadata": {},
   "outputs": [],
   "source": [
    "# 6. Construct and train models\n",
    "# 6.1 Set the parameters\n",
    "num_layers = 1 # Set the number of recurrent layers  \n",
    "\n",
    "vocab_size = len(vectorizer.vocabulary_) + 1\n",
    "embedding_size = 30  # number of dimensions for embeddings\n",
    "hidden_size = 300 # number of hidden units\n",
    "hidden_size_k = 4\n",
    "hidden_size_p = 100\n",
    "hidden_size_c = 200\n",
    "num_epochs = 10\n",
    "learning_rate = 0.005\n",
    "\n",
    "num_classes_k = len(np.unique(train_data['kingdom_n'])) \n",
    "num_classes_p = len(np.unique(train_data['phylum_n'])) \n",
    "num_classes_c = len(np.unique(train_data['class_n'])) "
   ]
  },
  {
   "cell_type": "markdown",
   "id": "d3271c1b",
   "metadata": {},
   "source": [
    "**$\\cdot$Kingdom**"
   ]
  },
  {
   "cell_type": "code",
   "execution_count": null,
   "id": "d8bd53d0",
   "metadata": {},
   "outputs": [
    {
     "name": "stdout",
     "output_type": "stream",
     "text": [
      "Epoch: 1/10 Training Loss: 0.1556 Training Accuracy: 97.7406%\n",
      "Epoch: 1/10 Validation Loss: 0.0885 Validation Accuracy: 98.2763%\n",
      "Epoch: 2/10 Training Loss: 0.1186 Training Accuracy: 97.7406%\n",
      "Epoch: 2/10 Validation Loss: 0.0869 Validation Accuracy: 98.2763%\n",
      "Epoch: 3/10 Training Loss: 0.1104 Training Accuracy: 97.7406%\n",
      "Epoch: 3/10 Validation Loss: 0.0882 Validation Accuracy: 98.2763%\n",
      "Epoch: 4/10 Training Loss: 0.1088 Training Accuracy: 97.7406%\n",
      "Epoch: 4/10 Validation Loss: 0.0871 Validation Accuracy: 98.2763%\n",
      "Epoch: 5/10 Training Loss: 0.1083 Training Accuracy: 97.7406%\n",
      "Epoch: 5/10 Validation Loss: 0.0881 Validation Accuracy: 98.2763%\n",
      "Epoch: 6/10 Training Loss: 0.1081 Training Accuracy: 97.7406%\n",
      "Epoch: 6/10 Validation Loss: 0.0869 Validation Accuracy: 98.2763%\n",
      "Epoch: 7/10 Training Loss: 0.1081 Training Accuracy: 97.7406%\n"
     ]
    }
   ],
   "source": [
    "# 6.2 Kingdom\n",
    "# 6.2.1 Construct and train a LSTM model for kingdom  \n",
    "model_lstm_k = DNAClassifierWithLSTM(vocab_size, embedding_size, hidden_size, hidden_size_k, num_layers, num_classes_k) # Creat a LSTM\n",
    "trained_model_lstm_k = train_nn(num_epochs, learning_rate, model_lstm_k, train_loader_k, dev_loader_k) # Train model"
   ]
  },
  {
   "cell_type": "code",
   "execution_count": null,
   "id": "79cbacfb",
   "metadata": {},
   "outputs": [],
   "source": [
    "joblib.dump(trained_model_lstm_k, 'stl_kingdom_n1_la7_b64_lr1.model')"
   ]
  },
  {
   "cell_type": "code",
   "execution_count": null,
   "id": "69c5115e",
   "metadata": {},
   "outputs": [
    {
     "name": "stdout",
     "output_type": "stream",
     "text": [
      "Epoch: 1/2 Training Loss: 0.2810 Training Accuracy: 89.7679%\n",
      "Epoch: 1/2 Validation Loss: 0.0514 Validation Accuracy: 98.2763%\n",
      "Epoch: 2/2 Training Loss: 0.1224 Training Accuracy: 97.7406%\n",
      "Epoch: 2/2 Validation Loss: 0.0491 Validation Accuracy: 98.2763%\n"
     ]
    }
   ],
   "source": [
    "num_epochs_op = 2\n",
    "\n",
    "model_lstm_k_op = DNAClassifierWithLSTM(vocab_size, embedding_size, hidden_size, hidden_size_k, num_layers, num_classes_k) # Creat a LSTM\n",
    "trained_model_lstm_k_op = train_nn(num_epochs_op, learning_rate, model_lstm_k_op, train_loader_k, dev_loader_k) # Train model"
   ]
  },
  {
   "cell_type": "code",
   "execution_count": null,
   "id": "5c304f5d",
   "metadata": {},
   "outputs": [
    {
     "data": {
      "text/plain": [
       "['stl_kingdom_n1_la7_b64_lr1_op.model']"
      ]
     },
     "execution_count": 15,
     "metadata": {},
     "output_type": "execute_result"
    }
   ],
   "source": [
    "joblib.dump(trained_model_lstm_k_op, 'stl_kingdom_n1_la7_b64_lr1_op.model')"
   ]
  },
  {
   "cell_type": "markdown",
   "id": "6979075f",
   "metadata": {},
   "source": [
    "Prediction"
   ]
  },
  {
   "cell_type": "code",
   "execution_count": 16,
   "id": "338b2f5c",
   "metadata": {},
   "outputs": [
    {
     "name": "stdout",
     "output_type": "stream",
     "text": [
      "Accuracy = 0.9740003939334253\n",
      "F1 score (macro average) = 0.4934144881261226\n",
      "              precision    recall  f1-score   support\n",
      "\n",
      "           0       0.00      0.00      0.00       132\n",
      "           1       0.97      1.00      0.99      4945\n",
      "\n",
      "    accuracy                           0.97      5077\n",
      "   macro avg       0.49      0.50      0.49      5077\n",
      "weighted avg       0.95      0.97      0.96      5077\n",
      "\n",
      "Precision (macro average) = 0.48700019696671265\n",
      "Recall (macro average) = 0.5\n"
     ]
    },
    {
     "name": "stderr",
     "output_type": "stream",
     "text": [
      "/home/ec2-user/anaconda3/envs/python3/lib/python3.8/site-packages/sklearn/metrics/_classification.py:1308: UndefinedMetricWarning: Precision and F-score are ill-defined and being set to 0.0 in labels with no predicted samples. Use `zero_division` parameter to control this behavior.\n",
      "  _warn_prf(average, modifier, msg_start, len(result))\n",
      "/home/ec2-user/anaconda3/envs/python3/lib/python3.8/site-packages/sklearn/metrics/_classification.py:1308: UndefinedMetricWarning: Precision and F-score are ill-defined and being set to 0.0 in labels with no predicted samples. Use `zero_division` parameter to control this behavior.\n",
      "  _warn_prf(average, modifier, msg_start, len(result))\n",
      "/home/ec2-user/anaconda3/envs/python3/lib/python3.8/site-packages/sklearn/metrics/_classification.py:1308: UndefinedMetricWarning: Precision and F-score are ill-defined and being set to 0.0 in labels with no predicted samples. Use `zero_division` parameter to control this behavior.\n",
      "  _warn_prf(average, modifier, msg_start, len(result))\n",
      "/home/ec2-user/anaconda3/envs/python3/lib/python3.8/site-packages/sklearn/metrics/_classification.py:1308: UndefinedMetricWarning: Precision is ill-defined and being set to 0.0 in labels with no predicted samples. Use `zero_division` parameter to control this behavior.\n",
      "  _warn_prf(average, modifier, msg_start, len(result))\n"
     ]
    }
   ],
   "source": [
    "# 6.2.2 Make predictions for kingdom\n",
    "trained_model_lstm_k = joblib.load('stl_kingdom_n1_la7_b64_lr1_op.model')\n",
    "\n",
    "gold_labs_k, pred_labs_k = predict_nn(trained_model_lstm_k, test_loader_k) # Predict the results of test data \n",
    "\n",
    "# 6.2.3 Evaluate the kingdom\n",
    "acc_k = accuracy_score(gold_labs_k, pred_labs_k)\n",
    "print(f'Accuracy = {acc_k}')\n",
    "\n",
    "f1_k = f1_score(gold_labs_k, pred_labs_k, average='macro')\n",
    "print(f'F1 score (macro average) = {f1_k}')\n",
    "\n",
    "# We can get all of these with a per-class breakdown using classification_report:\n",
    "print(classification_report(gold_labs_k, pred_labs_k))\n",
    "\n",
    "prec_k = precision_score(gold_labs_k, pred_labs_k, average='macro')\n",
    "print(f'Precision (macro average) = {prec_k}')\n",
    "\n",
    "rec_k = recall_score(gold_labs_k, pred_labs_k, average='macro')\n",
    "print(f'Recall (macro average) = {rec_k}')"
   ]
  },
  {
   "cell_type": "code",
   "execution_count": 17,
   "id": "7faa3a00",
   "metadata": {},
   "outputs": [
    {
     "data": {
      "text/plain": [
       "<Figure size 432x288 with 0 Axes>"
      ]
     },
     "metadata": {},
     "output_type": "display_data"
    },
    {
     "data": {
      "image/png": "[encoded data removed]",
      "text/plain": [
       "<Figure size 288x288 with 2 Axes>"
      ]
     },
     "metadata": {
      "needs_background": "light"
     },
     "output_type": "display_data"
    }
   ],
   "source": [
    "# 6.2.4 Visualise the results\n",
    "cm_k = confusion_matrix(gold_labs_k, pred_labs_k)\n",
    "\n",
    "plt.figure()\n",
    "plt.matshow(cm_k, cmap = plt.cm.GnBu)\n",
    "plt.colorbar()\n",
    "\n",
    "for i in range(cm_k.shape[0]):\n",
    "    for j in range(cm_k.shape[1]):\n",
    "        plt.text(i,j,str(cm_k[i][j]),color='orange',fontsize='x-large',ha='center',va='center',weight='semibold')\n",
    "\n",
    "plt.xlabel('Predicted label',labelpad=-220, fontsize='x-large',color= 'green')\n",
    "plt.ylabel('Gold label',labelpad=15, fontsize='x-large',color= 'green')\n",
    "plt.title('Kingdom', fontsize='xx-large',pad=30,color= 'darkblue')\n",
    "plt.show()"
   ]
  },
  {
   "cell_type": "markdown",
   "id": "15c1f324",
   "metadata": {},
   "source": [
    "**$\\cdot$Phylum**"
   ]
  },
  {
   "cell_type": "code",
   "execution_count": null,
   "id": "dfeed3b2",
   "metadata": {},
   "outputs": [
    {
     "name": "stdout",
     "output_type": "stream",
     "text": [
      "Epoch: 1/10 Training Loss: 1.7130 Training Accuracy: 53.2352%\n",
      "Epoch: 1/10 Validation Loss: 0.9371 Validation Accuracy: 73.3317%\n",
      "Epoch: 2/10 Training Loss: 0.8571 Training Accuracy: 76.1251%\n",
      "Epoch: 2/10 Validation Loss: 0.5729 Validation Accuracy: 83.7971%\n",
      "Epoch: 3/10 Training Loss: 0.6839 Training Accuracy: 81.6290%\n",
      "Epoch: 3/10 Validation Loss: 0.6809 Validation Accuracy: 80.9160%\n",
      "Epoch: 4/10 Training Loss: 0.4219 Training Accuracy: 88.8998%\n",
      "Epoch: 4/10 Validation Loss: 0.2644 Validation Accuracy: 92.5634%\n",
      "Epoch: 5/10 Training Loss: 0.3049 Training Accuracy: 92.1936%\n",
      "Epoch: 5/10 Validation Loss: 0.1900 Validation Accuracy: 95.0259%\n",
      "Epoch: 6/10 Training Loss: 0.2297 Training Accuracy: 93.9666%\n",
      "Epoch: 6/10 Validation Loss: 0.1506 Validation Accuracy: 96.0355%\n",
      "Epoch: 7/10 Training Loss: 0.2000 Training Accuracy: 94.5392%\n",
      "Epoch: 7/10 Validation Loss: 0.1288 Validation Accuracy: 96.6264%\n",
      "Epoch: 8/10 Training Loss: 0.1683 Training Accuracy: 95.3272%\n",
      "Epoch: 8/10 Validation Loss: 0.1078 Validation Accuracy: 96.9958%\n",
      "Epoch: 9/10 Training Loss: 0.1599 Training Accuracy: 95.6905%\n",
      "Epoch: 9/10 Validation Loss: 0.0982 Validation Accuracy: 97.5622%\n",
      "Epoch: 10/10 Training Loss: 0.1332 Training Accuracy: 96.3246%\n",
      "Epoch: 10/10 Validation Loss: 0.0820 Validation Accuracy: 97.5376%\n"
     ]
    }
   ],
   "source": [
    "# 6.3 Phylum\n",
    "# 6.3.1 Construct and train a LSTM model for phylum\n",
    "model_lstm_p= DNAClassifierWithLSTM(vocab_size, embedding_size, hidden_size, hidden_size_p, num_layers, num_classes_p) # Creat a LSTM\n",
    "trained_model_lstm_p = train_nn(num_epochs, learning_rate, model_lstm_p, train_loader_p, dev_loader_p) # Train model"
   ]
  },
  {
   "cell_type": "code",
   "execution_count": null,
   "id": "69238f78",
   "metadata": {},
   "outputs": [
    {
     "data": {
      "text/plain": [
       "['stl_phylum_n1_la7_b64_lr1.model']"
      ]
     },
     "execution_count": 19,
     "metadata": {},
     "output_type": "execute_result"
    }
   ],
   "source": [
    "joblib.dump(trained_model_lstm_p, 'stl_phylum_n1_la7_b64_lr1.model')"
   ]
  },
  {
   "cell_type": "markdown",
   "id": "00a3f2b5",
   "metadata": {},
   "source": [
    "Prediction"
   ]
  },
  {
   "cell_type": "code",
   "execution_count": null,
   "id": "339170ba",
   "metadata": {},
   "outputs": [
    {
     "name": "stdout",
     "output_type": "stream",
     "text": [
      "Accuracy = 0.9625763246011424\n",
      "Precision (macro average) = 0.8272504315313198\n",
      "Recall (macro average) = 0.7945389535907605\n",
      "F1 score (macro average) = 0.797050418913103\n",
      "              precision    recall  f1-score   support\n",
      "\n",
      "           0       0.00      0.00      0.00         1\n",
      "           1       0.96      0.97      0.96       316\n",
      "           2       0.97      0.97      0.97       350\n",
      "           3       0.81      0.81      0.81        21\n",
      "           4       0.00      0.00      0.00         2\n",
      "           5       0.99      0.99      0.99       651\n",
      "           6       0.43      1.00      0.60         3\n",
      "           7       0.90      1.00      0.95        28\n",
      "           8       0.96      0.85      0.90        26\n",
      "           9       0.91      0.96      0.94       195\n",
      "          10       1.00      0.95      0.98        21\n",
      "          11       0.97      0.93      0.95       169\n",
      "          12       0.97      0.88      0.92        33\n",
      "          13       0.80      0.89      0.84        18\n",
      "          14       0.71      0.83      0.77         6\n",
      "          15       0.98      0.97      0.97       366\n",
      "          16       1.00      1.00      1.00         8\n",
      "          17       1.00      0.75      0.86         4\n",
      "          18       0.80      0.57      0.67         7\n",
      "          19       0.97      0.96      0.97        73\n",
      "          20       1.00      0.25      0.40         8\n",
      "          21       0.89      0.74      0.81        23\n",
      "          22       0.91      0.80      0.85        25\n",
      "          24       0.84      0.51      0.64        41\n",
      "          25       0.50      0.60      0.55         5\n",
      "          26       0.95      0.98      0.96       306\n",
      "          27       0.98      0.99      0.99      1879\n",
      "          28       0.76      0.72      0.74        18\n",
      "          29       0.62      0.70      0.65        23\n",
      "          30       0.95      0.91      0.93        23\n",
      "          31       1.00      0.67      0.80         6\n",
      "          32       0.79      0.95      0.86        20\n",
      "          33       0.93      0.97      0.95       267\n",
      "          34       0.82      0.78      0.80        36\n",
      "          36       0.98      0.92      0.95        93\n",
      "          37       0.71      0.83      0.77         6\n",
      "\n",
      "    accuracy                           0.96      5077\n",
      "   macro avg       0.83      0.79      0.80      5077\n",
      "weighted avg       0.96      0.96      0.96      5077\n",
      "\n"
     ]
    },
    {
     "name": "stderr",
     "output_type": "stream",
     "text": [
      "/home/ec2-user/anaconda3/envs/python3/lib/python3.8/site-packages/sklearn/metrics/_classification.py:1308: UndefinedMetricWarning: Precision is ill-defined and being set to 0.0 in labels with no predicted samples. Use `zero_division` parameter to control this behavior.\n",
      "  _warn_prf(average, modifier, msg_start, len(result))\n",
      "/home/ec2-user/anaconda3/envs/python3/lib/python3.8/site-packages/sklearn/metrics/_classification.py:1308: UndefinedMetricWarning: Precision and F-score are ill-defined and being set to 0.0 in labels with no predicted samples. Use `zero_division` parameter to control this behavior.\n",
      "  _warn_prf(average, modifier, msg_start, len(result))\n",
      "/home/ec2-user/anaconda3/envs/python3/lib/python3.8/site-packages/sklearn/metrics/_classification.py:1308: UndefinedMetricWarning: Precision and F-score are ill-defined and being set to 0.0 in labels with no predicted samples. Use `zero_division` parameter to control this behavior.\n",
      "  _warn_prf(average, modifier, msg_start, len(result))\n",
      "/home/ec2-user/anaconda3/envs/python3/lib/python3.8/site-packages/sklearn/metrics/_classification.py:1308: UndefinedMetricWarning: Precision and F-score are ill-defined and being set to 0.0 in labels with no predicted samples. Use `zero_division` parameter to control this behavior.\n",
      "  _warn_prf(average, modifier, msg_start, len(result))\n"
     ]
    }
   ],
   "source": [
    "# 6.3.2 Make predictions for phylum\n",
    "trained_model_lstm_p = joblib.load('stl_phylum_n1_la7_b64_lr1.model')\n",
    "\n",
    "gold_labs_p, pred_labs_p = predict_nn(trained_model_lstm_p, test_loader_p) # Predict the results of test data \n",
    "\n",
    "# 6.3.3 Evaluate the phylum\n",
    "acc_p = accuracy_score(gold_labs_p, pred_labs_p)\n",
    "print(f'Accuracy = {acc_p}')\n",
    "\n",
    "prec_p = precision_score(gold_labs_p, pred_labs_p, average='macro')\n",
    "print(f'Precision (macro average) = {prec_p}')\n",
    "\n",
    "rec_p = recall_score(gold_labs_p, pred_labs_p, average='macro')\n",
    "print(f'Recall (macro average) = {rec_p}')\n",
    "\n",
    "f1_p = f1_score(gold_labs_p, pred_labs_p, average='macro')\n",
    "print(f'F1 score (macro average) = {f1_p}')\n",
    "\n",
    "# We can get all of these with a per-class breakdown using classification_report:\n",
    "print(classification_report(gold_labs_p, pred_labs_p))"
   ]
  },
  {
   "cell_type": "code",
   "execution_count": null,
   "id": "367b1692",
   "metadata": {},
   "outputs": [
    {
     "data": {
      "text/plain": [
       "<Figure size 432x288 with 0 Axes>"
      ]
     },
     "metadata": {},
     "output_type": "display_data"
    },
    {
     "data": {
      "image/png": "[encoded data removed]",
      "text/plain": [
       "<Figure size 1152x1152 with 2 Axes>"
      ]
     },
     "metadata": {
      "needs_background": "light"
     },
     "output_type": "display_data"
    }
   ],
   "source": [
    "# 6.3.4 Visualise the results\n",
    "cm_p = confusion_matrix(gold_labs_p, pred_labs_p)\n",
    "\n",
    "plt.figure()\n",
    "plt.rcParams[\"figure.figsize\"] = [100.00, 50.00]\n",
    "plt.matshow(cm_p, cmap = plt.cm.GnBu)\n",
    "plt.colorbar()\n",
    "\n",
    "for i in range(cm_p.shape[0]):\n",
    "    for j in range(cm_p.shape[1]):\n",
    "        plt.text(i,j,str(cm_p[i][j]),color='orange',fontsize='small',ha='center',va='center',weight='semibold')\n",
    "\n",
    "plt.xlabel('Predicted label',labelpad=-760, fontsize='x-large',color= 'green')\n",
    "plt.ylabel('Gold label',labelpad=15, fontsize='x-large',color= 'green')\n",
    "plt.title('Phylum', fontsize='xx-large',pad=30,color= 'darkblue')\n",
    "plt.show()"
   ]
  },
  {
   "cell_type": "markdown",
   "id": "4a3fffec",
   "metadata": {},
   "source": [
    "**$\\cdot$Class**"
   ]
  },
  {
   "cell_type": "code",
   "execution_count": 23,
   "id": "141593b9",
   "metadata": {},
   "outputs": [
    {
     "name": "stdout",
     "output_type": "stream",
     "text": [
      "Epoch: 1/10 Training Loss: 2.3970 Training Accuracy: 43.7173%\n",
      "Epoch: 1/10 Validation Loss: 1.3226 Validation Accuracy: 66.6831%\n",
      "Epoch: 2/10 Training Loss: 1.1682 Training Accuracy: 71.9079%\n",
      "Epoch: 2/10 Validation Loss: 0.7790 Validation Accuracy: 79.5617%\n",
      "Epoch: 3/10 Training Loss: 0.8191 Training Accuracy: 79.6774%\n",
      "Epoch: 3/10 Validation Loss: 0.5388 Validation Accuracy: 84.9052%\n",
      "Epoch: 4/10 Training Loss: 0.6265 Training Accuracy: 83.9439%\n",
      "Epoch: 4/10 Validation Loss: 0.4132 Validation Accuracy: 88.7959%\n",
      "Epoch: 5/10 Training Loss: 0.5141 Training Accuracy: 87.0406%\n",
      "Epoch: 5/10 Validation Loss: 0.3548 Validation Accuracy: 90.0025%\n",
      "Epoch: 6/10 Training Loss: 0.4593 Training Accuracy: 87.9579%\n",
      "Epoch: 6/10 Validation Loss: 0.2978 Validation Accuracy: 91.3076%\n",
      "Epoch: 7/10 Training Loss: 0.4163 Training Accuracy: 89.0661%\n",
      "Epoch: 7/10 Validation Loss: 0.2865 Validation Accuracy: 91.8247%\n",
      "Epoch: 8/10 Training Loss: 0.3641 Training Accuracy: 90.3035%\n",
      "Epoch: 8/10 Validation Loss: 0.2339 Validation Accuracy: 93.6469%\n",
      "Epoch: 9/10 Training Loss: 0.3320 Training Accuracy: 90.8453%\n",
      "Epoch: 9/10 Validation Loss: 0.2428 Validation Accuracy: 93.1051%\n",
      "Epoch: 10/10 Training Loss: 0.3391 Training Accuracy: 90.9253%\n",
      "Epoch: 10/10 Validation Loss: 0.2251 Validation Accuracy: 93.3514%\n"
     ]
    }
   ],
   "source": [
    "# 6.4 Class\n",
    "# 6.4.1 Construct and train a LSTM model for phylum\n",
    "model_lstm = DNAClassifierWithLSTM(vocab_size, embedding_size, hidden_size, hidden_size_c, num_layers, num_classes_c) # Creat a LSTM\n",
    "trained_model_lstm_c = train_nn(num_epochs, learning_rate, model_lstm, train_loader_c,dev_loader_c) # Train model"
   ]
  },
  {
   "cell_type": "code",
   "execution_count": 24,
   "id": "5fd1bc89",
   "metadata": {},
   "outputs": [
    {
     "data": {
      "text/plain": [
       "['stl_class_n1_la7_b64_lr1.model']"
      ]
     },
     "execution_count": 24,
     "metadata": {},
     "output_type": "execute_result"
    }
   ],
   "source": [
    "joblib.dump(trained_model_lstm_c, 'stl_class_n1_la7_b64_lr1.model')"
   ]
  },
  {
   "cell_type": "code",
   "execution_count": null,
   "id": "79c7761d",
   "metadata": {},
   "outputs": [],
   "source": []
  },
  {
   "cell_type": "code",
   "execution_count": null,
   "id": "f6e96912",
   "metadata": {},
   "outputs": [],
   "source": []
  },
  {
   "cell_type": "markdown",
   "id": "3c2fdc8d",
   "metadata": {},
   "source": [
    "Prediction"
   ]
  },
  {
   "cell_type": "code",
   "execution_count": 25,
   "id": "9d6805e5",
   "metadata": {},
   "outputs": [
    {
     "name": "stdout",
     "output_type": "stream",
     "text": [
      "Accuracy = 0.8967894425842032\n",
      "Precision (macro average) = 0.7554669196909665\n",
      "Recall (macro average) = 0.7405090968710578\n",
      "F1 score (macro average) = 0.7346644159130098\n",
      "              precision    recall  f1-score   support\n",
      "\n",
      "           0       1.00      0.40      0.57         5\n",
      "           1       0.71      0.62      0.67        16\n",
      "           2       0.52      0.61      0.56        18\n",
      "           3       1.00      1.00      1.00         1\n",
      "           4       0.00      0.00      0.00         3\n",
      "           5       0.96      0.90      0.93        71\n",
      "           6       0.67      0.83      0.74        12\n",
      "           7       0.94      0.91      0.92        74\n",
      "           8       0.94      0.91      0.93        34\n",
      "           9       0.92      0.99      0.96       172\n",
      "          10       0.94      0.95      0.94       647\n",
      "          11       0.67      0.76      0.71        90\n",
      "          12       0.67      1.00      0.80         2\n",
      "          13       0.75      0.75      0.75         4\n",
      "          14       0.71      0.45      0.56        11\n",
      "          15       0.67      0.67      0.67         6\n",
      "          16       0.86      1.00      0.92         6\n",
      "          17       0.75      0.90      0.82        10\n",
      "          18       0.98      0.95      0.96        92\n",
      "          19       0.89      0.76      0.82       101\n",
      "          20       0.97      0.98      0.98       222\n",
      "          21       0.57      0.67      0.62         6\n",
      "          22       1.00      1.00      1.00         5\n",
      "          23       1.00      0.33      0.50         3\n",
      "          24       0.96      0.96      0.96        28\n",
      "          25       0.79      0.79      0.79        14\n",
      "          26       0.96      0.88      0.92       108\n",
      "          27       1.00      1.00      1.00         6\n",
      "          28       0.96      0.91      0.93       260\n",
      "          29       0.86      0.86      0.86         7\n",
      "          30       0.85      0.93      0.89       106\n",
      "          31       1.00      0.89      0.94        18\n",
      "          32       0.73      0.57      0.64        14\n",
      "          33       0.67      0.67      0.67         6\n",
      "          34       0.87      0.89      0.88       465\n",
      "          35       0.75      1.00      0.86         3\n",
      "          36       0.83      0.83      0.83        12\n",
      "          37       0.96      0.79      0.87        33\n",
      "          38       1.00      0.93      0.96        14\n",
      "          39       0.87      0.93      0.90        14\n",
      "          40       0.80      1.00      0.89         4\n",
      "          41       0.92      0.93      0.93       141\n",
      "          42       1.00      0.88      0.93         8\n",
      "          43       0.31      0.71      0.43         7\n",
      "          44       0.91      0.97      0.94       515\n",
      "          45       0.79      1.00      0.88        19\n",
      "          46       0.67      0.50      0.57         4\n",
      "          47       1.00      0.73      0.84        11\n",
      "          48       0.50      0.33      0.40         3\n",
      "          49       1.00      0.50      0.67         4\n",
      "          50       1.00      0.91      0.95        32\n",
      "          51       1.00      1.00      1.00         1\n",
      "          52       1.00      1.00      1.00         8\n",
      "          54       0.91      0.83      0.87        12\n",
      "          55       0.00      0.00      0.00        10\n",
      "          56       1.00      0.60      0.75         5\n",
      "          57       0.00      0.00      0.00         7\n",
      "          58       0.79      0.83      0.81        18\n",
      "          59       1.00      0.83      0.90        23\n",
      "          60       1.00      1.00      1.00         5\n",
      "          61       1.00      0.89      0.94        19\n",
      "          63       0.75      0.75      0.75         4\n",
      "          64       1.00      1.00      1.00         1\n",
      "          65       0.25      1.00      0.40         1\n",
      "          66       0.57      0.80      0.67         5\n",
      "          67       1.00      0.60      0.75         5\n",
      "          68       0.91      0.74      0.82        27\n",
      "          69       0.88      0.58      0.70        12\n",
      "          70       0.75      0.67      0.71         9\n",
      "          71       0.00      0.00      0.00         2\n",
      "          72       0.68      0.75      0.71        36\n",
      "          73       0.94      0.96      0.95        70\n",
      "          74       0.00      0.00      0.00         5\n",
      "          75       0.98      0.96      0.97       200\n",
      "          76       0.67      1.00      0.80         6\n",
      "          77       1.00      1.00      1.00         2\n",
      "          78       0.50      0.50      0.50         2\n",
      "          79       0.83      0.83      0.83         6\n",
      "          80       0.42      0.42      0.42        12\n",
      "          81       0.50      0.08      0.14        12\n",
      "          82       0.40      0.40      0.40         5\n",
      "          83       1.00      0.67      0.80         6\n",
      "          84       1.00      1.00      1.00         3\n",
      "          85       0.94      0.94      0.94        18\n",
      "          86       1.00      1.00      1.00         6\n",
      "          87       0.73      0.80      0.76        65\n",
      "          88       0.78      0.92      0.85        77\n",
      "          89       0.94      0.89      0.92        19\n",
      "          90       0.80      0.84      0.82        19\n",
      "          91       0.59      0.90      0.72        21\n",
      "          92       0.27      0.19      0.22        16\n",
      "          93       0.00      0.00      0.00         2\n",
      "          94       0.83      0.83      0.83        12\n",
      "          95       0.00      0.00      0.00         3\n",
      "          96       0.00      0.00      0.00         7\n",
      "          97       0.94      1.00      0.97        16\n",
      "          98       0.99      0.94      0.96        87\n",
      "          99       0.56      0.62      0.59         8\n",
      "         100       0.84      0.89      0.86        18\n",
      "         101       0.62      0.56      0.59         9\n",
      "         102       0.83      0.87      0.85        46\n",
      "         103       0.93      0.81      0.87        16\n",
      "         104       0.93      0.98      0.95        51\n",
      "         105       0.88      0.88      0.88         8\n",
      "         106       0.40      0.25      0.31         8\n",
      "         107       0.00      0.00      0.00         4\n",
      "         108       0.60      0.50      0.55        12\n",
      "         109       0.99      0.95      0.97        93\n",
      "         110       0.97      0.98      0.97       113\n",
      "         111       1.00      0.67      0.80         6\n",
      "         112       1.00      0.96      0.98       220\n",
      "         113       0.97      0.98      0.98        60\n",
      "         114       0.69      1.00      0.82         9\n",
      "         115       0.61      0.67      0.64        21\n",
      "         116       0.50      1.00      0.67         1\n",
      "\n",
      "    accuracy                           0.90      5077\n",
      "   macro avg       0.76      0.74      0.73      5077\n",
      "weighted avg       0.89      0.90      0.89      5077\n",
      "\n"
     ]
    },
    {
     "name": "stderr",
     "output_type": "stream",
     "text": [
      "/home/ec2-user/anaconda3/envs/python3/lib/python3.8/site-packages/sklearn/metrics/_classification.py:1308: UndefinedMetricWarning: Precision is ill-defined and being set to 0.0 in labels with no predicted samples. Use `zero_division` parameter to control this behavior.\n",
      "  _warn_prf(average, modifier, msg_start, len(result))\n",
      "/home/ec2-user/anaconda3/envs/python3/lib/python3.8/site-packages/sklearn/metrics/_classification.py:1308: UndefinedMetricWarning: Precision and F-score are ill-defined and being set to 0.0 in labels with no predicted samples. Use `zero_division` parameter to control this behavior.\n",
      "  _warn_prf(average, modifier, msg_start, len(result))\n",
      "/home/ec2-user/anaconda3/envs/python3/lib/python3.8/site-packages/sklearn/metrics/_classification.py:1308: UndefinedMetricWarning: Precision and F-score are ill-defined and being set to 0.0 in labels with no predicted samples. Use `zero_division` parameter to control this behavior.\n",
      "  _warn_prf(average, modifier, msg_start, len(result))\n",
      "/home/ec2-user/anaconda3/envs/python3/lib/python3.8/site-packages/sklearn/metrics/_classification.py:1308: UndefinedMetricWarning: Precision and F-score are ill-defined and being set to 0.0 in labels with no predicted samples. Use `zero_division` parameter to control this behavior.\n",
      "  _warn_prf(average, modifier, msg_start, len(result))\n"
     ]
    }
   ],
   "source": [
    "# 6.4.2 Make predictions for class\n",
    "trained_model_lstm_c = joblib.load('stl_class_n1_la7_b64_lr1.model')\n",
    "\n",
    "gold_labs_c, pred_labs_c = predict_nn(trained_model_lstm_c, test_loader_c) # Predict the results of test data \n",
    "\n",
    "# 6.4.3 Evaluate the class\n",
    "acc_c = accuracy_score(gold_labs_c, pred_labs_c)\n",
    "print(f'Accuracy = {acc_c}')\n",
    "\n",
    "prec_c = precision_score(gold_labs_c, pred_labs_c, average='macro')\n",
    "print(f'Precision (macro average) = {prec_c}')\n",
    "\n",
    "rec_c = recall_score(gold_labs_c, pred_labs_c, average='macro')\n",
    "print(f'Recall (macro average) = {rec_c}')\n",
    "\n",
    "f1_c = f1_score(gold_labs_c, pred_labs_c, average='macro')\n",
    "print(f'F1 score (macro average) = {f1_c}')\n",
    "\n",
    "# We can get all of these with a per-class breakdown using classification_report:\n",
    "print(classification_report(gold_labs_c, pred_labs_c))"
   ]
  },
  {
   "cell_type": "code",
   "execution_count": 26,
   "id": "48436571",
   "metadata": {},
   "outputs": [
    {
     "data": {
      "text/plain": [
       "<Figure size 7200x3600 with 0 Axes>"
      ]
     },
     "metadata": {},
     "output_type": "display_data"
    },
    {
     "data": {
      "image/png": "[encoded data removed]",
      "text/plain": [
       "<Figure size 1152x1152 with 2 Axes>"
      ]
     },
     "metadata": {
      "needs_background": "light"
     },
     "output_type": "display_data"
    }
   ],
   "source": [
    "# 6.4.4 Visualise the results\n",
    "cm_c = confusion_matrix(gold_labs_c, pred_labs_c)\n",
    "\n",
    "plt.figure()\n",
    "plt.rcParams[\"figure.figsize\"] = [100.00, 50.00]\n",
    "plt.matshow(cm_c, cmap = plt.cm.GnBu)\n",
    "plt.colorbar()\n",
    "\n",
    "for i in range(cm_c.shape[0]):\n",
    "    for j in range(cm_c.shape[1]):\n",
    "        if cm_c[i][j] !=0:\n",
    "            plt.text(i,j,str(cm_c[i][j]),color='orange',fontsize='small',ha='center',va='center',weight='normal')\n",
    "\n",
    "plt.xlabel('Predicted label',labelpad=-760, fontsize='x-large',color= 'green')\n",
    "plt.ylabel('Gold label',labelpad=15, fontsize='x-large',color= 'green')\n",
    "plt.title('Class', fontsize='xx-large',pad=30,color= 'darkblue')\n",
    "plt.show()"
   ]
  },
  {
   "cell_type": "code",
   "execution_count": null,
   "id": "a7d746f4",
   "metadata": {},
   "outputs": [],
   "source": []
  }
 ],
 "metadata": {
  "kernelspec": {
   "display_name": "conda_python3",
   "language": "python",
   "name": "conda_python3"
  },
  "language_info": {
   "codemirror_mode": {
    "name": "ipython",
    "version": 3
   },
   "file_extension": ".py",
   "mimetype": "text/x-python",
   "name": "python",
   "nbconvert_exporter": "python",
   "pygments_lexer": "ipython3",
   "version": "3.8.12"
  }
 },
 "nbformat": 4,
 "nbformat_minor": 5
}
