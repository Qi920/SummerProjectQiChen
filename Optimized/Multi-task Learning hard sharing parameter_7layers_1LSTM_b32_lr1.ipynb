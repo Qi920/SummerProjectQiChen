{
 "cells": [
  {
   "cell_type": "markdown",
   "id": "c1a42ae7",
   "metadata": {},
   "source": [
    "# 3. Model Training (Multi-Task Learning Model based on hard parameter sharing)"
   ]
  },
  {
   "cell_type": "code",
   "execution_count": 1,
   "id": "692f3d1b",
   "metadata": {},
   "outputs": [],
   "source": [
    "# import libraries\n",
    "import torch\n",
    "import joblib\n",
    "import pandas as pd\n",
    "import numpy as np\n",
    "import pyarrow as pa\n",
    "import matplotlib.pyplot as plt\n",
    "\n",
    "from sklearn.model_selection import train_test_split\n",
    "\n",
    "from datasets import Dataset\n",
    "\n",
    "from torch import nn\n",
    "from torch import optim\n",
    "from sklearn.feature_extraction.text import CountVectorizer\n",
    "from nltk import word_tokenize\n",
    "from gensim.utils import tokenize\n",
    "from torch.utils.data import DataLoader, TensorDataset\n",
    "\n",
    "from sklearn.metrics import confusion_matrix\n",
    "from sklearn.metrics import accuracy_score, precision_score, recall_score, f1_score, classification_report"
   ]
  },
  {
   "cell_type": "markdown",
   "id": "73b874a3",
   "metadata": {},
   "source": [
    "## 3.1 Load Data"
   ]
  },
  {
   "cell_type": "code",
   "execution_count": 2,
   "id": "7aab14e9",
   "metadata": {
    "scrolled": true
   },
   "outputs": [
    {
     "data": {
      "text/html": [
       "<div>\n",
       "<style scoped>\n",
       "    .dataframe tbody tr th:only-of-type {\n",
       "        vertical-align: middle;\n",
       "    }\n",
       "\n",
       "    .dataframe tbody tr th {\n",
       "        vertical-align: top;\n",
       "    }\n",
       "\n",
       "    .dataframe thead th {\n",
       "        text-align: right;\n",
       "    }\n",
       "</style>\n",
       "<table border=\"1\" class=\"dataframe\">\n",
       "  <thead>\n",
       "    <tr style=\"text-align: right;\">\n",
       "      <th></th>\n",
       "      <th>ID</th>\n",
       "      <th>kingdom_n</th>\n",
       "      <th>phylum_n</th>\n",
       "      <th>class_n</th>\n",
       "      <th>sequence</th>\n",
       "      <th>sequence_kmers</th>\n",
       "    </tr>\n",
       "  </thead>\n",
       "  <tbody>\n",
       "    <tr>\n",
       "      <th>0</th>\n",
       "      <td>ID-10213</td>\n",
       "      <td>1</td>\n",
       "      <td>5</td>\n",
       "      <td>111</td>\n",
       "      <td>TACGGAGGGTGCAAGCGTTGTCCGGAATCACTGGGTGTAAAGGGTG...</td>\n",
       "      <td>TACGGA ACGGAG CGGAGG GGAGGG GAGGGT AGGGTG GGGT...</td>\n",
       "    </tr>\n",
       "    <tr>\n",
       "      <th>1</th>\n",
       "      <td>ID-24128</td>\n",
       "      <td>1</td>\n",
       "      <td>5</td>\n",
       "      <td>111</td>\n",
       "      <td>TACGGAGGGTGCAAGCGTTGTCCGGAATCACTGGGTGTAAAGGGTG...</td>\n",
       "      <td>TACGGA ACGGAG CGGAGG GGAGGG GAGGGT AGGGTG GGGT...</td>\n",
       "    </tr>\n",
       "    <tr>\n",
       "      <th>2</th>\n",
       "      <td>ID-89036</td>\n",
       "      <td>1</td>\n",
       "      <td>5</td>\n",
       "      <td>111</td>\n",
       "      <td>TACGGAGGGTGCAAGCGTTGTCCGGAATCACTGGGTGTAAAGGGTG...</td>\n",
       "      <td>TACGGA ACGGAG CGGAGG GGAGGG GAGGGT AGGGTG GGGT...</td>\n",
       "    </tr>\n",
       "    <tr>\n",
       "      <th>3</th>\n",
       "      <td>ID-65937</td>\n",
       "      <td>1</td>\n",
       "      <td>5</td>\n",
       "      <td>111</td>\n",
       "      <td>TACGGAGGGTGCAAGCGTTGTCCGGAATCACTGGGTGTAAAGGGTG...</td>\n",
       "      <td>TACGGA ACGGAG CGGAGG GGAGGG GAGGGT AGGGTG GGGT...</td>\n",
       "    </tr>\n",
       "    <tr>\n",
       "      <th>4</th>\n",
       "      <td>ID-69686</td>\n",
       "      <td>1</td>\n",
       "      <td>5</td>\n",
       "      <td>111</td>\n",
       "      <td>TACGGAGGGTCCAAGCGTTGTCCGGAATCACTGGGTGTAAAGGGTG...</td>\n",
       "      <td>TACGGA ACGGAG CGGAGG GGAGGG GAGGGT AGGGTC GGGT...</td>\n",
       "    </tr>\n",
       "    <tr>\n",
       "      <th>...</th>\n",
       "      <td>...</td>\n",
       "      <td>...</td>\n",
       "      <td>...</td>\n",
       "      <td>...</td>\n",
       "      <td>...</td>\n",
       "      <td>...</td>\n",
       "    </tr>\n",
       "    <tr>\n",
       "      <th>27400</th>\n",
       "      <td>ID-50131</td>\n",
       "      <td>1</td>\n",
       "      <td>29</td>\n",
       "      <td>89</td>\n",
       "      <td>TACGTAAGGAGCGAGCGTTGTTCGGATTTATTGGGCGTAAAGGGCG...</td>\n",
       "      <td>TACGTA ACGTAA CGTAAG GTAAGG TAAGGA AAGGAG AGGA...</td>\n",
       "    </tr>\n",
       "    <tr>\n",
       "      <th>27402</th>\n",
       "      <td>ID-53233</td>\n",
       "      <td>1</td>\n",
       "      <td>9</td>\n",
       "      <td>99</td>\n",
       "      <td>TACGTAGGGTCCGAGCGTTGTCCGGAGTGACTGGGCGTAAAGCGCG...</td>\n",
       "      <td>TACGTA ACGTAG CGTAGG GTAGGG TAGGGT AGGGTC GGGT...</td>\n",
       "    </tr>\n",
       "    <tr>\n",
       "      <th>27405</th>\n",
       "      <td>ID-59236</td>\n",
       "      <td>1</td>\n",
       "      <td>5</td>\n",
       "      <td>41</td>\n",
       "      <td>TACGGAGGGTCCAAGCGTTATCCGGAATCACTGGGTTTAAAGGGTG...</td>\n",
       "      <td>TACGGA ACGGAG CGGAGG GGAGGG GAGGGT AGGGTC GGGT...</td>\n",
       "    </tr>\n",
       "    <tr>\n",
       "      <th>27408</th>\n",
       "      <td>ID-75469</td>\n",
       "      <td>0</td>\n",
       "      <td>10</td>\n",
       "      <td>97</td>\n",
       "      <td>TACCAGCACCCCGAGTGGTCGGGACGATTATTGGGCCTAAAGCATC...</td>\n",
       "      <td>TACCAG ACCAGC CCAGCA CAGCAC AGCACC GCACCC CACC...</td>\n",
       "    </tr>\n",
       "    <tr>\n",
       "      <th>27409</th>\n",
       "      <td>ID-89027</td>\n",
       "      <td>1</td>\n",
       "      <td>26</td>\n",
       "      <td>22</td>\n",
       "      <td>GACAGAGGTGGCAAGCGTTGCTCGGAGTTACTGGGCATAAAGGGCG...</td>\n",
       "      <td>GACAGA ACAGAG CAGAGG AGAGGT GAGGTG AGGTGG GGTG...</td>\n",
       "    </tr>\n",
       "  </tbody>\n",
       "</table>\n",
       "<p>25381 rows × 6 columns</p>\n",
       "</div>"
      ],
      "text/plain": [
       "             ID  kingdom_n  phylum_n  class_n  \\\n",
       "0      ID-10213          1         5      111   \n",
       "1      ID-24128          1         5      111   \n",
       "2      ID-89036          1         5      111   \n",
       "3      ID-65937          1         5      111   \n",
       "4      ID-69686          1         5      111   \n",
       "...         ...        ...       ...      ...   \n",
       "27400  ID-50131          1        29       89   \n",
       "27402  ID-53233          1         9       99   \n",
       "27405  ID-59236          1         5       41   \n",
       "27408  ID-75469          0        10       97   \n",
       "27409  ID-89027          1        26       22   \n",
       "\n",
       "                                                sequence  \\\n",
       "0      TACGGAGGGTGCAAGCGTTGTCCGGAATCACTGGGTGTAAAGGGTG...   \n",
       "1      TACGGAGGGTGCAAGCGTTGTCCGGAATCACTGGGTGTAAAGGGTG...   \n",
       "2      TACGGAGGGTGCAAGCGTTGTCCGGAATCACTGGGTGTAAAGGGTG...   \n",
       "3      TACGGAGGGTGCAAGCGTTGTCCGGAATCACTGGGTGTAAAGGGTG...   \n",
       "4      TACGGAGGGTCCAAGCGTTGTCCGGAATCACTGGGTGTAAAGGGTG...   \n",
       "...                                                  ...   \n",
       "27400  TACGTAAGGAGCGAGCGTTGTTCGGATTTATTGGGCGTAAAGGGCG...   \n",
       "27402  TACGTAGGGTCCGAGCGTTGTCCGGAGTGACTGGGCGTAAAGCGCG...   \n",
       "27405  TACGGAGGGTCCAAGCGTTATCCGGAATCACTGGGTTTAAAGGGTG...   \n",
       "27408  TACCAGCACCCCGAGTGGTCGGGACGATTATTGGGCCTAAAGCATC...   \n",
       "27409  GACAGAGGTGGCAAGCGTTGCTCGGAGTTACTGGGCATAAAGGGCG...   \n",
       "\n",
       "                                          sequence_kmers  \n",
       "0      TACGGA ACGGAG CGGAGG GGAGGG GAGGGT AGGGTG GGGT...  \n",
       "1      TACGGA ACGGAG CGGAGG GGAGGG GAGGGT AGGGTG GGGT...  \n",
       "2      TACGGA ACGGAG CGGAGG GGAGGG GAGGGT AGGGTG GGGT...  \n",
       "3      TACGGA ACGGAG CGGAGG GGAGGG GAGGGT AGGGTG GGGT...  \n",
       "4      TACGGA ACGGAG CGGAGG GGAGGG GAGGGT AGGGTC GGGT...  \n",
       "...                                                  ...  \n",
       "27400  TACGTA ACGTAA CGTAAG GTAAGG TAAGGA AAGGAG AGGA...  \n",
       "27402  TACGTA ACGTAG CGTAGG GTAGGG TAGGGT AGGGTC GGGT...  \n",
       "27405  TACGGA ACGGAG CGGAGG GGAGGG GAGGGT AGGGTC GGGT...  \n",
       "27408  TACCAG ACCAGC CCAGCA CAGCAC AGCACC GCACCC CACC...  \n",
       "27409  GACAGA ACAGAG CAGAGG AGAGGT GAGGTG AGGTGG GGTG...  \n",
       "\n",
       "[25381 rows x 6 columns]"
      ]
     },
     "execution_count": 2,
     "metadata": {},
     "output_type": "execute_result"
    }
   ],
   "source": [
    "data_df = pd.read_csv('taxonomy_preprocessed2.csv',index_col=0)\n",
    "data_df"
   ]
  },
  {
   "cell_type": "markdown",
   "id": "603ee152",
   "metadata": {},
   "source": [
    "## 3.2 Train and Test Split"
   ]
  },
  {
   "cell_type": "markdown",
   "id": "69f4997a",
   "metadata": {},
   "source": [
    "(1) Split data into train data and test data"
   ]
  },
  {
   "cell_type": "code",
   "execution_count": 3,
   "id": "394fa059",
   "metadata": {},
   "outputs": [],
   "source": [
    "split_ratio = 0.2  # The split ratio\n",
    "\n",
    "Train_data, test_data = train_test_split(data_df, test_size=split_ratio, random_state=1432)\n",
    "train_data, dev_data = train_test_split(Train_data, test_size=split_ratio, random_state=1432)"
   ]
  },
  {
   "cell_type": "markdown",
   "id": "d463ea85",
   "metadata": {},
   "source": [
    "(2) Change the data type from DataFrame to Dataset"
   ]
  },
  {
   "cell_type": "code",
   "execution_count": 4,
   "id": "6b17ab5e",
   "metadata": {},
   "outputs": [],
   "source": [
    "train_data = Dataset(pa.Table.from_pandas(train_data))\n",
    "dev_data = Dataset(pa.Table.from_pandas(dev_data))\n",
    "test_data = Dataset(pa.Table.from_pandas(test_data))"
   ]
  },
  {
   "cell_type": "markdown",
   "id": "756666ac",
   "metadata": {},
   "source": [
    "## 3.3 Multi-task Learning Model Training based on LSTM"
   ]
  },
  {
   "cell_type": "markdown",
   "id": "f01c1572",
   "metadata": {},
   "source": [
    "(1) Change the DNA short sequences into vectors "
   ]
  },
  {
   "cell_type": "code",
   "execution_count": 5,
   "id": "29ab0d30",
   "metadata": {},
   "outputs": [
    {
     "name": "stderr",
     "output_type": "stream",
     "text": [
      "C:\\Users\\Angela.Chen\\miniconda3\\lib\\site-packages\\sklearn\\feature_extraction\\text.py:516: UserWarning: The parameter 'token_pattern' will not be used since 'tokenizer' is not None'\n",
      "  warnings.warn(\n"
     ]
    }
   ],
   "source": [
    "# 1.Tokenizer\n",
    "class Tokenizer(object):\n",
    "    def __call__(self, sequence):\n",
    "        return word_tokenize(sequence)\n",
    "\n",
    "vectorizer = CountVectorizer(tokenizer=Tokenizer())  # Construct the vectorizer\n",
    "\n",
    "vectorizer.fit(train_data['sequence_kmers'])  # Learn the vocabulary\n",
    "\n",
    "# Document-Term Matrix\n",
    "X_train = vectorizer.transform(train_data['sequence_kmers'])  # extract training set bags of words\n",
    "X_dev = vectorizer.transform(dev_data['sequence_kmers'])  # extract validation set bags of words\n",
    "X_test = vectorizer.transform(test_data['sequence_kmers'])  # extract test set bags of words\n",
    "\n",
    "vocab = vectorizer.vocabulary_"
   ]
  },
  {
   "cell_type": "markdown",
   "id": "efd65820",
   "metadata": {},
   "source": [
    "（2）Data Preprocessing"
   ]
  },
  {
   "cell_type": "code",
   "execution_count": 6,
   "id": "154b66de",
   "metadata": {},
   "outputs": [],
   "source": [
    "# 2. Data Preprocessing\n",
    "\n",
    "def encode_text(sample):\n",
    "    tokens = tokenize(sample['sequence_kmers'])  # Tokenize one document\n",
    "    \n",
    "    input_ids = []\n",
    "    for token in tokens:\n",
    "        if str.lower(token) in vocab:  # Skip words from the dev/test set that are not in the vocabulary.\n",
    "            input_ids.append(vocab[str.lower(token)]+1) # +1 is needed because we reserve 0 as a special character\n",
    "            \n",
    "    sample['input_ids'] = input_ids \n",
    "    return sample\n",
    "\n",
    "\n",
    "def get_text_length(sample):\n",
    "    tokens = tokenize(sample['sequence_kmers'])  # Tokenize one document\n",
    "    length = len(list(tokens))\n",
    "            \n",
    "    sample['len'] = length\n",
    "    return sample\n",
    "\n",
    "def convert_to_data_loader(dataset):\n",
    "    # convert from list to tensor\n",
    "    input_tensor = torch.from_numpy(np.array(dataset['input_ids']))\n",
    "    \n",
    "    label_tensor_k = torch.from_numpy(np.array(dataset['kingdom_n'])).long()\n",
    "    label_tensor_p = torch.from_numpy(np.array(dataset['phylum_n'])).long()\n",
    "    label_tensor_c = torch.from_numpy(np.array(dataset['class_n'])).long()\n",
    "#     label_tensor = torch.from_numpy(np.vstack((label_k,label_p,label_c)).T).long()\n",
    "    \n",
    "    len_tensor = torch.from_numpy(np.array(dataset['len'])).long() # --> Add len_tensor element\n",
    "    tensor_dataset = TensorDataset(input_tensor, label_tensor_k, label_tensor_p, label_tensor_c, len_tensor) # --> Add len_tensor element\n",
    "    loader = DataLoader(tensor_dataset, batch_size=batch_size, shuffle=True)\n",
    "\n",
    "    return loader"
   ]
  },
  {
   "cell_type": "code",
   "execution_count": 7,
   "id": "45265aba",
   "metadata": {},
   "outputs": [
    {
     "data": {
      "application/vnd.jupyter.widget-view+json": {
       "model_id": "f87dacfd14284d22901fef4d80f6cc64",
       "version_major": 2,
       "version_minor": 0
      },
      "text/plain": [
       "  0%|          | 0/16243 [00:00<?, ?ex/s]"
      ]
     },
     "metadata": {},
     "output_type": "display_data"
    },
    {
     "data": {
      "application/vnd.jupyter.widget-view+json": {
       "model_id": "241c15c06a6c4f4a8ed110a430450215",
       "version_major": 2,
       "version_minor": 0
      },
      "text/plain": [
       "  0%|          | 0/16243 [00:00<?, ?ex/s]"
      ]
     },
     "metadata": {},
     "output_type": "display_data"
    },
    {
     "data": {
      "application/vnd.jupyter.widget-view+json": {
       "model_id": "946179b8103041e89f8a4081499461b0",
       "version_major": 2,
       "version_minor": 0
      },
      "text/plain": [
       "  0%|          | 0/4061 [00:00<?, ?ex/s]"
      ]
     },
     "metadata": {},
     "output_type": "display_data"
    },
    {
     "data": {
      "application/vnd.jupyter.widget-view+json": {
       "model_id": "7ca9e8c116e8433e963805ebeb6e3230",
       "version_major": 2,
       "version_minor": 0
      },
      "text/plain": [
       "  0%|          | 0/4061 [00:00<?, ?ex/s]"
      ]
     },
     "metadata": {},
     "output_type": "display_data"
    },
    {
     "data": {
      "application/vnd.jupyter.widget-view+json": {
       "model_id": "5e859e5af59b47e9bf3086a3efe1c0ed",
       "version_major": 2,
       "version_minor": 0
      },
      "text/plain": [
       "  0%|          | 0/5077 [00:00<?, ?ex/s]"
      ]
     },
     "metadata": {},
     "output_type": "display_data"
    },
    {
     "data": {
      "application/vnd.jupyter.widget-view+json": {
       "model_id": "5a2babf2caaa4c5fa02e7e23e6f0b3b3",
       "version_major": 2,
       "version_minor": 0
      },
      "text/plain": [
       "  0%|          | 0/5077 [00:00<?, ?ex/s]"
      ]
     },
     "metadata": {},
     "output_type": "display_data"
    }
   ],
   "source": [
    "batch_size = 32\n",
    "\n",
    "# Preprocess datasets\n",
    "train_data = train_data.map(encode_text)\n",
    "train_data = train_data.map(get_text_length) # --> Map train_dataset to get_text_length method\n",
    "train_loader = convert_to_data_loader(train_data)\n",
    "\n",
    "dev_data = dev_data.map(encode_text)\n",
    "dev_data = dev_data.map(get_text_length)  # --> Map test_dataset to get_text_length method\n",
    "dev_loader = convert_to_data_loader(dev_data)\n",
    "\n",
    "test_data = test_data.map(encode_text)\n",
    "test_data = test_data.map(get_text_length)  # --> Map test_dataset to get_text_length method\n",
    "test_loader = convert_to_data_loader(test_data)"
   ]
  },
  {
   "cell_type": "markdown",
   "id": "1ccae444",
   "metadata": {},
   "source": [
    "(3) Construct Multi-task learning model based on hard sharing parameter"
   ]
  },
  {
   "cell_type": "code",
   "execution_count": 8,
   "id": "84d00594",
   "metadata": {},
   "outputs": [],
   "source": [
    "# 3. Construct Multi-task learning model based on hard sharing parameter\n",
    "class DNAClassifierWithLSTM(nn.Module):\n",
    "    \n",
    "    def __init__(self, vocab_size, embedding_size, hidden_size, \n",
    "                 num_layers, num_classes_k, num_classes_p, num_classes_c,\n",
    "                 hidden_size_k, hidden_size_p, hidden_size_c): \n",
    "        super(DNAClassifierWithLSTM, self).__init__()\n",
    "\n",
    "        self.embedding_size = embedding_size\n",
    "        self.num_layers = num_layers\n",
    "        self.hidden_size = hidden_size\n",
    "        self.hidden_size_k = hidden_size_k\n",
    "        self.hidden_size_p = hidden_size_p\n",
    "        self.hidden_size_c = hidden_size_c\n",
    "\n",
    "\n",
    "        self.embedding_layer = nn.Embedding(vocab_size,embedding_size) # embedding layer\n",
    "        # Hidden layer (LSTM layer) and the num_layers is the number of recurrent layers\n",
    "        self.hidden_layer = nn.LSTM(embedding_size,hidden_size,num_layers,batch_first=True)\n",
    "        \n",
    "        self.activation = nn.ReLU() # Hidden layer\n",
    "        \n",
    "        self.output_layer_k = nn.Sequential(\n",
    "            nn.Linear(hidden_size,hidden_size_k),\n",
    "            nn.ReLU(),\n",
    "            nn.Dropout(),\n",
    "            nn.Linear(hidden_size_k,num_classes_k)\n",
    "        )\n",
    "        \n",
    "        self.output_layer_p = nn.Sequential(\n",
    "            nn.Linear(hidden_size,hidden_size_p),\n",
    "            nn.ReLU(),\n",
    "            nn.Dropout(),\n",
    "            nn.Linear(hidden_size_p,num_classes_p)\n",
    "        )\n",
    "        \n",
    "        self.output_layer_c = nn.Sequential(\n",
    "            nn.Linear(hidden_size,hidden_size_c),\n",
    "            nn.ReLU(),\n",
    "            nn.Dropout(),\n",
    "            nn.Linear(hidden_size_c,num_classes_c)\n",
    "        )\n",
    "        \n",
    "    def forward (self, input_words, sequence_len):\n",
    "        # Input dimensions are:  (batch_size, seq_length)\n",
    "        embedded_words = self.embedding_layer(input_words)  # (batch_size, seq_length, embedding_size)\n",
    "   \n",
    "        # Variable length\n",
    "        embedded_words = nn.utils.rnn.pack_padded_sequence(embedded_words,sequence_len,batch_first=True,enforce_sorted=False)\n",
    "        \n",
    "        # Compute in LSTM layer\n",
    "        h0 = torch.randn(self.num_layers, len(input_words), self.hidden_size) # --> Initialize hidden state h0\n",
    "        c0 = torch.randn(self.num_layers, len(input_words), self.hidden_size) # --> Initialize cell state c0\n",
    "        embedded_words_h, (hn, cn)= self.hidden_layer(embedded_words, (h0,c0))  # --> LSTM layer\n",
    "        \n",
    "        # Get the last hidden state or cell state\n",
    "        embedded_words_h = hn[self.num_layers-1] # Short-term memory\n",
    "        # embedded_words_c = cn[self.num_layers-1] # Long-term memory\n",
    "\n",
    "        # Activation layer\n",
    "        h = self.activation(embedded_words_h) \n",
    "        \n",
    "        # Output layer\n",
    "        output_k = self.output_layer_k(h)   \n",
    "        output_p = self.output_layer_p(h)\n",
    "        output_c = self.output_layer_c(h)\n",
    "\n",
    "        return output_k, output_p, output_c"
   ]
  },
  {
   "cell_type": "markdown",
   "id": "051d3373",
   "metadata": {},
   "source": [
    "(4) Construct the training model function"
   ]
  },
  {
   "cell_type": "code",
   "execution_count": 9,
   "id": "60a310dc",
   "metadata": {},
   "outputs": [],
   "source": [
    "# 4. Train model\n",
    "def train_nn(num_epochs, learning_rate, model, train_dataloader, dev_dataloader):\n",
    "# def train_nn(num_epochs, model, train_dataloader):\n",
    "    \n",
    "#     learning_rate = 0.0005  # learning rate for the gradient descent optimizer, related to the step size\n",
    "\n",
    "    loss_fn = nn.CrossEntropyLoss()  # create loss function object\n",
    "    optimizer = optim.Adam(model.parameters(), lr=learning_rate)  # create the optimizer\n",
    "    \n",
    "    for e in range(num_epochs):\n",
    "        # Track performance on the training set as we are learning...\n",
    "        total_correct_k = 0\n",
    "        total_correct_p = 0\n",
    "        total_correct_c = 0\n",
    "        \n",
    "        total_trained_k = 0\n",
    "        total_trained_p = 0\n",
    "        total_trained_c = 0\n",
    "        \n",
    "        train_losses_k = []\n",
    "        train_losses_p = []\n",
    "        train_losses_c = []\n",
    "\n",
    "        model.train()  # Put the model in training mode.\n",
    "\n",
    "        for i, (batch_input_ids, batch_labels_k, batch_labels_p, batch_labels_c, batch_length) in enumerate(train_dataloader): # --> Add batch_length element\n",
    "            # Iterate over each batch of data\n",
    "\n",
    "            optimizer.zero_grad()  # Reset the optimizer\n",
    "\n",
    "            # Use the model to perform forward inference on the input data.\n",
    "            # This will run the forward() function.\n",
    "            output_k, output_p, output_c = model(batch_input_ids, batch_length) # --> Add batch_length parameter\n",
    "\n",
    "            # Compute the loss for the current batch of data\n",
    "            batch_loss_k = loss_fn(output_k, batch_labels_k)\n",
    "            train_losses_k.append(batch_loss_k.item())\n",
    "            \n",
    "            batch_loss_p = loss_fn(output_p, batch_labels_p)\n",
    "            train_losses_p.append(batch_loss_p.item())\n",
    "            \n",
    "            batch_loss_c = loss_fn(output_c, batch_labels_c)\n",
    "            train_losses_c.append(batch_loss_c.item())\n",
    "            \n",
    "            batch_loss = (batch_loss_k + batch_loss_p + batch_loss_c) / 3\n",
    "            \n",
    "            # Perform back propagation to compute the gradients with respect to each weight\n",
    "            batch_loss.backward()\n",
    "            # Update the weights using the compute gradients\n",
    "            optimizer.step()\n",
    "\n",
    "            # Count correct labels so we can compute accuracy on the training set\n",
    "            predicted_labels_k = output_k.argmax(1)\n",
    "            total_correct_k += (predicted_labels_k == batch_labels_k).sum().item()\n",
    "            total_trained_k += batch_labels_k.size(0)\n",
    "            \n",
    "            predicted_labels_p = output_p.argmax(1)\n",
    "            total_correct_p += (predicted_labels_p == batch_labels_p).sum().item()\n",
    "            total_trained_p += batch_labels_p.size(0)\n",
    "            \n",
    "            predicted_labels_c = output_c.argmax(1)\n",
    "            total_correct_c += (predicted_labels_c == batch_labels_c).sum().item()\n",
    "            total_trained_c += batch_labels_c.size(0)\n",
    "\n",
    "        train_accuracy_k = total_correct_k/total_trained_k*100\n",
    "        train_accuracy_p = total_correct_p/total_trained_p*100\n",
    "        train_accuracy_c = total_correct_c/total_trained_c*100\n",
    "\n",
    "        print(\"Epoch: {}/{}\".format((e+1), num_epochs),\n",
    "              \"Training Loss ('kingdom'): {:.4f}\".format(np.mean(train_losses_k)),\n",
    "              \"Training Accuracy ('kingdom'): {:.4f}%\".format(train_accuracy_k))\n",
    "        \n",
    "        print(\"Epoch: {}/{}\".format((e+1), num_epochs),\n",
    "              \"Training Loss ('phylum'): {:.4f}\".format(np.mean(train_losses_p)),\n",
    "              \"Training Accuracy ('phylum'): {:.4f}%\".format(train_accuracy_p))\n",
    "        \n",
    "        print(\"Epoch: {}/{}\".format((e+1), num_epochs),\n",
    "              \"Training Loss ('class'): {:.4f}\".format(np.mean(train_losses_c)),\n",
    "              \"Training Accuracy ('class'): {:.4f}%\".format(train_accuracy_c))\n",
    "        \n",
    "        \n",
    "        model.eval()  # Switch model to evaluation mode\n",
    "        \n",
    "        total_correct_k = 0\n",
    "        total_correct_p = 0\n",
    "        total_correct_c = 0\n",
    "        \n",
    "        total_trained_k = 0\n",
    "        total_trained_p = 0\n",
    "        total_trained_c = 0\n",
    "        \n",
    "        dev_losses_k = []\n",
    "        dev_losses_p = []\n",
    "        dev_losses_c = []\n",
    "\n",
    "        for dev_input_ids, dev_labels_k, dev_labels_p, dev_labels_c, dev_length in dev_dataloader:  # --> Add dev_length element\n",
    "\n",
    "            optimizer.zero_grad()  # Reset the optimizer\n",
    "\n",
    "            # Use the model to perform forward inference on the input data.\n",
    "            # This will run the forward() function.\n",
    "            dev_output_k, dev_output_p, dev_output_c = model(dev_input_ids, dev_length) # --> Add dev_length parameter\n",
    "            \n",
    "            # Compute the loss for the current batch of data\n",
    "            dev_loss_k = loss_fn(dev_output_k, dev_labels_k)\n",
    "            dev_losses_k.append(dev_loss_k.item())\n",
    "            \n",
    "            dev_loss_p = loss_fn(dev_output_p, dev_labels_p)\n",
    "            dev_losses_p.append(dev_loss_p.item())\n",
    "            \n",
    "            dev_loss_c = loss_fn(dev_output_c, dev_labels_c)\n",
    "            dev_losses_c.append(dev_loss_c.item())\n",
    "            \n",
    "            dev_loss = (dev_loss_k + dev_loss_p + dev_loss_c) / 3       \n",
    "\n",
    "            # Perform back propagation to compute the gradients with respect to each weight\n",
    "            dev_loss.backward()\n",
    "\n",
    "            # Update the weights using the compute gradients\n",
    "            optimizer.step()\n",
    "            \n",
    "            # Count correct labels so we can compute accuracy on the validation set\n",
    "            predicted_labels_k = dev_output_k.argmax(1)\n",
    "            total_correct_k += (predicted_labels_k == dev_labels_k).sum().item()\n",
    "            total_trained_k += dev_labels_k.size(0)\n",
    "            \n",
    "            predicted_labels_p = dev_output_p.argmax(1)\n",
    "            total_correct_p += (predicted_labels_p == dev_labels_p).sum().item()\n",
    "            total_trained_p += dev_labels_p.size(0)\n",
    "            \n",
    "            predicted_labels_c = dev_output_c.argmax(1)\n",
    "            total_correct_c += (predicted_labels_c == dev_labels_c).sum().item()\n",
    "            total_trained_c += dev_labels_c.size(0)\n",
    "            \n",
    "        dev_accuracy_k = total_correct_k/total_trained_k*100\n",
    "        dev_accuracy_p = total_correct_p/total_trained_p*100\n",
    "        dev_accuracy_c = total_correct_c/total_trained_c*100\n",
    "        \n",
    "        print(\"Epoch: {}/{}\".format((e+1), num_epochs),\n",
    "              \"Training Loss ('kingdom'): {:.4f}\".format(np.mean(dev_losses_k)),\n",
    "              \"Training Accuracy ('kingdom'): {:.4f}%\".format(dev_accuracy_k))\n",
    "        \n",
    "        print(\"Epoch: {}/{}\".format((e+1), num_epochs),\n",
    "              \"Training Loss ('phylum'): {:.4f}\".format(np.mean(dev_losses_p)),\n",
    "              \"Training Accuracy ('phylum'): {:.4f}%\".format(dev_accuracy_p))\n",
    "        \n",
    "        print(\"Epoch: {}/{}\".format((e+1), num_epochs),\n",
    "              \"Training Loss ('class'): {:.4f}\".format(np.mean(dev_losses_c)),\n",
    "              \"Training Accuracy ('class'): {:.4f}%\".format(dev_accuracy_c))\n",
    "\n",
    "    return model"
   ]
  },
  {
   "cell_type": "markdown",
   "id": "640c2d74",
   "metadata": {},
   "source": [
    "(5) Construct the prediction function"
   ]
  },
  {
   "cell_type": "code",
   "execution_count": 10,
   "id": "0532521c",
   "metadata": {},
   "outputs": [],
   "source": [
    "# 5. The prediction function\n",
    "def predict_nn(trained_model, test_loader):\n",
    "\n",
    "    trained_model.eval()\n",
    "\n",
    "    correct = 0  # count the number of correct classification labels\n",
    "\n",
    "    gold_labs_k = []  # gold labels to return\n",
    "    pred_labs_k = []  # predicted labels to return\n",
    "    \n",
    "    gold_labs_p = []  # gold labels to return\n",
    "    pred_labs_p = []  # predicted labels to return\n",
    "    \n",
    "    gold_labs_c = []  # gold labels to return\n",
    "    pred_labs_c = []  # predicted labels to return\n",
    "    \n",
    "    for inputs, labels_k, labels_p, labels_c, length in test_loader: # --> Add length element\n",
    "        test_output_k, test_output_p, test_output_c = trained_model(inputs, length)  # --> Add length parameter\n",
    "        predicted_labels_k = test_output_k.argmax(1)\n",
    "        predicted_labels_p = test_output_p.argmax(1)\n",
    "        predicted_labels_c = test_output_c.argmax(1)\n",
    "\n",
    "        gold_labs_k.extend(labels_k.tolist())\n",
    "        pred_labs_k.extend(predicted_labels_k.tolist())\n",
    "        \n",
    "        gold_labs_p.extend(labels_p.tolist())\n",
    "        pred_labs_p.extend(predicted_labels_p.tolist())\n",
    "        \n",
    "        gold_labs_c.extend(labels_c.tolist())\n",
    "        pred_labs_c.extend(predicted_labels_c.tolist())\n",
    "    \n",
    "    return gold_labs_k, pred_labs_k, gold_labs_p, pred_labs_p, gold_labs_c, pred_labs_c"
   ]
  },
  {
   "cell_type": "markdown",
   "id": "3d4fbe80",
   "metadata": {},
   "source": [
    "（6）Train model"
   ]
  },
  {
   "cell_type": "code",
   "execution_count": 11,
   "id": "8a0cb30a",
   "metadata": {
    "scrolled": true
   },
   "outputs": [
    {
     "name": "stdout",
     "output_type": "stream",
     "text": [
      "Epoch: 1/10 Training Loss ('kingdom'): 0.1057 Training Accuracy ('kingdom'): 97.7406%\n",
      "Epoch: 1/10 Training Loss ('phylum'): 1.4260 Training Accuracy ('phylum'): 61.1094%\n",
      "Epoch: 1/10 Training Loss ('class'): 2.3085 Training Accuracy ('class'): 45.0840%\n",
      "Epoch: 1/10 Training Loss ('kingdom'): 0.0381 Training Accuracy ('kingdom'): 98.2763%\n",
      "Epoch: 1/10 Training Loss ('phylum'): 0.8126 Training Accuracy ('phylum'): 77.1485%\n",
      "Epoch: 1/10 Training Loss ('class'): 1.3194 Training Accuracy ('class'): 66.5600%\n",
      "Epoch: 2/10 Training Loss ('kingdom'): 0.0674 Training Accuracy ('kingdom'): 97.7406%\n",
      "Epoch: 2/10 Training Loss ('phylum'): 0.7650 Training Accuracy ('phylum'): 78.9940%\n",
      "Epoch: 2/10 Training Loss ('class'): 1.2943 Training Accuracy ('class'): 68.2017%\n",
      "Epoch: 2/10 Training Loss ('kingdom'): 0.0325 Training Accuracy ('kingdom'): 98.2763%\n",
      "Epoch: 2/10 Training Loss ('phylum'): 0.5084 Training Accuracy ('phylum'): 85.8163%\n",
      "Epoch: 2/10 Training Loss ('class'): 0.8502 Training Accuracy ('class'): 77.6410%\n",
      "Epoch: 3/10 Training Loss ('kingdom'): 0.0649 Training Accuracy ('kingdom'): 97.7406%\n",
      "Epoch: 3/10 Training Loss ('phylum'): 0.5145 Training Accuracy ('phylum'): 86.6281%\n",
      "Epoch: 3/10 Training Loss ('class'): 0.9067 Training Accuracy ('class'): 77.3502%\n",
      "Epoch: 3/10 Training Loss ('kingdom'): 0.0283 Training Accuracy ('kingdom'): 98.2763%\n",
      "Epoch: 3/10 Training Loss ('phylum'): 0.3551 Training Accuracy ('phylum'): 90.1748%\n",
      "Epoch: 3/10 Training Loss ('class'): 0.5867 Training Accuracy ('class'): 83.8217%\n",
      "Epoch: 4/10 Training Loss ('kingdom'): 0.0766 Training Accuracy ('kingdom'): 97.7406%\n",
      "Epoch: 4/10 Training Loss ('phylum'): 0.4858 Training Accuracy ('phylum'): 87.8902%\n",
      "Epoch: 4/10 Training Loss ('class'): 0.8138 Training Accuracy ('class'): 80.3361%\n",
      "Epoch: 4/10 Training Loss ('kingdom'): 0.0294 Training Accuracy ('kingdom'): 98.2763%\n",
      "Epoch: 4/10 Training Loss ('phylum'): 0.2608 Training Accuracy ('phylum'): 92.9082%\n",
      "Epoch: 4/10 Training Loss ('class'): 0.4531 Training Accuracy ('class'): 87.6139%\n",
      "Epoch: 5/10 Training Loss ('kingdom'): 0.0648 Training Accuracy ('kingdom'): 97.7406%\n",
      "Epoch: 5/10 Training Loss ('phylum'): 0.3186 Training Accuracy ('phylum'): 91.5964%\n",
      "Epoch: 5/10 Training Loss ('class'): 0.5836 Training Accuracy ('class'): 84.5410%\n",
      "Epoch: 5/10 Training Loss ('kingdom'): 0.0301 Training Accuracy ('kingdom'): 98.2763%\n",
      "Epoch: 5/10 Training Loss ('phylum'): 0.2045 Training Accuracy ('phylum'): 94.2871%\n",
      "Epoch: 5/10 Training Loss ('class'): 0.3806 Training Accuracy ('class'): 89.1652%\n",
      "Epoch: 6/10 Training Loss ('kingdom'): 0.0634 Training Accuracy ('kingdom'): 97.7406%\n",
      "Epoch: 6/10 Training Loss ('phylum'): 0.2755 Training Accuracy ('phylum'): 92.6922%\n",
      "Epoch: 6/10 Training Loss ('class'): 0.5414 Training Accuracy ('class'): 85.6554%\n",
      "Epoch: 6/10 Training Loss ('kingdom'): 0.0287 Training Accuracy ('kingdom'): 98.2763%\n",
      "Epoch: 6/10 Training Loss ('phylum'): 0.1939 Training Accuracy ('phylum'): 94.9520%\n",
      "Epoch: 6/10 Training Loss ('class'): 0.3484 Training Accuracy ('class'): 90.2733%\n",
      "Epoch: 7/10 Training Loss ('kingdom'): 0.0642 Training Accuracy ('kingdom'): 97.7406%\n",
      "Epoch: 7/10 Training Loss ('phylum'): 0.2433 Training Accuracy ('phylum'): 93.6896%\n",
      "Epoch: 7/10 Training Loss ('class'): 0.4812 Training Accuracy ('class'): 87.1637%\n",
      "Epoch: 7/10 Training Loss ('kingdom'): 0.0290 Training Accuracy ('kingdom'): 98.2763%\n",
      "Epoch: 7/10 Training Loss ('phylum'): 0.1603 Training Accuracy ('phylum'): 95.6661%\n",
      "Epoch: 7/10 Training Loss ('class'): 0.2914 Training Accuracy ('class'): 91.7754%\n",
      "Epoch: 8/10 Training Loss ('kingdom'): 0.0636 Training Accuracy ('kingdom'): 97.7406%\n",
      "Epoch: 8/10 Training Loss ('phylum'): 0.2054 Training Accuracy ('phylum'): 94.4961%\n",
      "Epoch: 8/10 Training Loss ('class'): 0.4098 Training Accuracy ('class'): 88.9983%\n",
      "Epoch: 8/10 Training Loss ('kingdom'): 0.0274 Training Accuracy ('kingdom'): 98.2763%\n",
      "Epoch: 8/10 Training Loss ('phylum'): 0.1319 Training Accuracy ('phylum'): 96.4787%\n",
      "Epoch: 8/10 Training Loss ('class'): 0.2414 Training Accuracy ('class'): 93.0805%\n",
      "Epoch: 9/10 Training Loss ('kingdom'): 0.0639 Training Accuracy ('kingdom'): 97.7406%\n",
      "Epoch: 9/10 Training Loss ('phylum'): 0.1895 Training Accuracy ('phylum'): 94.8840%\n",
      "Epoch: 9/10 Training Loss ('class'): 0.3946 Training Accuracy ('class'): 89.0230%\n",
      "Epoch: 9/10 Training Loss ('kingdom'): 0.0274 Training Accuracy ('kingdom'): 98.2763%\n",
      "Epoch: 9/10 Training Loss ('phylum'): 0.1307 Training Accuracy ('phylum'): 96.2078%\n",
      "Epoch: 9/10 Training Loss ('class'): 0.2356 Training Accuracy ('class'): 92.9820%\n",
      "Epoch: 10/10 Training Loss ('kingdom'): 0.0640 Training Accuracy ('kingdom'): 97.7406%\n",
      "Epoch: 10/10 Training Loss ('phylum'): 0.1903 Training Accuracy ('phylum'): 94.7916%\n",
      "Epoch: 10/10 Training Loss ('class'): 0.3806 Training Accuracy ('class'): 89.3616%\n",
      "Epoch: 10/10 Training Loss ('kingdom'): 0.0280 Training Accuracy ('kingdom'): 98.2763%\n",
      "Epoch: 10/10 Training Loss ('phylum'): 0.1211 Training Accuracy ('phylum'): 96.5033%\n",
      "Epoch: 10/10 Training Loss ('class'): 0.2328 Training Accuracy ('class'): 93.1298%\n"
     ]
    }
   ],
   "source": [
    "# 6. Construct and train a LSTM model\n",
    "num_layers = 1 # Set the number of recurrent layers     \n",
    "\n",
    "vocab_size = len(vectorizer.vocabulary_) + 1\n",
    "embedding_size = 30  # number of dimensions for embeddings\n",
    "hidden_size = 300 # number of hidden units\n",
    "hidden_size_k = 4\n",
    "hidden_size_p = 100\n",
    "hidden_size_c = 200\n",
    "num_epochs = 10\n",
    "learning_rate = 0.005\n",
    "\n",
    "num_classes_k = len(np.unique(train_data['kingdom_n'])) \n",
    "num_classes_p = len(np.unique(train_data['phylum_n']))\n",
    "num_classes_c = len(np.unique(train_data['class_n']))\n",
    "\n",
    "model_lstm = DNAClassifierWithLSTM(vocab_size, embedding_size, hidden_size, num_layers, num_classes_k, num_classes_p, num_classes_c,\n",
    "                                  hidden_size_k, hidden_size_p, hidden_size_c) # Creat a LSTM\n",
    "trained_model_lstm = train_nn(num_epochs, learning_rate, model_lstm, train_loader, dev_loader) # Train model"
   ]
  },
  {
   "cell_type": "code",
   "execution_count": 12,
   "id": "5abc29e1",
   "metadata": {},
   "outputs": [
    {
     "data": {
      "text/plain": [
       "['mtl_hard_n1_la7_b32_lr1.model']"
      ]
     },
     "execution_count": 12,
     "metadata": {},
     "output_type": "execute_result"
    }
   ],
   "source": [
    "# Save model\n",
    "joblib.dump(trained_model_lstm, 'mtl_hard_n1_la7_b32_lr1.model')"
   ]
  },
  {
   "cell_type": "markdown",
   "id": "e157067b",
   "metadata": {},
   "source": [
    "(7) Model prediction"
   ]
  },
  {
   "cell_type": "code",
   "execution_count": 11,
   "id": "62f06673",
   "metadata": {},
   "outputs": [],
   "source": [
    "# 7. Predict model on unseen data\n",
    "trained_model_lstm = joblib.load('mtl_hard_n1_la7_b32_lr1.model')\n",
    "\n",
    "gold_labs_k, pred_labs_k, gold_labs_p, pred_labs_p, gold_labs_c, pred_labs_c = predict_nn(trained_model_lstm, test_loader) # Predict the results of test data "
   ]
  },
  {
   "cell_type": "markdown",
   "id": "0e3e99dd",
   "metadata": {},
   "source": [
    "(8) Evaluate model and visualise the results"
   ]
  },
  {
   "cell_type": "markdown",
   "id": "ba657133",
   "metadata": {},
   "source": [
    "**$\\cdot$Kingdom**"
   ]
  },
  {
   "cell_type": "code",
   "execution_count": 12,
   "id": "a9a5c9b3",
   "metadata": {},
   "outputs": [
    {
     "name": "stdout",
     "output_type": "stream",
     "text": [
      "Accuracy = 0.9740003939334253\n",
      "Precision (macro average) = 0.48700019696671265\n",
      "Recall (macro average) = 0.5\n",
      "F1 score (macro average) = 0.4934144881261226\n",
      "              precision    recall  f1-score   support\n",
      "\n",
      "           0       0.00      0.00      0.00       132\n",
      "           1       0.97      1.00      0.99      4945\n",
      "\n",
      "    accuracy                           0.97      5077\n",
      "   macro avg       0.49      0.50      0.49      5077\n",
      "weighted avg       0.95      0.97      0.96      5077\n",
      "\n"
     ]
    },
    {
     "name": "stderr",
     "output_type": "stream",
     "text": [
      "C:\\Users\\Angela.Chen\\miniconda3\\lib\\site-packages\\sklearn\\metrics\\_classification.py:1318: UndefinedMetricWarning: Precision is ill-defined and being set to 0.0 in labels with no predicted samples. Use `zero_division` parameter to control this behavior.\n",
      "  _warn_prf(average, modifier, msg_start, len(result))\n",
      "C:\\Users\\Angela.Chen\\miniconda3\\lib\\site-packages\\sklearn\\metrics\\_classification.py:1318: UndefinedMetricWarning: Precision and F-score are ill-defined and being set to 0.0 in labels with no predicted samples. Use `zero_division` parameter to control this behavior.\n",
      "  _warn_prf(average, modifier, msg_start, len(result))\n",
      "C:\\Users\\Angela.Chen\\miniconda3\\lib\\site-packages\\sklearn\\metrics\\_classification.py:1318: UndefinedMetricWarning: Precision and F-score are ill-defined and being set to 0.0 in labels with no predicted samples. Use `zero_division` parameter to control this behavior.\n",
      "  _warn_prf(average, modifier, msg_start, len(result))\n",
      "C:\\Users\\Angela.Chen\\miniconda3\\lib\\site-packages\\sklearn\\metrics\\_classification.py:1318: UndefinedMetricWarning: Precision and F-score are ill-defined and being set to 0.0 in labels with no predicted samples. Use `zero_division` parameter to control this behavior.\n",
      "  _warn_prf(average, modifier, msg_start, len(result))\n"
     ]
    }
   ],
   "source": [
    "# 8.1 Evaluate the kingdom\n",
    "acc_k = accuracy_score(gold_labs_k, pred_labs_k)\n",
    "print(f'Accuracy = {acc_k}')\n",
    "\n",
    "prec_k = precision_score(gold_labs_k, pred_labs_k, average='macro')\n",
    "print(f'Precision (macro average) = {prec_k}')\n",
    "\n",
    "rec_k = recall_score(gold_labs_k, pred_labs_k, average='macro')\n",
    "print(f'Recall (macro average) = {rec_k}')\n",
    "\n",
    "f1_k = f1_score(gold_labs_k, pred_labs_k, average='macro')\n",
    "print(f'F1 score (macro average) = {f1_k}')\n",
    "\n",
    "# We can get all of these with a per-class breakdown using classification_report:\n",
    "print(classification_report(gold_labs_k, pred_labs_k))"
   ]
  },
  {
   "cell_type": "code",
   "execution_count": 13,
   "id": "eae97cf7",
   "metadata": {},
   "outputs": [
    {
     "data": {
      "text/plain": [
       "<Figure size 432x288 with 0 Axes>"
      ]
     },
     "metadata": {},
     "output_type": "display_data"
    },
    {
     "data": {
      "image/png": "[encoded data removed]",
      "text/plain": [
       "<Figure size 288x288 with 2 Axes>"
      ]
     },
     "metadata": {
      "needs_background": "light"
     },
     "output_type": "display_data"
    }
   ],
   "source": [
    "# 8.2 Visualise the results\n",
    "cm_k = confusion_matrix(gold_labs_k, pred_labs_k, normalize = 'pred')\n",
    "\n",
    "plt.figure()\n",
    "plt.matshow(cm_k, cmap = plt.cm.GnBu)\n",
    "plt.colorbar()\n",
    "\n",
    "for i in range(cm_k.shape[0]):\n",
    "    for j in range(cm_k.shape[1]):\n",
    "        plt.text(i,j,str(round(cm_k[i][j],2)),color='orange',fontsize='x-large',ha='center',va='center',weight='semibold')\n",
    "\n",
    "plt.xlabel('Predicted label',labelpad=-220, fontsize='x-large',color= 'green')\n",
    "plt.ylabel('Gold label',labelpad=15, fontsize='x-large',color= 'green')\n",
    "plt.title('Kingdom', fontsize='xx-large',pad=30,color= 'darkblue')\n",
    "plt.show()"
   ]
  },
  {
   "cell_type": "markdown",
   "id": "9dec1774",
   "metadata": {},
   "source": [
    "**$\\cdot$Phylum**"
   ]
  },
  {
   "cell_type": "code",
   "execution_count": 14,
   "id": "de48568b",
   "metadata": {},
   "outputs": [
    {
     "name": "stdout",
     "output_type": "stream",
     "text": [
      "Accuracy = 0.946425054165846\n",
      "Precision (macro average) = 0.8227719913784801\n",
      "Recall (macro average) = 0.7864645773661606\n",
      "F1 score (macro average) = 0.7937320933318616\n",
      "              precision    recall  f1-score   support\n",
      "\n",
      "           0       1.00      1.00      1.00         1\n",
      "           1       0.89      0.97      0.93       316\n",
      "           2       0.97      0.95      0.96       350\n",
      "           3       0.93      0.67      0.78        21\n",
      "           4       0.00      0.00      0.00         2\n",
      "           5       0.99      0.99      0.99       651\n",
      "           6       0.40      0.67      0.50         3\n",
      "           7       1.00      0.93      0.96        28\n",
      "           8       0.88      0.81      0.84        26\n",
      "           9       0.84      0.94      0.88       195\n",
      "          10       0.86      0.90      0.88        21\n",
      "          11       0.95      0.92      0.93       169\n",
      "          12       0.82      0.82      0.82        33\n",
      "          13       1.00      0.72      0.84        18\n",
      "          14       0.57      0.67      0.62         6\n",
      "          15       0.94      0.92      0.93       366\n",
      "          16       0.89      1.00      0.94         8\n",
      "          17       0.60      0.75      0.67         4\n",
      "          18       0.38      0.43      0.40         7\n",
      "          19       0.87      0.92      0.89        73\n",
      "          20       1.00      0.25      0.40         8\n",
      "          21       0.95      0.87      0.91        23\n",
      "          22       0.79      0.76      0.78        25\n",
      "          24       0.71      0.59      0.64        41\n",
      "          25       0.80      0.80      0.80         5\n",
      "          26       0.98      0.94      0.96       306\n",
      "          27       0.97      0.98      0.97      1879\n",
      "          28       0.53      0.44      0.48        18\n",
      "          29       0.89      0.70      0.78        23\n",
      "          30       0.95      0.91      0.93        23\n",
      "          31       1.00      0.67      0.80         6\n",
      "          32       0.74      0.85      0.79        20\n",
      "          33       0.98      0.96      0.97       267\n",
      "          34       0.77      0.83      0.80        36\n",
      "          36       0.95      0.98      0.96        93\n",
      "          37       0.83      0.83      0.83         6\n",
      "\n",
      "    accuracy                           0.95      5077\n",
      "   macro avg       0.82      0.79      0.79      5077\n",
      "weighted avg       0.95      0.95      0.95      5077\n",
      "\n"
     ]
    }
   ],
   "source": [
    "# 8.3 Evaluate the phylum\n",
    "acc_p = accuracy_score(gold_labs_p, pred_labs_p)\n",
    "print(f'Accuracy = {acc_p}')\n",
    "\n",
    "prec_p = precision_score(gold_labs_p, pred_labs_p, average='macro')\n",
    "print(f'Precision (macro average) = {prec_p}')\n",
    "\n",
    "rec_p = recall_score(gold_labs_p, pred_labs_p, average='macro')\n",
    "print(f'Recall (macro average) = {rec_p}')\n",
    "\n",
    "f1_p = f1_score(gold_labs_p, pred_labs_p, average='macro')\n",
    "print(f'F1 score (macro average) = {f1_p}')\n",
    "\n",
    "# We can get all of these with a per-class breakdown using classification_report:\n",
    "print(classification_report(gold_labs_p, pred_labs_p))"
   ]
  },
  {
   "cell_type": "code",
   "execution_count": 15,
   "id": "f0fbe4d8",
   "metadata": {},
   "outputs": [
    {
     "data": {
      "text/plain": [
       "<Figure size 432x288 with 0 Axes>"
      ]
     },
     "metadata": {},
     "output_type": "display_data"
    },
    {
     "data": {
      "image/png": "[encoded data removed]",
      "text/plain": [
       "<Figure size 1152x1152 with 2 Axes>"
      ]
     },
     "metadata": {
      "needs_background": "light"
     },
     "output_type": "display_data"
    }
   ],
   "source": [
    "# 8.4 Visualise the results\n",
    "cm_p = confusion_matrix(gold_labs_p, pred_labs_p, normalize = 'pred')\n",
    "\n",
    "plt.figure()\n",
    "plt.rcParams[\"figure.figsize\"] = [100.00, 50.00]\n",
    "plt.matshow(cm_p, cmap = plt.cm.GnBu)\n",
    "plt.colorbar()\n",
    "\n",
    "for i in range(cm_p.shape[0]):\n",
    "    for j in range(cm_p.shape[1]):\n",
    "        plt.text(i,j,str(round(cm_p[i][j],2)),color='orange',fontsize='small',ha='center',va='center',weight='semibold')\n",
    "\n",
    "plt.xlabel('Predicted label',labelpad=-760, fontsize='x-large',color= 'green')\n",
    "plt.ylabel('Gold label',labelpad=15, fontsize='x-large',color= 'green')\n",
    "plt.title('Phylum', fontsize='xx-large',pad=30,color= 'darkblue')\n",
    "plt.show()"
   ]
  },
  {
   "cell_type": "markdown",
   "id": "cb302347",
   "metadata": {},
   "source": [
    "**$\\cdot$Class**"
   ]
  },
  {
   "cell_type": "code",
   "execution_count": 16,
   "id": "627c27aa",
   "metadata": {},
   "outputs": [
    {
     "name": "stdout",
     "output_type": "stream",
     "text": [
      "Accuracy = 0.904668111089226\n",
      "Precision (macro average) = 0.7331914903321035\n",
      "Recall (macro average) = 0.7118357214311534\n",
      "F1 score (macro average) = 0.6986412006103289\n",
      "              precision    recall  f1-score   support\n",
      "\n",
      "           0       0.60      0.60      0.60         5\n",
      "           1       0.68      0.81      0.74        16\n",
      "           2       0.44      0.44      0.44        18\n",
      "           3       1.00      1.00      1.00         1\n",
      "           4       0.00      0.00      0.00         3\n",
      "           5       0.97      0.89      0.93        71\n",
      "           6       0.91      0.83      0.87        12\n",
      "           7       0.97      0.92      0.94        74\n",
      "           8       0.87      0.97      0.92        34\n",
      "           9       0.97      0.95      0.96       172\n",
      "          10       0.94      0.97      0.95       647\n",
      "          11       0.67      0.92      0.78        90\n",
      "          12       0.50      0.50      0.50         2\n",
      "          13       0.75      0.75      0.75         4\n",
      "          14       0.80      0.36      0.50        11\n",
      "          15       0.62      0.83      0.71         6\n",
      "          16       0.50      1.00      0.67         6\n",
      "          17       0.69      0.90      0.78        10\n",
      "          18       0.96      0.92      0.94        92\n",
      "          19       0.88      0.82      0.85       101\n",
      "          20       0.98      0.98      0.98       222\n",
      "          21       1.00      0.17      0.29         6\n",
      "          22       0.75      0.60      0.67         5\n",
      "          23       0.50      0.67      0.57         3\n",
      "          24       1.00      0.93      0.96        28\n",
      "          25       0.71      0.71      0.71        14\n",
      "          26       0.92      0.96      0.94       108\n",
      "          27       1.00      1.00      1.00         6\n",
      "          28       0.95      0.92      0.94       260\n",
      "          29       1.00      0.86      0.92         7\n",
      "          30       0.89      0.95      0.92       106\n",
      "          31       1.00      0.94      0.97        18\n",
      "          32       0.17      0.07      0.10        14\n",
      "          33       0.83      0.83      0.83         6\n",
      "          34       0.89      0.95      0.92       465\n",
      "          35       1.00      0.67      0.80         3\n",
      "          36       1.00      0.83      0.91        12\n",
      "          37       0.87      0.79      0.83        33\n",
      "          38       0.92      0.79      0.85        14\n",
      "          39       0.80      0.86      0.83        14\n",
      "          40       0.80      1.00      0.89         4\n",
      "          41       0.92      0.87      0.90       141\n",
      "          42       1.00      1.00      1.00         8\n",
      "          43       0.38      0.43      0.40         7\n",
      "          44       0.99      0.97      0.98       515\n",
      "          45       0.86      1.00      0.93        19\n",
      "          46       1.00      0.25      0.40         4\n",
      "          47       1.00      0.55      0.71        11\n",
      "          48       0.75      1.00      0.86         3\n",
      "          49       0.67      0.50      0.57         4\n",
      "          50       0.86      0.97      0.91        32\n",
      "          51       0.33      1.00      0.50         1\n",
      "          52       0.67      1.00      0.80         8\n",
      "          53       0.00      0.00      0.00         0\n",
      "          54       0.91      0.83      0.87        12\n",
      "          55       0.50      0.60      0.55        10\n",
      "          56       0.60      0.60      0.60         5\n",
      "          57       0.00      0.00      0.00         7\n",
      "          58       0.74      0.78      0.76        18\n",
      "          59       0.95      0.87      0.91        23\n",
      "          60       0.62      1.00      0.77         5\n",
      "          61       0.82      0.95      0.88        19\n",
      "          62       0.00      0.00      0.00         0\n",
      "          63       0.33      0.75      0.46         4\n",
      "          64       0.50      1.00      0.67         1\n",
      "          65       0.50      1.00      0.67         1\n",
      "          66       1.00      0.60      0.75         5\n",
      "          67       1.00      0.60      0.75         5\n",
      "          68       0.68      0.78      0.72        27\n",
      "          69       0.50      0.08      0.14        12\n",
      "          70       1.00      0.67      0.80         9\n",
      "          71       0.33      0.50      0.40         2\n",
      "          72       0.76      0.78      0.77        36\n",
      "          73       0.91      0.91      0.91        70\n",
      "          74       0.00      0.00      0.00         5\n",
      "          75       0.99      0.94      0.96       200\n",
      "          76       0.60      0.50      0.55         6\n",
      "          77       1.00      0.50      0.67         2\n",
      "          78       0.25      0.50      0.33         2\n",
      "          79       0.62      0.83      0.71         6\n",
      "          80       0.64      0.75      0.69        12\n",
      "          81       0.80      0.33      0.47        12\n",
      "          82       0.00      0.00      0.00         5\n",
      "          83       1.00      0.67      0.80         6\n",
      "          84       0.75      1.00      0.86         3\n",
      "          85       0.75      1.00      0.86        18\n",
      "          86       1.00      1.00      1.00         6\n",
      "          87       0.88      0.94      0.91        65\n",
      "          88       0.71      0.88      0.79        77\n",
      "          89       0.80      0.84      0.82        19\n",
      "          90       0.94      0.89      0.92        19\n",
      "          91       0.75      0.86      0.80        21\n",
      "          92       0.50      0.06      0.11        16\n",
      "          93       0.00      0.00      0.00         2\n",
      "          94       0.90      0.75      0.82        12\n",
      "          95       0.00      0.00      0.00         3\n",
      "          96       0.50      0.14      0.22         7\n",
      "          97       0.94      1.00      0.97        16\n",
      "          98       0.99      0.98      0.98        87\n",
      "          99       0.45      0.62      0.53         8\n",
      "         100       0.82      0.78      0.80        18\n",
      "         101       1.00      0.67      0.80         9\n",
      "         102       0.77      0.89      0.83        46\n",
      "         103       0.80      0.75      0.77        16\n",
      "         104       0.96      0.96      0.96        51\n",
      "         105       0.71      0.62      0.67         8\n",
      "         106       1.00      0.25      0.40         8\n",
      "         107       0.00      0.00      0.00         4\n",
      "         108       1.00      0.58      0.74        12\n",
      "         109       0.98      0.98      0.98        93\n",
      "         110       0.97      0.98      0.98       113\n",
      "         111       1.00      0.67      0.80         6\n",
      "         112       0.99      0.95      0.97       220\n",
      "         113       0.95      0.95      0.95        60\n",
      "         114       0.53      0.89      0.67         9\n",
      "         115       0.70      0.67      0.68        21\n",
      "         116       1.00      1.00      1.00         1\n",
      "\n",
      "    accuracy                           0.90      5077\n",
      "   macro avg       0.73      0.71      0.70      5077\n",
      "weighted avg       0.91      0.90      0.90      5077\n",
      "\n"
     ]
    },
    {
     "name": "stderr",
     "output_type": "stream",
     "text": [
      "C:\\Users\\Angela.Chen\\miniconda3\\lib\\site-packages\\sklearn\\metrics\\_classification.py:1318: UndefinedMetricWarning: Precision is ill-defined and being set to 0.0 in labels with no predicted samples. Use `zero_division` parameter to control this behavior.\n",
      "  _warn_prf(average, modifier, msg_start, len(result))\n",
      "C:\\Users\\Angela.Chen\\miniconda3\\lib\\site-packages\\sklearn\\metrics\\_classification.py:1318: UndefinedMetricWarning: Recall is ill-defined and being set to 0.0 in labels with no true samples. Use `zero_division` parameter to control this behavior.\n",
      "  _warn_prf(average, modifier, msg_start, len(result))\n",
      "C:\\Users\\Angela.Chen\\miniconda3\\lib\\site-packages\\sklearn\\metrics\\_classification.py:1318: UndefinedMetricWarning: Precision and F-score are ill-defined and being set to 0.0 in labels with no predicted samples. Use `zero_division` parameter to control this behavior.\n",
      "  _warn_prf(average, modifier, msg_start, len(result))\n",
      "C:\\Users\\Angela.Chen\\miniconda3\\lib\\site-packages\\sklearn\\metrics\\_classification.py:1318: UndefinedMetricWarning: Recall and F-score are ill-defined and being set to 0.0 in labels with no true samples. Use `zero_division` parameter to control this behavior.\n",
      "  _warn_prf(average, modifier, msg_start, len(result))\n",
      "C:\\Users\\Angela.Chen\\miniconda3\\lib\\site-packages\\sklearn\\metrics\\_classification.py:1318: UndefinedMetricWarning: Precision and F-score are ill-defined and being set to 0.0 in labels with no predicted samples. Use `zero_division` parameter to control this behavior.\n",
      "  _warn_prf(average, modifier, msg_start, len(result))\n",
      "C:\\Users\\Angela.Chen\\miniconda3\\lib\\site-packages\\sklearn\\metrics\\_classification.py:1318: UndefinedMetricWarning: Recall and F-score are ill-defined and being set to 0.0 in labels with no true samples. Use `zero_division` parameter to control this behavior.\n",
      "  _warn_prf(average, modifier, msg_start, len(result))\n",
      "C:\\Users\\Angela.Chen\\miniconda3\\lib\\site-packages\\sklearn\\metrics\\_classification.py:1318: UndefinedMetricWarning: Precision and F-score are ill-defined and being set to 0.0 in labels with no predicted samples. Use `zero_division` parameter to control this behavior.\n",
      "  _warn_prf(average, modifier, msg_start, len(result))\n",
      "C:\\Users\\Angela.Chen\\miniconda3\\lib\\site-packages\\sklearn\\metrics\\_classification.py:1318: UndefinedMetricWarning: Recall and F-score are ill-defined and being set to 0.0 in labels with no true samples. Use `zero_division` parameter to control this behavior.\n",
      "  _warn_prf(average, modifier, msg_start, len(result))\n"
     ]
    }
   ],
   "source": [
    "# 8.5 Evaluate the class\n",
    "acc_c = accuracy_score(gold_labs_c, pred_labs_c)\n",
    "print(f'Accuracy = {acc_c}')\n",
    "\n",
    "prec_c = precision_score(gold_labs_c, pred_labs_c, average='macro')\n",
    "print(f'Precision (macro average) = {prec_c}')\n",
    "\n",
    "rec_c = recall_score(gold_labs_c, pred_labs_c, average='macro')\n",
    "print(f'Recall (macro average) = {rec_c}')\n",
    "\n",
    "f1_c = f1_score(gold_labs_c, pred_labs_c, average='macro')\n",
    "print(f'F1 score (macro average) = {f1_c}')\n",
    "\n",
    "# We can get all of these with a per-class breakdown using classification_report:\n",
    "print(classification_report(gold_labs_c, pred_labs_c))"
   ]
  },
  {
   "cell_type": "code",
   "execution_count": 17,
   "id": "154b55a7",
   "metadata": {},
   "outputs": [
    {
     "data": {
      "text/plain": [
       "<Figure size 7200x3600 with 0 Axes>"
      ]
     },
     "metadata": {},
     "output_type": "display_data"
    },
    {
     "data": {
      "image/png": "[encoded data removed]",
      "text/plain": [
       "<Figure size 1152x1152 with 2 Axes>"
      ]
     },
     "metadata": {
      "needs_background": "light"
     },
     "output_type": "display_data"
    }
   ],
   "source": [
    "# 8.6 Visualise the results\n",
    "cm_c = confusion_matrix(gold_labs_c, pred_labs_c, normalize = 'pred')\n",
    "\n",
    "plt.figure()\n",
    "plt.rcParams[\"figure.figsize\"] = [100.00, 50.00]\n",
    "plt.matshow(cm_c, cmap = plt.cm.GnBu)\n",
    "plt.colorbar()\n",
    "\n",
    "for i in range(cm_c.shape[0]):\n",
    "    for j in range(cm_c.shape[1]):\n",
    "        if cm_c[i][j] !=0:\n",
    "            plt.text(i,j,str(round(cm_c[i][j],2)),color='orange',fontsize='small',ha='center',va='center',weight='normal')\n",
    "\n",
    "plt.xlabel('Predicted label',labelpad=-760, fontsize='x-large',color= 'green')\n",
    "plt.ylabel('Gold label',labelpad=15, fontsize='x-large',color= 'green')\n",
    "plt.title('Class', fontsize='xx-large',pad=30,color= 'darkblue')\n",
    "plt.show()"
   ]
  },
  {
   "cell_type": "code",
   "execution_count": null,
   "id": "b28a8b0a",
   "metadata": {},
   "outputs": [],
   "source": []
  }
 ],
 "metadata": {
  "kernelspec": {
   "display_name": "Python 3 (ipykernel)",
   "language": "python",
   "name": "python3"
  },
  "language_info": {
   "codemirror_mode": {
    "name": "ipython",
    "version": 3
   },
   "file_extension": ".py",
   "mimetype": "text/x-python",
   "name": "python",
   "nbconvert_exporter": "python",
   "pygments_lexer": "ipython3",
   "version": "3.9.12"
  }
 },
 "nbformat": 4,
 "nbformat_minor": 5
}
