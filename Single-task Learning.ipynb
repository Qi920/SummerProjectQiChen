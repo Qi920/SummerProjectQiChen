{
 "cells": [
  {
   "cell_type": "markdown",
   "id": "3c0e0fdc",
   "metadata": {},
   "source": [
    "# 2. Model Training (Single-Task Learning Model)"
   ]
  },
  {
   "cell_type": "code",
   "execution_count": 1,
   "id": "3a233989",
   "metadata": {},
   "outputs": [],
   "source": [
    "# import libraries\n",
    "import torch\n",
    "import nltk\n",
    "import pandas as pd\n",
    "import numpy as np\n",
    "import pyarrow as pa\n",
    "import matplotlib.pyplot as plt\n",
    "\n",
    "from gensim.models import word2vec\n",
    "from gensim.utils import tokenize\n",
    "from torch import nn\n",
    "from torch import optim\n",
    "from datasets import Dataset\n",
    "from torch.utils.data import DataLoader, TensorDataset\n",
    "\n",
    "from sklearn.model_selection import train_test_split\n",
    "from sklearn.feature_extraction.text import CountVectorizer\n",
    "from nltk import word_tokenize\n",
    "\n",
    "from sklearn.metrics import confusion_matrix\n",
    "from sklearn.metrics import accuracy_score, precision_score, recall_score, f1_score, classification_report"
   ]
  },
  {
   "cell_type": "markdown",
   "id": "243eb38b",
   "metadata": {},
   "source": [
    "## 2.1 Load Data"
   ]
  },
  {
   "cell_type": "code",
   "execution_count": 2,
   "id": "fedfee65",
   "metadata": {
    "scrolled": true
   },
   "outputs": [
    {
     "data": {
      "text/html": [
       "<div>\n",
       "<style scoped>\n",
       "    .dataframe tbody tr th:only-of-type {\n",
       "        vertical-align: middle;\n",
       "    }\n",
       "\n",
       "    .dataframe tbody tr th {\n",
       "        vertical-align: top;\n",
       "    }\n",
       "\n",
       "    .dataframe thead th {\n",
       "        text-align: right;\n",
       "    }\n",
       "</style>\n",
       "<table border=\"1\" class=\"dataframe\">\n",
       "  <thead>\n",
       "    <tr style=\"text-align: right;\">\n",
       "      <th></th>\n",
       "      <th>ID</th>\n",
       "      <th>kingdom_n</th>\n",
       "      <th>phylum_n</th>\n",
       "      <th>class_n</th>\n",
       "      <th>sequence</th>\n",
       "      <th>sequence_kmers</th>\n",
       "    </tr>\n",
       "  </thead>\n",
       "  <tbody>\n",
       "    <tr>\n",
       "      <th>0</th>\n",
       "      <td>ID-10213</td>\n",
       "      <td>1</td>\n",
       "      <td>5</td>\n",
       "      <td>149</td>\n",
       "      <td>TACGGAGGGTGCAAGCGTTGTCCGGAATCACTGGGTGTAAAGGGTG...</td>\n",
       "      <td>TACGGA ACGGAG CGGAGG GGAGGG GAGGGT AGGGTG GGGT...</td>\n",
       "    </tr>\n",
       "    <tr>\n",
       "      <th>1</th>\n",
       "      <td>ID-24128</td>\n",
       "      <td>1</td>\n",
       "      <td>5</td>\n",
       "      <td>149</td>\n",
       "      <td>TACGGAGGGTGCAAGCGTTGTCCGGAATCACTGGGTGTAAAGGGTG...</td>\n",
       "      <td>TACGGA ACGGAG CGGAGG GGAGGG GAGGGT AGGGTG GGGT...</td>\n",
       "    </tr>\n",
       "    <tr>\n",
       "      <th>2</th>\n",
       "      <td>ID-89036</td>\n",
       "      <td>1</td>\n",
       "      <td>5</td>\n",
       "      <td>149</td>\n",
       "      <td>TACGGAGGGTGCAAGCGTTGTCCGGAATCACTGGGTGTAAAGGGTG...</td>\n",
       "      <td>TACGGA ACGGAG CGGAGG GGAGGG GAGGGT AGGGTG GGGT...</td>\n",
       "    </tr>\n",
       "    <tr>\n",
       "      <th>3</th>\n",
       "      <td>ID-65937</td>\n",
       "      <td>1</td>\n",
       "      <td>5</td>\n",
       "      <td>149</td>\n",
       "      <td>TACGGAGGGTGCAAGCGTTGTCCGGAATCACTGGGTGTAAAGGGTG...</td>\n",
       "      <td>TACGGA ACGGAG CGGAGG GGAGGG GAGGGT AGGGTG GGGT...</td>\n",
       "    </tr>\n",
       "    <tr>\n",
       "      <th>4</th>\n",
       "      <td>ID-69686</td>\n",
       "      <td>1</td>\n",
       "      <td>5</td>\n",
       "      <td>149</td>\n",
       "      <td>TACGGAGGGTCCAAGCGTTGTCCGGAATCACTGGGTGTAAAGGGTG...</td>\n",
       "      <td>TACGGA ACGGAG CGGAGG GGAGGG GAGGGT AGGGTC GGGT...</td>\n",
       "    </tr>\n",
       "    <tr>\n",
       "      <th>...</th>\n",
       "      <td>...</td>\n",
       "      <td>...</td>\n",
       "      <td>...</td>\n",
       "      <td>...</td>\n",
       "      <td>...</td>\n",
       "      <td>...</td>\n",
       "    </tr>\n",
       "    <tr>\n",
       "      <th>27400</th>\n",
       "      <td>ID-50131</td>\n",
       "      <td>1</td>\n",
       "      <td>33</td>\n",
       "      <td>118</td>\n",
       "      <td>TACGTAAGGAGCGAGCGTTGTTCGGATTTATTGGGCGTAAAGGGCG...</td>\n",
       "      <td>TACGTA ACGTAA CGTAAG GTAAGG TAAGGA AAGGAG AGGA...</td>\n",
       "    </tr>\n",
       "    <tr>\n",
       "      <th>27402</th>\n",
       "      <td>ID-53233</td>\n",
       "      <td>1</td>\n",
       "      <td>9</td>\n",
       "      <td>130</td>\n",
       "      <td>TACGTAGGGTCCGAGCGTTGTCCGGAGTGACTGGGCGTAAAGCGCG...</td>\n",
       "      <td>TACGTA ACGTAG CGTAGG GTAGGG TAGGGT AGGGTC GGGT...</td>\n",
       "    </tr>\n",
       "    <tr>\n",
       "      <th>27405</th>\n",
       "      <td>ID-59236</td>\n",
       "      <td>1</td>\n",
       "      <td>5</td>\n",
       "      <td>52</td>\n",
       "      <td>TACGGAGGGTCCAAGCGTTATCCGGAATCACTGGGTTTAAAGGGTG...</td>\n",
       "      <td>TACGGA ACGGAG CGGAGG GGAGGG GAGGGT AGGGTC GGGT...</td>\n",
       "    </tr>\n",
       "    <tr>\n",
       "      <th>27408</th>\n",
       "      <td>ID-75469</td>\n",
       "      <td>0</td>\n",
       "      <td>10</td>\n",
       "      <td>128</td>\n",
       "      <td>TACCAGCACCCCGAGTGGTCGGGACGATTATTGGGCCTAAAGCATC...</td>\n",
       "      <td>TACCAG ACCAGC CCAGCA CAGCAC AGCACC GCACCC CACC...</td>\n",
       "    </tr>\n",
       "    <tr>\n",
       "      <th>27409</th>\n",
       "      <td>ID-89027</td>\n",
       "      <td>1</td>\n",
       "      <td>30</td>\n",
       "      <td>30</td>\n",
       "      <td>GACAGAGGTGGCAAGCGTTGCTCGGAGTTACTGGGCATAAAGGGCG...</td>\n",
       "      <td>GACAGA ACAGAG CAGAGG AGAGGT GAGGTG AGGTGG GGTG...</td>\n",
       "    </tr>\n",
       "  </tbody>\n",
       "</table>\n",
       "<p>25620 rows × 6 columns</p>\n",
       "</div>"
      ],
      "text/plain": [
       "             ID  kingdom_n  phylum_n  class_n  \\\n",
       "0      ID-10213          1         5      149   \n",
       "1      ID-24128          1         5      149   \n",
       "2      ID-89036          1         5      149   \n",
       "3      ID-65937          1         5      149   \n",
       "4      ID-69686          1         5      149   \n",
       "...         ...        ...       ...      ...   \n",
       "27400  ID-50131          1        33      118   \n",
       "27402  ID-53233          1         9      130   \n",
       "27405  ID-59236          1         5       52   \n",
       "27408  ID-75469          0        10      128   \n",
       "27409  ID-89027          1        30       30   \n",
       "\n",
       "                                                sequence  \\\n",
       "0      TACGGAGGGTGCAAGCGTTGTCCGGAATCACTGGGTGTAAAGGGTG...   \n",
       "1      TACGGAGGGTGCAAGCGTTGTCCGGAATCACTGGGTGTAAAGGGTG...   \n",
       "2      TACGGAGGGTGCAAGCGTTGTCCGGAATCACTGGGTGTAAAGGGTG...   \n",
       "3      TACGGAGGGTGCAAGCGTTGTCCGGAATCACTGGGTGTAAAGGGTG...   \n",
       "4      TACGGAGGGTCCAAGCGTTGTCCGGAATCACTGGGTGTAAAGGGTG...   \n",
       "...                                                  ...   \n",
       "27400  TACGTAAGGAGCGAGCGTTGTTCGGATTTATTGGGCGTAAAGGGCG...   \n",
       "27402  TACGTAGGGTCCGAGCGTTGTCCGGAGTGACTGGGCGTAAAGCGCG...   \n",
       "27405  TACGGAGGGTCCAAGCGTTATCCGGAATCACTGGGTTTAAAGGGTG...   \n",
       "27408  TACCAGCACCCCGAGTGGTCGGGACGATTATTGGGCCTAAAGCATC...   \n",
       "27409  GACAGAGGTGGCAAGCGTTGCTCGGAGTTACTGGGCATAAAGGGCG...   \n",
       "\n",
       "                                          sequence_kmers  \n",
       "0      TACGGA ACGGAG CGGAGG GGAGGG GAGGGT AGGGTG GGGT...  \n",
       "1      TACGGA ACGGAG CGGAGG GGAGGG GAGGGT AGGGTG GGGT...  \n",
       "2      TACGGA ACGGAG CGGAGG GGAGGG GAGGGT AGGGTG GGGT...  \n",
       "3      TACGGA ACGGAG CGGAGG GGAGGG GAGGGT AGGGTG GGGT...  \n",
       "4      TACGGA ACGGAG CGGAGG GGAGGG GAGGGT AGGGTC GGGT...  \n",
       "...                                                  ...  \n",
       "27400  TACGTA ACGTAA CGTAAG GTAAGG TAAGGA AAGGAG AGGA...  \n",
       "27402  TACGTA ACGTAG CGTAGG GTAGGG TAGGGT AGGGTC GGGT...  \n",
       "27405  TACGGA ACGGAG CGGAGG GGAGGG GAGGGT AGGGTC GGGT...  \n",
       "27408  TACCAG ACCAGC CCAGCA CAGCAC AGCACC GCACCC CACC...  \n",
       "27409  GACAGA ACAGAG CAGAGG AGAGGT GAGGTG AGGTGG GGTG...  \n",
       "\n",
       "[25620 rows x 6 columns]"
      ]
     },
     "execution_count": 2,
     "metadata": {},
     "output_type": "execute_result"
    }
   ],
   "source": [
    "data_df = pd.read_csv('taxonomy_preprocessed2.csv',index_col=0)\n",
    "data_df"
   ]
  },
  {
   "cell_type": "markdown",
   "id": "c50950fb",
   "metadata": {},
   "source": [
    "## 2.2 Train and Test Split"
   ]
  },
  {
   "cell_type": "markdown",
   "id": "f4f3fd21",
   "metadata": {},
   "source": [
    "(1) Split data into train data and test data"
   ]
  },
  {
   "cell_type": "code",
   "execution_count": 3,
   "id": "ce463b60",
   "metadata": {},
   "outputs": [],
   "source": [
    "split_ratio = 0.2  # The split ratio\n",
    "\n",
    "train_data, test_data = train_test_split(data_df, test_size=split_ratio, random_state=1432)"
   ]
  },
  {
   "cell_type": "markdown",
   "id": "b1d96fa9",
   "metadata": {},
   "source": [
    "(2) Change the data type from DataFrame to Dataset"
   ]
  },
  {
   "cell_type": "code",
   "execution_count": 4,
   "id": "b2fec3ac",
   "metadata": {},
   "outputs": [],
   "source": [
    "train_data = Dataset(pa.Table.from_pandas(train_data))\n",
    "test_data = Dataset(pa.Table.from_pandas(test_data))"
   ]
  },
  {
   "cell_type": "code",
   "execution_count": 5,
   "id": "35836102",
   "metadata": {},
   "outputs": [],
   "source": [
    "# sequence_kmers = [list(tokenize(substrings)) for substrings in train_data['sequence_kmers']]\n",
    "# emb_model = word2vec.Word2Vec(sequence_kmers, sg=1, min_count=1, window=3, vector_size=100)\n",
    "# # emb_model.wv['AAAGGG']"
   ]
  },
  {
   "cell_type": "markdown",
   "id": "bebf2634",
   "metadata": {},
   "source": [
    "## 2.3 LSTM Model Training"
   ]
  },
  {
   "cell_type": "markdown",
   "id": "529b2adb",
   "metadata": {},
   "source": [
    "(1) Change the DNA short sequences into vectors"
   ]
  },
  {
   "cell_type": "code",
   "execution_count": 6,
   "id": "2b72c763",
   "metadata": {},
   "outputs": [
    {
     "name": "stderr",
     "output_type": "stream",
     "text": [
      "/home/ec2-user/anaconda3/envs/python3/lib/python3.8/site-packages/sklearn/feature_extraction/text.py:516: UserWarning: The parameter 'token_pattern' will not be used since 'tokenizer' is not None'\n",
      "  warnings.warn(\n"
     ]
    }
   ],
   "source": [
    "# Tokenizer\n",
    "class Tokenizer(object):\n",
    "    def __call__(self, sequence):\n",
    "        return word_tokenize(sequence)\n",
    "\n",
    "vectorizer = CountVectorizer(tokenizer=Tokenizer())  # Construct the vectorizer\n",
    "\n",
    "vectorizer.fit(train_data['sequence_kmers'])  # Learn the vocabulary\n",
    "\n",
    "# Document-Term Matrix\n",
    "X_train = vectorizer.transform(train_data['sequence_kmers'])  # extract training set bags of words\n",
    "X_test = vectorizer.transform(test_data['sequence_kmers'])  # extract test set bags of words\n",
    "\n",
    "vocab = vectorizer.vocabulary_"
   ]
  },
  {
   "cell_type": "markdown",
   "id": "2890c69f",
   "metadata": {},
   "source": [
    "(2) Data Preprocessing"
   ]
  },
  {
   "cell_type": "code",
   "execution_count": 7,
   "id": "92fa024a",
   "metadata": {},
   "outputs": [],
   "source": [
    "# 2. Data Preprocessing\n",
    "\n",
    "def encode_text(sample):\n",
    "    tokens = tokenize(sample['sequence_kmers'])  # Tokenize one document\n",
    "    \n",
    "    input_ids = []\n",
    "    for token in tokens:\n",
    "        if str.lower(token) in vocab:  # Skip words from the dev/test set that are not in the vocabulary.\n",
    "            input_ids.append(vocab[str.lower(token)]+1) # +1 is needed because we reserve 0 as a special character\n",
    "            \n",
    "    sample['input_ids'] = input_ids \n",
    "    return sample\n",
    "\n",
    "def get_text_length(sample):\n",
    "    tokens = tokenize(sample['sequence_kmers'])  # Tokenize one document\n",
    "    length = len(list(tokens))\n",
    "            \n",
    "    sample['len'] = length\n",
    "    return sample\n",
    "\n",
    "def convert_to_data_loader(dataset, flag):\n",
    "    # convert from list to tensor\n",
    "    input_tensor = torch.from_numpy(np.array(dataset['input_ids']))\n",
    "    if flag == 0:\n",
    "        label_tensor = torch.from_numpy(np.array(dataset['kingdom_n'])).long()\n",
    "    elif flag == 1:\n",
    "        label_tensor = torch.from_numpy(np.array(dataset['phylum_n'])).long()\n",
    "    elif flag == 2:\n",
    "        label_tensor = torch.from_numpy(np.array(dataset['class_n'])).long()\n",
    "    \n",
    "    len_tensor = torch.from_numpy(np.array(dataset['len'])).long() # --> Add len_tensor element\n",
    "    tensor_dataset = TensorDataset(input_tensor, label_tensor, len_tensor) # --> Add len_tensor element\n",
    "    loader = DataLoader(tensor_dataset, batch_size=batch_size, shuffle=True)\n",
    "\n",
    "    return loader"
   ]
  },
  {
   "cell_type": "code",
   "execution_count": 8,
   "id": "d9623fb1",
   "metadata": {},
   "outputs": [
    {
     "data": {
      "application/vnd.jupyter.widget-view+json": {
       "model_id": "e469a48cb26d476aa671f0c65ef50d88",
       "version_major": 2,
       "version_minor": 0
      },
      "text/plain": [
       "  0%|          | 0/20496 [00:00<?, ?ex/s]"
      ]
     },
     "metadata": {},
     "output_type": "display_data"
    },
    {
     "data": {
      "application/vnd.jupyter.widget-view+json": {
       "model_id": "68bdf517ab8544eda1e9a2440c3c5bf9",
       "version_major": 2,
       "version_minor": 0
      },
      "text/plain": [
       "  0%|          | 0/20496 [00:00<?, ?ex/s]"
      ]
     },
     "metadata": {},
     "output_type": "display_data"
    },
    {
     "data": {
      "application/vnd.jupyter.widget-view+json": {
       "model_id": "66fd5aa1058f467b853bfe0d889fba68",
       "version_major": 2,
       "version_minor": 0
      },
      "text/plain": [
       "  0%|          | 0/5124 [00:00<?, ?ex/s]"
      ]
     },
     "metadata": {},
     "output_type": "display_data"
    },
    {
     "data": {
      "application/vnd.jupyter.widget-view+json": {
       "model_id": "9895887a00a346ac969a8f3ec42ec749",
       "version_major": 2,
       "version_minor": 0
      },
      "text/plain": [
       "  0%|          | 0/5124 [00:00<?, ?ex/s]"
      ]
     },
     "metadata": {},
     "output_type": "display_data"
    }
   ],
   "source": [
    "# Preprocess datasets\n",
    "batch_size = 64\n",
    "\n",
    "train_data = train_data.map(encode_text)\n",
    "train_data = train_data.map(get_text_length) # --> Map train_dataset to get_text_length method\n",
    "train_loader_k = convert_to_data_loader(train_data, 0)\n",
    "train_loader_p = convert_to_data_loader(train_data, 1)\n",
    "train_loader_c = convert_to_data_loader(train_data, 2)\n",
    "\n",
    "# dev_dataset = dev_dataset.map(encode_text)\n",
    "# dev_dataset = dev_dataset.map(pad_text2)\n",
    "# dev_dataset = dev_dataset.map(get_text_length) # --> Map dev_dataset to get_text_length method\n",
    "# dev_loader = convert_to_data_loader2(dev_dataset, num_classes)\n",
    "\n",
    "test_data = test_data.map(encode_text)\n",
    "test_data = test_data.map(get_text_length)  # --> Map test_dataset to get_text_length method\n",
    "test_loader_k = convert_to_data_loader(test_data, 0)\n",
    "test_loader_p = convert_to_data_loader(test_data, 1)\n",
    "test_loader_c = convert_to_data_loader(test_data, 2)"
   ]
  },
  {
   "cell_type": "markdown",
   "id": "a5a92ebf",
   "metadata": {},
   "source": [
    "(3) Construct Single-task learning model"
   ]
  },
  {
   "cell_type": "code",
   "execution_count": 9,
   "id": "0a303633",
   "metadata": {},
   "outputs": [],
   "source": [
    "# 3. Construct Single-task learning model\n",
    "class DNAClassifierWithLSTM(nn.Module):\n",
    "    \n",
    "    def __init__(self, vocab_size, embedding_size, hidden_size1, hidden_size2, num_layers, num_classes): \n",
    "        super(DNAClassifierWithLSTM, self).__init__()\n",
    "\n",
    "        self.embedding_size = embedding_size\n",
    "        self.num_layers = num_layers\n",
    "        self.hidden_size = hidden_size\n",
    "\n",
    "        self.embedding_layer = nn.Embedding(vocab_size,embedding_size) # embedding layer\n",
    "        # Hidden layer (LSTM layer) and the num_layers is the number of recurrent layers\n",
    "        self.hidden_layer = nn.LSTM(embedding_size,hidden_size,num_layers,batch_first=True)\n",
    "        \n",
    "        self.activation = nn.ReLU() # Hidden layer\n",
    "        \n",
    "        self.output_layer= nn.Sequential(\n",
    "            nn.Linear(hidden_size1,hidden_size2),\n",
    "            nn.ReLU(),\n",
    "            nn.Dropout(),\n",
    "            nn.Linear(hidden_size2,num_classes)\n",
    "        )\n",
    "        \n",
    "    def forward (self, input_words, sequence_len):\n",
    "        # Input dimensions are:  (batch_size, seq_length)\n",
    "        embedded_words = self.embedding_layer(input_words)  # (batch_size, seq_length, embedding_size)\n",
    "   \n",
    "        # Variable length\n",
    "        embedded_words = nn.utils.rnn.pack_padded_sequence(embedded_words,sequence_len,batch_first=True,enforce_sorted=False)\n",
    "        \n",
    "        # Compute in LSTM layer\n",
    "        h0 = torch.randn(self.num_layers, len(input_words), self.hidden_size) # --> Initialize hidden state h0\n",
    "        c0 = torch.randn(self.num_layers, len(input_words), self.hidden_size) # --> Initialize cell state c0\n",
    "        embedded_words, (hn, cn)= self.hidden_layer(embedded_words, (h0,c0))  # --> LSTM layer\n",
    "        \n",
    "        # Get the last hidden state or cell state\n",
    "        embedded_words_h = hn[self.num_layers-1] # Short-term memory\n",
    "        # embedded_words_c = cn[self.num_layers-1] # Long-term memory\n",
    "\n",
    "        # Activation layer\n",
    "        h = self.activation(embedded_words_h) \n",
    "        \n",
    "        # Output layer\n",
    "        output = self.output_layer(h)    \n",
    "\n",
    "        return output "
   ]
  },
  {
   "cell_type": "markdown",
   "id": "91f6cb7a",
   "metadata": {},
   "source": [
    "(4) Construct the training model function"
   ]
  },
  {
   "cell_type": "code",
   "execution_count": 10,
   "id": "744217b8",
   "metadata": {},
   "outputs": [],
   "source": [
    "# 4. Train model\n",
    "# def train_nn(num_epochs, model, train_dataloader, dev_dataloader):\n",
    "def train_nn(num_epochs, model, train_dataloader):\n",
    "    \n",
    "    learning_rate = 0.0005  # learning rate for the gradient descent optimizer, related to the step size\n",
    "\n",
    "    loss_fn = nn.CrossEntropyLoss()  # create loss function object\n",
    "    optimizer = optim.Adam(model.parameters(), lr=learning_rate)  # create the optimizer\n",
    "    \n",
    "    for e in range(num_epochs):\n",
    "        # Track performance on the training set as we are learning...\n",
    "        total_correct = 0\n",
    "        total_trained = 0\n",
    "        train_losses = []\n",
    "\n",
    "        model.train()  # Put the model in training mode.\n",
    "\n",
    "        for i, (batch_input_ids, batch_labels, batch_length) in enumerate(train_dataloader): # --> Add batch_length element\n",
    "            # Iterate over each batch of data\n",
    "            # print(f'batch no. = {i}')\n",
    "\n",
    "            optimizer.zero_grad()  # Reset the optimizer\n",
    "\n",
    "            # Use the model to perform forward inference on the input data.\n",
    "            # This will run the forward() function.\n",
    "            output = model(batch_input_ids, batch_length) # --> Add batch_length parameter\n",
    "\n",
    "            # Compute the loss for the current batch of data\n",
    "            batch_loss = loss_fn(output, batch_labels)\n",
    "\n",
    "            # Perform back propagation to compute the gradients with respect to each weight\n",
    "            batch_loss.backward()\n",
    "\n",
    "            # Update the weights using the compute gradients\n",
    "            optimizer.step()\n",
    "\n",
    "            # Record the loss from this sample to keep track of progress.\n",
    "            train_losses.append(batch_loss.item())\n",
    "\n",
    "            # Count correct labels so we can compute accuracy on the training set\n",
    "            predicted_labels = output.argmax(1)\n",
    "            total_correct += (predicted_labels == batch_labels).sum().item()\n",
    "            total_trained += batch_labels.size(0)\n",
    "\n",
    "        train_accuracy = total_correct/total_trained*100\n",
    "\n",
    "        print(\"Epoch: {}/{}\".format((e+1), num_epochs),\n",
    "              \"Training Loss: {:.4f}\".format(np.mean(train_losses)),\n",
    "              \"Training Accuracy: {:.4f}%\".format(train_accuracy))\n",
    "\n",
    "        model.eval()  # Switch model to evaluation mode\n",
    "        total_correct = 0\n",
    "        total_trained = 0\n",
    "        dev_losses = []\n",
    "\n",
    "#         for dev_input_ids, dev_labels, dev_length in dev_dataloader:  # --> Add dev_length element\n",
    "\n",
    "#             optimizer.zero_grad()  # Reset the optimizer\n",
    "\n",
    "#             # Use the model to perform forward inference on the input data.\n",
    "#             # This will run the forward() function.\n",
    "#             dev_output = model(dev_input_ids, dev_length) # --> Add dev_length parameter\n",
    "\n",
    "#             # Compute the loss for the current batch of data\n",
    "#             dev_loss = loss_fn(dev_output, dev_labels)\n",
    "\n",
    "#             # Perform back propagation to compute the gradients with respect to each weight\n",
    "#             dev_loss.backward()\n",
    "\n",
    "#             # Update the weights using the compute gradients\n",
    "#             optimizer.step()\n",
    "\n",
    "#             # Save the loss on the dev set\n",
    "#             dev_losses.append(dev_loss.item())\n",
    "\n",
    "#             # Count the number of correct predictions\n",
    "#             predicted_labels = dev_output.argmax(1)\n",
    "#             total_correct += (predicted_labels == dev_labels).sum().item()\n",
    "#             total_trained += dev_labels.size(0)\n",
    "            \n",
    "#         dev_accuracy = total_correct/total_trained*100\n",
    "        \n",
    "#         print(\"Epoch: {}/{}\".format((e+1), num_epochs),\n",
    "#               \"Validation Loss: {:.4f}\".format(np.mean(dev_losses)),\n",
    "#               \"Validation Accuracy: {:.4f}%\".format(dev_accuracy))\n",
    "    return model"
   ]
  },
  {
   "cell_type": "markdown",
   "id": "a810b0d4",
   "metadata": {},
   "source": [
    "(5) Construct the prediction function"
   ]
  },
  {
   "cell_type": "code",
   "execution_count": 11,
   "id": "e23665d7",
   "metadata": {},
   "outputs": [],
   "source": [
    "# 5. The prediction function\n",
    "def predict_nn(trained_model, test_loader):\n",
    "\n",
    "    trained_model.eval()\n",
    "\n",
    "    correct = 0  # count the number of correct classification labels\n",
    "\n",
    "    gold_labs = []  # gold labels to return\n",
    "    pred_labs = []  # predicted labels to return\n",
    "    \n",
    "    for inputs, labels, length in test_loader: # --> add length element\n",
    "        test_output = trained_model(inputs, length)  # --> Add length parameter\n",
    "        predicted_labels = test_output.argmax(1)\n",
    "\n",
    "        gold_labs.extend(labels.tolist())\n",
    "        pred_labs.extend(predicted_labels.tolist())\n",
    "    \n",
    "    return gold_labs, pred_labs"
   ]
  },
  {
   "cell_type": "markdown",
   "id": "1fb1c5dc",
   "metadata": {},
   "source": [
    "(6) Train models, make predictions, evaluate model and visualise the results"
   ]
  },
  {
   "cell_type": "code",
   "execution_count": 12,
   "id": "15ab7d5e",
   "metadata": {},
   "outputs": [],
   "source": [
    "# 6. Construct and train models\n",
    "# 6.1 Set the parameters\n",
    "num_layers = 2 # Set the number of recurrent layers  \n",
    "\n",
    "vocab_size = len(vectorizer.vocabulary_) + 1\n",
    "embedding_size = 30  # number of dimensions for embeddings\n",
    "hidden_size = 300 # number of hidden units\n",
    "hidden_size_k = 4\n",
    "hidden_size_p = 100\n",
    "hidden_size_c = 200\n",
    "num_epochs = 10\n",
    "\n",
    "num_classes_k = len(np.unique(train_data['kingdom_n'])) \n",
    "num_classes_p = len(np.unique(train_data['phylum_n'])) \n",
    "num_classes_c = len(np.unique(train_data['class_n'])) "
   ]
  },
  {
   "cell_type": "markdown",
   "id": "69142a01",
   "metadata": {},
   "source": [
    "**$\\cdot$Kingdom**"
   ]
  },
  {
   "cell_type": "code",
   "execution_count": 13,
   "id": "451104fa",
   "metadata": {
    "scrolled": true
   },
   "outputs": [
    {
     "name": "stdout",
     "output_type": "stream",
     "text": [
      "Epoch: 1/10 Training Loss: 0.2167 Training Accuracy: 97.6727%\n",
      "Epoch: 2/10 Training Loss: 0.1872 Training Accuracy: 97.6727%\n",
      "Epoch: 3/10 Training Loss: 0.1667 Training Accuracy: 97.6727%\n",
      "Epoch: 4/10 Training Loss: 0.1216 Training Accuracy: 97.6727%\n",
      "Epoch: 5/10 Training Loss: 0.0937 Training Accuracy: 97.6727%\n",
      "Epoch: 6/10 Training Loss: 0.0905 Training Accuracy: 97.6727%\n",
      "Epoch: 7/10 Training Loss: 0.0855 Training Accuracy: 97.6727%\n",
      "Epoch: 8/10 Training Loss: 0.0855 Training Accuracy: 97.6727%\n",
      "Epoch: 9/10 Training Loss: 0.0629 Training Accuracy: 98.6144%\n",
      "Epoch: 10/10 Training Loss: 0.0570 Training Accuracy: 98.7071%\n"
     ]
    }
   ],
   "source": [
    "# 6.2 Kingdom\n",
    "# 6.2.1 Construct and train a LSTM model for kingdom  \n",
    "model_lstm_k = DNAClassifierWithLSTM(vocab_size, embedding_size, hidden_size, hidden_size_k, num_layers, num_classes_k) # Creat a LSTM\n",
    "trained_model_lstm_k = train_nn(num_epochs, model_lstm_k, train_loader_k) # Train model"
   ]
  },
  {
   "cell_type": "code",
   "execution_count": 14,
   "id": "10e097d0",
   "metadata": {},
   "outputs": [
    {
     "data": {
      "text/plain": [
       "['stl_kingdom.model']"
      ]
     },
     "execution_count": 14,
     "metadata": {},
     "output_type": "execute_result"
    }
   ],
   "source": [
    "import joblib\n",
    "\n",
    "joblib.dump(trained_model_lstm_k, 'stl_kingdom.model')"
   ]
  },
  {
   "cell_type": "code",
   "execution_count": 15,
   "id": "2005f786",
   "metadata": {},
   "outputs": [],
   "source": [
    "# 6.2.2 Make predictions for kingdom\n",
    "trained_model_lstm_k = joblib.load('stl_kingdom.model')\n",
    "\n",
    "gold_labs_k, pred_labs_k = predict_nn(trained_model_lstm_k, test_loader_k) # Predict the results of test data "
   ]
  },
  {
   "cell_type": "code",
   "execution_count": 16,
   "id": "bedf83e1",
   "metadata": {},
   "outputs": [
    {
     "name": "stdout",
     "output_type": "stream",
     "text": [
      "Accuracy = 0.9959016393442623\n",
      "Precision (macro average) = 0.9979066985645932\n",
      "Recall (macro average) = 0.9186046511627908\n",
      "F1 score (macro average) = 0.9546473562625416\n",
      "              precision    recall  f1-score   support\n",
      "\n",
      "           0       1.00      0.84      0.91       129\n",
      "           1       1.00      1.00      1.00      4995\n",
      "\n",
      "    accuracy                           1.00      5124\n",
      "   macro avg       1.00      0.92      0.95      5124\n",
      "weighted avg       1.00      1.00      1.00      5124\n",
      "\n"
     ]
    }
   ],
   "source": [
    "# 6.2.3 Evaluate the kingdom\n",
    "acc_k = accuracy_score(gold_labs_k, pred_labs_k)\n",
    "print(f'Accuracy = {acc_k}')\n",
    "\n",
    "prec_k = precision_score(gold_labs_k, pred_labs_k, average='macro')\n",
    "print(f'Precision (macro average) = {prec_k}')\n",
    "\n",
    "rec_k = recall_score(gold_labs_k, pred_labs_k, average='macro')\n",
    "print(f'Recall (macro average) = {rec_k}')\n",
    "\n",
    "f1_k = f1_score(gold_labs_k, pred_labs_k, average='macro')\n",
    "print(f'F1 score (macro average) = {f1_k}')\n",
    "\n",
    "# We can get all of these with a per-class breakdown using classification_report:\n",
    "print(classification_report(gold_labs_k, pred_labs_k))"
   ]
  },
  {
   "cell_type": "code",
   "execution_count": 17,
   "id": "b73ee780",
   "metadata": {},
   "outputs": [
    {
     "data": {
      "text/plain": [
       "<Figure size 432x288 with 0 Axes>"
      ]
     },
     "metadata": {},
     "output_type": "display_data"
    },
    {
     "data": {
      "image/png": "[encoded data removed]",
      "text/plain": [
       "<Figure size 288x288 with 2 Axes>"
      ]
     },
     "metadata": {
      "needs_background": "light"
     },
     "output_type": "display_data"
    }
   ],
   "source": [
    "# 6.2.4 Visualise the results\n",
    "cm_k = confusion_matrix(gold_labs_k, pred_labs_k)\n",
    "\n",
    "plt.figure()\n",
    "plt.matshow(cm_k, cmap = plt.cm.GnBu)\n",
    "plt.colorbar()\n",
    "\n",
    "for i in range(cm_k.shape[0]):\n",
    "    for j in range(cm_k.shape[1]):\n",
    "        plt.text(i,j,str(cm_k[i][j]),color='orange',fontsize='x-large',ha='center',va='center',weight='semibold')\n",
    "\n",
    "plt.xlabel('Predicted label',labelpad=-220, fontsize='x-large',color= 'green')\n",
    "plt.ylabel('Gold label',labelpad=15, fontsize='x-large',color= 'green')\n",
    "plt.title('Kingdom', fontsize='xx-large',pad=30,color= 'darkblue')\n",
    "plt.show()"
   ]
  },
  {
   "cell_type": "markdown",
   "id": "05902c33",
   "metadata": {},
   "source": [
    "**$\\cdot$Phylum**"
   ]
  },
  {
   "cell_type": "code",
   "execution_count": 28,
   "id": "6015c0fb",
   "metadata": {
    "scrolled": true
   },
   "outputs": [
    {
     "name": "stdout",
     "output_type": "stream",
     "text": [
      "Epoch: 1/10 Training Loss: 2.5077 Training Accuracy: 35.7680%\n",
      "Epoch: 2/10 Training Loss: 1.8278 Training Accuracy: 49.8829%\n",
      "Epoch: 3/10 Training Loss: 1.3916 Training Accuracy: 62.1926%\n",
      "Epoch: 4/10 Training Loss: 1.0434 Training Accuracy: 72.2775%\n",
      "Epoch: 5/10 Training Loss: 0.8209 Training Accuracy: 78.7520%\n",
      "Epoch: 6/10 Training Loss: 0.6618 Training Accuracy: 83.4065%\n",
      "Epoch: 7/10 Training Loss: 0.5288 Training Accuracy: 86.7145%\n",
      "Epoch: 8/10 Training Loss: 0.4431 Training Accuracy: 88.8027%\n",
      "Epoch: 9/10 Training Loss: 0.3688 Training Accuracy: 90.6957%\n",
      "Epoch: 10/10 Training Loss: 0.3058 Training Accuracy: 92.4278%\n"
     ]
    }
   ],
   "source": [
    "# 6.3 Phylum\n",
    "# 6.3.1 Construct and train a LSTM model for phylum\n",
    "\n",
    "model_lstm_p= DNAClassifierWithLSTM(vocab_size, embedding_size, hidden_size, hidden_size_p, num_layers, num_classes_p) # Creat a LSTM\n",
    "trained_model_lstm_p = train_nn(num_epochs, model_lstm_p, train_loader_p) # Train model"
   ]
  },
  {
   "cell_type": "code",
   "execution_count": 29,
   "id": "3a673289",
   "metadata": {},
   "outputs": [
    {
     "data": {
      "text/plain": [
       "['stl_phylum.model']"
      ]
     },
     "execution_count": 29,
     "metadata": {},
     "output_type": "execute_result"
    }
   ],
   "source": [
    "joblib.dump(trained_model_lstm_p, 'stl_phylum.model')"
   ]
  },
  {
   "cell_type": "code",
   "execution_count": 30,
   "id": "599da2d6",
   "metadata": {},
   "outputs": [],
   "source": [
    "# 6.3.2 Make predictions for phylum\n",
    "trained_model_lstm_p = joblib.load('stl_phylum.model')\n",
    "\n",
    "gold_labs_p, pred_labs_p = predict_nn(trained_model_lstm_p, test_loader_p) # Predict the results of test data "
   ]
  },
  {
   "cell_type": "code",
   "execution_count": 31,
   "id": "57c90c87",
   "metadata": {},
   "outputs": [
    {
     "name": "stdout",
     "output_type": "stream",
     "text": [
      "Accuracy = 0.9201795472287275\n",
      "Precision (macro average) = 0.46905979033830625\n",
      "Recall (macro average) = 0.4178566790512105\n",
      "F1 score (macro average) = 0.426011672940817\n",
      "              precision    recall  f1-score   support\n",
      "\n",
      "           0       0.00      0.00      0.00         1\n",
      "           1       0.92      0.93      0.92       312\n",
      "           2       0.92      0.99      0.95       357\n",
      "           3       0.50      0.13      0.21        31\n",
      "           4       0.00      0.00      0.00         4\n",
      "           5       0.99      0.97      0.98       654\n",
      "           6       0.00      0.00      0.00         7\n",
      "           7       0.93      0.93      0.93        29\n",
      "           8       0.65      0.65      0.65        23\n",
      "           9       0.82      0.84      0.83       197\n",
      "          10       0.93      0.74      0.82        19\n",
      "          11       0.93      0.94      0.93       145\n",
      "          12       0.67      0.72      0.69        39\n",
      "          13       0.89      0.67      0.76        24\n",
      "          14       0.00      0.00      0.00        13\n",
      "          15       0.86      0.96      0.91       341\n",
      "          16       0.86      0.86      0.86         7\n",
      "          17       0.00      0.00      0.00         4\n",
      "          18       0.00      0.00      0.00         3\n",
      "          19       0.71      0.88      0.79        88\n",
      "          20       0.00      0.00      0.00         2\n",
      "          21       0.00      0.00      0.00         2\n",
      "          22       0.00      0.00      0.00         5\n",
      "          23       0.00      0.00      0.00         1\n",
      "          24       1.00      0.38      0.55        24\n",
      "          25       0.75      0.40      0.52        15\n",
      "          26       0.00      0.00      0.00         5\n",
      "          27       0.56      0.51      0.54        35\n",
      "          28       1.00      0.10      0.18        10\n",
      "          29       0.00      0.00      0.00         2\n",
      "          30       0.95      0.96      0.95       307\n",
      "          31       0.96      0.99      0.97      1884\n",
      "          32       0.33      0.17      0.22        18\n",
      "          33       0.22      0.09      0.13        22\n",
      "          34       0.00      0.00      0.00         1\n",
      "          35       0.75      0.90      0.82        20\n",
      "          36       0.00      0.00      0.00         7\n",
      "          37       0.59      0.52      0.55        25\n",
      "          38       0.95      0.95      0.95       291\n",
      "          40       0.55      0.64      0.59        45\n",
      "          41       0.00      0.00      0.00         1\n",
      "          42       0.00      0.00      0.00         1\n",
      "          43       0.00      0.00      0.00         3\n",
      "          44       0.91      0.99      0.95        86\n",
      "          45       0.00      0.00      0.00        14\n",
      "\n",
      "    accuracy                           0.92      5124\n",
      "   macro avg       0.47      0.42      0.43      5124\n",
      "weighted avg       0.90      0.92      0.91      5124\n",
      "\n"
     ]
    },
    {
     "name": "stderr",
     "output_type": "stream",
     "text": [
      "/home/ec2-user/anaconda3/envs/python3/lib/python3.8/site-packages/sklearn/metrics/_classification.py:1308: UndefinedMetricWarning: Precision is ill-defined and being set to 0.0 in labels with no predicted samples. Use `zero_division` parameter to control this behavior.\n",
      "  _warn_prf(average, modifier, msg_start, len(result))\n",
      "/home/ec2-user/anaconda3/envs/python3/lib/python3.8/site-packages/sklearn/metrics/_classification.py:1308: UndefinedMetricWarning: Precision and F-score are ill-defined and being set to 0.0 in labels with no predicted samples. Use `zero_division` parameter to control this behavior.\n",
      "  _warn_prf(average, modifier, msg_start, len(result))\n",
      "/home/ec2-user/anaconda3/envs/python3/lib/python3.8/site-packages/sklearn/metrics/_classification.py:1308: UndefinedMetricWarning: Precision and F-score are ill-defined and being set to 0.0 in labels with no predicted samples. Use `zero_division` parameter to control this behavior.\n",
      "  _warn_prf(average, modifier, msg_start, len(result))\n",
      "/home/ec2-user/anaconda3/envs/python3/lib/python3.8/site-packages/sklearn/metrics/_classification.py:1308: UndefinedMetricWarning: Precision and F-score are ill-defined and being set to 0.0 in labels with no predicted samples. Use `zero_division` parameter to control this behavior.\n",
      "  _warn_prf(average, modifier, msg_start, len(result))\n"
     ]
    }
   ],
   "source": [
    "# 6.3.3 Evaluate the phylum\n",
    "acc_p = accuracy_score(gold_labs_p, pred_labs_p)\n",
    "print(f'Accuracy = {acc_p}')\n",
    "\n",
    "prec_p = precision_score(gold_labs_p, pred_labs_p, average='macro')\n",
    "print(f'Precision (macro average) = {prec_p}')\n",
    "\n",
    "rec_p = recall_score(gold_labs_p, pred_labs_p, average='macro')\n",
    "print(f'Recall (macro average) = {rec_p}')\n",
    "\n",
    "f1_p = f1_score(gold_labs_p, pred_labs_p, average='macro')\n",
    "print(f'F1 score (macro average) = {f1_p}')\n",
    "\n",
    "# We can get all of these with a per-class breakdown using classification_report:\n",
    "print(classification_report(gold_labs_p, pred_labs_p))"
   ]
  },
  {
   "cell_type": "code",
   "execution_count": 32,
   "id": "98f8ee43",
   "metadata": {},
   "outputs": [
    {
     "data": {
      "text/plain": [
       "<Figure size 7200x3600 with 0 Axes>"
      ]
     },
     "metadata": {},
     "output_type": "display_data"
    },
    {
     "data": {
      "image/png": "[encoded data removed]",
      "text/plain": [
       "<Figure size 1152x1152 with 2 Axes>"
      ]
     },
     "metadata": {
      "needs_background": "light"
     },
     "output_type": "display_data"
    }
   ],
   "source": [
    "# 6.3.4 Visualise the results\n",
    "cm_p = confusion_matrix(gold_labs_p, pred_labs_p)\n",
    "\n",
    "plt.figure()\n",
    "plt.rcParams[\"figure.figsize\"] = [100.00, 50.00]\n",
    "plt.matshow(cm_p, cmap = plt.cm.GnBu)\n",
    "plt.colorbar()\n",
    "\n",
    "for i in range(cm_p.shape[0]):\n",
    "    for j in range(cm_p.shape[1]):\n",
    "        plt.text(i,j,str(cm_p[i][j]),color='orange',fontsize='small',ha='center',va='center',weight='semibold')\n",
    "\n",
    "plt.xlabel('Predicted label',labelpad=-760, fontsize='x-large',color= 'green')\n",
    "plt.ylabel('Gold label',labelpad=15, fontsize='x-large',color= 'green')\n",
    "plt.title('Phylum', fontsize='xx-large',pad=30,color= 'darkblue')\n",
    "plt.show()"
   ]
  },
  {
   "cell_type": "markdown",
   "id": "4e70492c",
   "metadata": {},
   "source": [
    "**$\\cdot$Class**"
   ]
  },
  {
   "cell_type": "code",
   "execution_count": null,
   "id": "10cad232",
   "metadata": {},
   "outputs": [
    {
     "name": "stdout",
     "output_type": "stream",
     "text": [
      "Epoch: 1/10 Training Loss: 3.7724 Training Accuracy: 13.3880%\n",
      "Epoch: 2/10 Training Loss: 2.9644 Training Accuracy: 30.6011%\n",
      "Epoch: 3/10 Training Loss: 2.3011 Training Accuracy: 44.4867%\n",
      "Epoch: 4/10 Training Loss: 1.7309 Training Accuracy: 58.8212%\n",
      "Epoch: 5/10 Training Loss: 1.3397 Training Accuracy: 68.6085%\n",
      "Epoch: 6/10 Training Loss: 1.0850 Training Accuracy: 74.4975%\n",
      "Epoch: 7/10 Training Loss: 0.8977 Training Accuracy: 79.1081%\n",
      "Epoch: 8/10 Training Loss: 0.7700 Training Accuracy: 82.0941%\n",
      "Epoch: 9/10 Training Loss: 0.6590 Training Accuracy: 84.2750%\n",
      "Epoch: 10/10 Training Loss: 0.5601 Training Accuracy: 86.6413%\n"
     ]
    }
   ],
   "source": [
    "# 6.4 Class\n",
    "# 6.4.1 Construct and train a LSTM model for phylum\n",
    "\n",
    "model_lstm = DNAClassifierWithLSTM(vocab_size, embedding_size, hidden_size, hidden_size_c, num_layers, num_classes_c) # Creat a LSTM\n",
    "trained_model_lstm_c = train_nn(num_epochs, model_lstm, train_loader_c) # Train model"
   ]
  },
  {
   "cell_type": "code",
   "execution_count": null,
   "id": "2647969b",
   "metadata": {},
   "outputs": [
    {
     "data": {
      "text/plain": [
       "['stl_class.model']"
      ]
     },
     "execution_count": 34,
     "metadata": {},
     "output_type": "execute_result"
    }
   ],
   "source": [
    "joblib.dump(trained_model_lstm_c, 'stl_class.model')"
   ]
  },
  {
   "cell_type": "code",
   "execution_count": 35,
   "id": "ea8b47fb",
   "metadata": {},
   "outputs": [],
   "source": [
    "# 6.4.2 Make predictions for class\n",
    "trained_model_lstm_c = joblib.load('stl_class.model')\n",
    "\n",
    "gold_labs_c, pred_labs_c = predict_nn(trained_model_lstm_c, test_loader_c) # Predict the results of test data "
   ]
  },
  {
   "cell_type": "code",
   "execution_count": 36,
   "id": "52333a6d",
   "metadata": {},
   "outputs": [
    {
     "name": "stdout",
     "output_type": "stream",
     "text": [
      "Accuracy = 0.8610460577673692\n",
      "Precision (macro average) = 0.36612790621020264\n",
      "Recall (macro average) = 0.3661027734871321\n",
      "F1 score (macro average) = 0.35151875581475134\n",
      "              precision    recall  f1-score   support\n",
      "\n",
      "           0       0.00      0.00      0.00         4\n",
      "           1       0.00      0.00      0.00         2\n",
      "           2       0.00      0.00      0.00         1\n",
      "           3       0.71      0.67      0.69        15\n",
      "           4       0.37      0.39      0.38        18\n",
      "           5       0.00      0.00      0.00         1\n",
      "           6       0.00      0.00      0.00         3\n",
      "           7       0.00      0.00      0.00         1\n",
      "           8       0.00      0.00      0.00         2\n",
      "           9       0.92      0.99      0.95        71\n",
      "          10       0.41      1.00      0.58        11\n",
      "          11       0.96      0.96      0.96        74\n",
      "          12       0.75      1.00      0.85        38\n",
      "          13       0.98      0.98      0.98       174\n",
      "          14       0.92      0.99      0.95       650\n",
      "          15       0.63      0.83      0.71        92\n",
      "          16       0.00      0.00      0.00         3\n",
      "          17       0.00      0.00      0.00         2\n",
      "          18       0.00      0.00      0.00         2\n",
      "          19       0.00      0.00      0.00         2\n",
      "          20       0.00      0.00      0.00        10\n",
      "          21       0.50      0.20      0.29         5\n",
      "          22       0.00      0.00      0.00         1\n",
      "          23       0.00      0.00      0.00         3\n",
      "          24       0.00      0.00      0.00         1\n",
      "          25       0.62      0.56      0.59         9\n",
      "          26       0.94      0.95      0.95        83\n",
      "          27       0.93      0.84      0.88       110\n",
      "          28       0.95      0.99      0.97       201\n",
      "          29       1.00      0.38      0.55         8\n",
      "          30       0.50      0.22      0.31         9\n",
      "          31       0.00      0.00      0.00         7\n",
      "          32       0.90      0.90      0.90        29\n",
      "          33       0.00      0.00      0.00         2\n",
      "          34       0.50      0.10      0.17        10\n",
      "          35       0.93      0.96      0.94        93\n",
      "          36       1.00      0.12      0.22         8\n",
      "          37       0.90      0.92      0.91       248\n",
      "          39       0.84      0.91      0.87        90\n",
      "          40       0.81      1.00      0.89        17\n",
      "          41       0.00      0.00      0.00         1\n",
      "          42       0.00      0.00      0.00        14\n",
      "          43       0.75      0.21      0.33        14\n",
      "          44       0.87      0.95      0.91       477\n",
      "          45       0.00      0.00      0.00         7\n",
      "          46       0.31      0.50      0.38         8\n",
      "          47       0.58      0.78      0.67        37\n",
      "          48       0.00      0.00      0.00         2\n",
      "          49       0.60      0.90      0.72        20\n",
      "          50       0.67      0.40      0.50        10\n",
      "          51       0.00      0.00      0.00         9\n",
      "          52       0.93      0.79      0.85       134\n",
      "          53       0.75      0.86      0.80         7\n",
      "          55       0.00      0.00      0.00         3\n",
      "          56       0.98      0.97      0.97       518\n",
      "          57       0.61      1.00      0.75        20\n",
      "          58       0.92      0.92      0.92        12\n",
      "          59       0.00      0.00      0.00         6\n",
      "          60       0.00      0.00      0.00         3\n",
      "          61       0.00      0.00      0.00         5\n",
      "          62       0.83      1.00      0.91        40\n",
      "          63       0.00      0.00      0.00         1\n",
      "          64       0.00      0.00      0.00         2\n",
      "          65       1.00      0.33      0.50         3\n",
      "          66       0.60      1.00      0.75         3\n",
      "          67       0.00      0.00      0.00         2\n",
      "          68       0.00      0.00      0.00         2\n",
      "          69       0.00      0.00      0.00         3\n",
      "          70       0.91      0.62      0.74        16\n",
      "          71       1.00      0.67      0.80        12\n",
      "          73       0.00      0.00      0.00         5\n",
      "          75       0.00      0.00      0.00         4\n",
      "          76       0.00      0.00      0.00         1\n",
      "          77       0.00      0.00      0.00         2\n",
      "          78       0.00      0.00      0.00         1\n",
      "          79       0.54      0.61      0.57        23\n",
      "          80       0.00      0.00      0.00         1\n",
      "          81       0.50      0.50      0.50        24\n",
      "          82       0.50      0.67      0.57         3\n",
      "          83       0.80      1.00      0.89        16\n",
      "          84       0.00      0.00      0.00         1\n",
      "          85       0.00      0.00      0.00         3\n",
      "          86       0.00      0.00      0.00         6\n",
      "          87       0.00      0.00      0.00         4\n",
      "          88       0.00      0.00      0.00         3\n",
      "          89       0.00      0.00      0.00         5\n",
      "          90       0.00      0.00      0.00         3\n",
      "          91       0.95      0.61      0.74        33\n",
      "          92       0.00      0.00      0.00         9\n",
      "          93       0.00      0.00      0.00         3\n",
      "          94       0.00      0.00      0.00         2\n",
      "          95       0.67      0.29      0.40         7\n",
      "          96       0.00      0.00      0.00         4\n",
      "          97       0.60      0.69      0.64        45\n",
      "          98       0.92      0.80      0.86        60\n",
      "          99       0.00      0.00      0.00         2\n",
      "         100       0.00      0.00      0.00         2\n",
      "         101       0.93      0.98      0.95       203\n",
      "         102       0.33      0.17      0.22         6\n",
      "         103       0.00      0.00      0.00         2\n",
      "         104       0.00      0.00      0.00         3\n",
      "         105       0.00      0.00      0.00         3\n",
      "         106       0.25      0.22      0.24         9\n",
      "         107       0.00      0.00      0.00         7\n",
      "         108       0.00      0.00      0.00         2\n",
      "         109       0.00      0.00      0.00         4\n",
      "         110       0.83      0.71      0.77         7\n",
      "         113       0.00      0.00      0.00         4\n",
      "         114       0.53      1.00      0.70        16\n",
      "         115       0.00      0.00      0.00         1\n",
      "         116       0.80      0.86      0.83        64\n",
      "         117       0.73      0.93      0.82        97\n",
      "         118       0.47      0.37      0.41        19\n",
      "         119       0.43      0.76      0.55        17\n",
      "         120       0.64      0.67      0.65        21\n",
      "         121       0.00      0.00      0.00         1\n",
      "         122       0.00      0.00      0.00        17\n",
      "         123       0.00      0.00      0.00         4\n",
      "         124       0.60      0.30      0.40        10\n",
      "         125       0.00      0.00      0.00         5\n",
      "         128       0.58      1.00      0.74        14\n",
      "         129       0.93      0.96      0.94        93\n",
      "         130       0.57      0.29      0.38        14\n",
      "         131       0.45      0.83      0.59        18\n",
      "         132       0.00      0.00      0.00         1\n",
      "         133       0.44      0.73      0.55        11\n",
      "         134       0.79      0.86      0.82        49\n",
      "         135       0.00      0.00      0.00         1\n",
      "         136       0.00      0.00      0.00         2\n",
      "         137       0.56      0.90      0.69        10\n",
      "         138       0.00      0.00      0.00         1\n",
      "         140       0.00      0.00      0.00         1\n",
      "         141       0.87      0.98      0.92        48\n",
      "         142       0.00      0.00      0.00         1\n",
      "         143       0.37      0.39      0.38        18\n",
      "         144       0.00      0.00      0.00         5\n",
      "         145       0.00      0.00      0.00         3\n",
      "         146       0.00      0.00      0.00         6\n",
      "         147       0.93      0.93      0.93        86\n",
      "         148       0.98      0.98      0.98       131\n",
      "         149       0.57      0.67      0.62         6\n",
      "         150       0.96      0.95      0.95       213\n",
      "         151       1.00      0.93      0.97        61\n",
      "         152       0.82      0.69      0.75        13\n",
      "         153       0.35      0.50      0.41        18\n",
      "         154       0.00      0.00      0.00         5\n",
      "\n",
      "    accuracy                           0.86      5124\n",
      "   macro avg       0.37      0.37      0.35      5124\n",
      "weighted avg       0.83      0.86      0.84      5124\n",
      "\n"
     ]
    },
    {
     "name": "stderr",
     "output_type": "stream",
     "text": [
      "/home/ec2-user/anaconda3/envs/python3/lib/python3.8/site-packages/sklearn/metrics/_classification.py:1308: UndefinedMetricWarning: Precision is ill-defined and being set to 0.0 in labels with no predicted samples. Use `zero_division` parameter to control this behavior.\n",
      "  _warn_prf(average, modifier, msg_start, len(result))\n",
      "/home/ec2-user/anaconda3/envs/python3/lib/python3.8/site-packages/sklearn/metrics/_classification.py:1308: UndefinedMetricWarning: Precision and F-score are ill-defined and being set to 0.0 in labels with no predicted samples. Use `zero_division` parameter to control this behavior.\n",
      "  _warn_prf(average, modifier, msg_start, len(result))\n",
      "/home/ec2-user/anaconda3/envs/python3/lib/python3.8/site-packages/sklearn/metrics/_classification.py:1308: UndefinedMetricWarning: Precision and F-score are ill-defined and being set to 0.0 in labels with no predicted samples. Use `zero_division` parameter to control this behavior.\n",
      "  _warn_prf(average, modifier, msg_start, len(result))\n",
      "/home/ec2-user/anaconda3/envs/python3/lib/python3.8/site-packages/sklearn/metrics/_classification.py:1308: UndefinedMetricWarning: Precision and F-score are ill-defined and being set to 0.0 in labels with no predicted samples. Use `zero_division` parameter to control this behavior.\n",
      "  _warn_prf(average, modifier, msg_start, len(result))\n"
     ]
    }
   ],
   "source": [
    "# 6.4.3 Evaluate the class\n",
    "acc_c = accuracy_score(gold_labs_c, pred_labs_c)\n",
    "print(f'Accuracy = {acc_c}')\n",
    "\n",
    "prec_c = precision_score(gold_labs_c, pred_labs_c, average='macro')\n",
    "print(f'Precision (macro average) = {prec_c}')\n",
    "\n",
    "rec_c = recall_score(gold_labs_c, pred_labs_c, average='macro')\n",
    "print(f'Recall (macro average) = {rec_c}')\n",
    "\n",
    "f1_c = f1_score(gold_labs_c, pred_labs_c, average='macro')\n",
    "print(f'F1 score (macro average) = {f1_c}')\n",
    "\n",
    "# We can get all of these with a per-class breakdown using classification_report:\n",
    "print(classification_report(gold_labs_c, pred_labs_c))"
   ]
  },
  {
   "cell_type": "code",
   "execution_count": null,
   "id": "a4d15628",
   "metadata": {},
   "outputs": [
    {
     "data": {
      "text/plain": [
       "<Figure size 7200x3600 with 0 Axes>"
      ]
     },
     "metadata": {},
     "output_type": "display_data"
    }
   ],
   "source": [
    "# 6.4.4 Visualise the results\n",
    "cm_c = confusion_matrix(gold_labs_c, pred_labs_c)\n",
    "\n",
    "plt.figure()\n",
    "plt.rcParams[\"figure.figsize\"] = [100.00, 50.00]\n",
    "plt.matshow(cm_c, cmap = plt.cm.GnBu)\n",
    "plt.colorbar()\n",
    "\n",
    "for i in range(cm_c.shape[0]):\n",
    "    for j in range(cm_c.shape[1]):\n",
    "        if cm_c[i][j] !=0:\n",
    "            plt.text(i,j,str(cm_c[i][j]),color='orange',fontsize='small',ha='center',va='center',weight='normal')\n",
    "\n",
    "plt.xlabel('Predicted label',labelpad=-760, fontsize='x-large',color= 'green')\n",
    "plt.ylabel('Gold label',labelpad=15, fontsize='x-large',color= 'green')\n",
    "plt.title('Class', fontsize='xx-large',pad=30,color= 'darkblue')\n",
    "plt.show()"
   ]
  },
  {
   "cell_type": "code",
   "execution_count": null,
   "id": "87aa72ef",
   "metadata": {},
   "outputs": [],
   "source": []
  }
 ],
 "metadata": {
  "kernelspec": {
   "display_name": "conda_python3",
   "language": "python",
   "name": "conda_python3"
  },
  "language_info": {
   "codemirror_mode": {
    "name": "ipython",
    "version": 3
   },
   "file_extension": ".py",
   "mimetype": "text/x-python",
   "name": "python",
   "nbconvert_exporter": "python",
   "pygments_lexer": "ipython3",
   "version": "3.8.12"
  }
 },
 "nbformat": 4,
 "nbformat_minor": 5
}
