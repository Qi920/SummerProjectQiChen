{
 "cells": [
  {
   "cell_type": "markdown",
   "id": "f1e421eb",
   "metadata": {},
   "source": [
    "# 2. Model Training (Single-Task Learning Model)"
   ]
  },
  {
   "cell_type": "code",
   "execution_count": 1,
   "id": "0748fb4a",
   "metadata": {},
   "outputs": [],
   "source": [
    "# import libraries\n",
    "import torch\n",
    "import nltk\n",
    "import joblib\n",
    "import pandas as pd\n",
    "import numpy as np\n",
    "import pyarrow as pa\n",
    "import matplotlib.pyplot as plt\n",
    "\n",
    "from gensim.models import word2vec\n",
    "from gensim.utils import tokenize\n",
    "from torch import nn\n",
    "from torch import optim\n",
    "from datasets import Dataset\n",
    "from torch.utils.data import DataLoader, TensorDataset\n",
    "\n",
    "from sklearn.model_selection import train_test_split\n",
    "from sklearn.feature_extraction.text import CountVectorizer\n",
    "from nltk import word_tokenize\n",
    "\n",
    "from sklearn.metrics import confusion_matrix\n",
    "from sklearn.metrics import accuracy_score, precision_score, recall_score, f1_score, classification_report"
   ]
  },
  {
   "cell_type": "markdown",
   "id": "6b870a02",
   "metadata": {},
   "source": [
    "## 2.1 Load Data"
   ]
  },
  {
   "cell_type": "code",
   "execution_count": 2,
   "id": "e44c7b7a",
   "metadata": {
    "scrolled": true
   },
   "outputs": [
    {
     "data": {
      "text/html": [
       "<div>\n",
       "<style scoped>\n",
       "    .dataframe tbody tr th:only-of-type {\n",
       "        vertical-align: middle;\n",
       "    }\n",
       "\n",
       "    .dataframe tbody tr th {\n",
       "        vertical-align: top;\n",
       "    }\n",
       "\n",
       "    .dataframe thead th {\n",
       "        text-align: right;\n",
       "    }\n",
       "</style>\n",
       "<table border=\"1\" class=\"dataframe\">\n",
       "  <thead>\n",
       "    <tr style=\"text-align: right;\">\n",
       "      <th></th>\n",
       "      <th>ID</th>\n",
       "      <th>kingdom_n</th>\n",
       "      <th>phylum_n</th>\n",
       "      <th>class_n</th>\n",
       "      <th>sequence</th>\n",
       "      <th>sequence_kmers</th>\n",
       "    </tr>\n",
       "  </thead>\n",
       "  <tbody>\n",
       "    <tr>\n",
       "      <th>0</th>\n",
       "      <td>ID-10213</td>\n",
       "      <td>1</td>\n",
       "      <td>5</td>\n",
       "      <td>111</td>\n",
       "      <td>TACGGAGGGTGCAAGCGTTGTCCGGAATCACTGGGTGTAAAGGGTG...</td>\n",
       "      <td>TACGGA ACGGAG CGGAGG GGAGGG GAGGGT AGGGTG GGGT...</td>\n",
       "    </tr>\n",
       "    <tr>\n",
       "      <th>1</th>\n",
       "      <td>ID-24128</td>\n",
       "      <td>1</td>\n",
       "      <td>5</td>\n",
       "      <td>111</td>\n",
       "      <td>TACGGAGGGTGCAAGCGTTGTCCGGAATCACTGGGTGTAAAGGGTG...</td>\n",
       "      <td>TACGGA ACGGAG CGGAGG GGAGGG GAGGGT AGGGTG GGGT...</td>\n",
       "    </tr>\n",
       "    <tr>\n",
       "      <th>2</th>\n",
       "      <td>ID-89036</td>\n",
       "      <td>1</td>\n",
       "      <td>5</td>\n",
       "      <td>111</td>\n",
       "      <td>TACGGAGGGTGCAAGCGTTGTCCGGAATCACTGGGTGTAAAGGGTG...</td>\n",
       "      <td>TACGGA ACGGAG CGGAGG GGAGGG GAGGGT AGGGTG GGGT...</td>\n",
       "    </tr>\n",
       "    <tr>\n",
       "      <th>3</th>\n",
       "      <td>ID-65937</td>\n",
       "      <td>1</td>\n",
       "      <td>5</td>\n",
       "      <td>111</td>\n",
       "      <td>TACGGAGGGTGCAAGCGTTGTCCGGAATCACTGGGTGTAAAGGGTG...</td>\n",
       "      <td>TACGGA ACGGAG CGGAGG GGAGGG GAGGGT AGGGTG GGGT...</td>\n",
       "    </tr>\n",
       "    <tr>\n",
       "      <th>4</th>\n",
       "      <td>ID-69686</td>\n",
       "      <td>1</td>\n",
       "      <td>5</td>\n",
       "      <td>111</td>\n",
       "      <td>TACGGAGGGTCCAAGCGTTGTCCGGAATCACTGGGTGTAAAGGGTG...</td>\n",
       "      <td>TACGGA ACGGAG CGGAGG GGAGGG GAGGGT AGGGTC GGGT...</td>\n",
       "    </tr>\n",
       "    <tr>\n",
       "      <th>...</th>\n",
       "      <td>...</td>\n",
       "      <td>...</td>\n",
       "      <td>...</td>\n",
       "      <td>...</td>\n",
       "      <td>...</td>\n",
       "      <td>...</td>\n",
       "    </tr>\n",
       "    <tr>\n",
       "      <th>27400</th>\n",
       "      <td>ID-50131</td>\n",
       "      <td>1</td>\n",
       "      <td>29</td>\n",
       "      <td>89</td>\n",
       "      <td>TACGTAAGGAGCGAGCGTTGTTCGGATTTATTGGGCGTAAAGGGCG...</td>\n",
       "      <td>TACGTA ACGTAA CGTAAG GTAAGG TAAGGA AAGGAG AGGA...</td>\n",
       "    </tr>\n",
       "    <tr>\n",
       "      <th>27402</th>\n",
       "      <td>ID-53233</td>\n",
       "      <td>1</td>\n",
       "      <td>9</td>\n",
       "      <td>99</td>\n",
       "      <td>TACGTAGGGTCCGAGCGTTGTCCGGAGTGACTGGGCGTAAAGCGCG...</td>\n",
       "      <td>TACGTA ACGTAG CGTAGG GTAGGG TAGGGT AGGGTC GGGT...</td>\n",
       "    </tr>\n",
       "    <tr>\n",
       "      <th>27405</th>\n",
       "      <td>ID-59236</td>\n",
       "      <td>1</td>\n",
       "      <td>5</td>\n",
       "      <td>41</td>\n",
       "      <td>TACGGAGGGTCCAAGCGTTATCCGGAATCACTGGGTTTAAAGGGTG...</td>\n",
       "      <td>TACGGA ACGGAG CGGAGG GGAGGG GAGGGT AGGGTC GGGT...</td>\n",
       "    </tr>\n",
       "    <tr>\n",
       "      <th>27408</th>\n",
       "      <td>ID-75469</td>\n",
       "      <td>0</td>\n",
       "      <td>10</td>\n",
       "      <td>97</td>\n",
       "      <td>TACCAGCACCCCGAGTGGTCGGGACGATTATTGGGCCTAAAGCATC...</td>\n",
       "      <td>TACCAG ACCAGC CCAGCA CAGCAC AGCACC GCACCC CACC...</td>\n",
       "    </tr>\n",
       "    <tr>\n",
       "      <th>27409</th>\n",
       "      <td>ID-89027</td>\n",
       "      <td>1</td>\n",
       "      <td>26</td>\n",
       "      <td>22</td>\n",
       "      <td>GACAGAGGTGGCAAGCGTTGCTCGGAGTTACTGGGCATAAAGGGCG...</td>\n",
       "      <td>GACAGA ACAGAG CAGAGG AGAGGT GAGGTG AGGTGG GGTG...</td>\n",
       "    </tr>\n",
       "  </tbody>\n",
       "</table>\n",
       "<p>25381 rows × 6 columns</p>\n",
       "</div>"
      ],
      "text/plain": [
       "             ID  kingdom_n  phylum_n  class_n  \\\n",
       "0      ID-10213          1         5      111   \n",
       "1      ID-24128          1         5      111   \n",
       "2      ID-89036          1         5      111   \n",
       "3      ID-65937          1         5      111   \n",
       "4      ID-69686          1         5      111   \n",
       "...         ...        ...       ...      ...   \n",
       "27400  ID-50131          1        29       89   \n",
       "27402  ID-53233          1         9       99   \n",
       "27405  ID-59236          1         5       41   \n",
       "27408  ID-75469          0        10       97   \n",
       "27409  ID-89027          1        26       22   \n",
       "\n",
       "                                                sequence  \\\n",
       "0      TACGGAGGGTGCAAGCGTTGTCCGGAATCACTGGGTGTAAAGGGTG...   \n",
       "1      TACGGAGGGTGCAAGCGTTGTCCGGAATCACTGGGTGTAAAGGGTG...   \n",
       "2      TACGGAGGGTGCAAGCGTTGTCCGGAATCACTGGGTGTAAAGGGTG...   \n",
       "3      TACGGAGGGTGCAAGCGTTGTCCGGAATCACTGGGTGTAAAGGGTG...   \n",
       "4      TACGGAGGGTCCAAGCGTTGTCCGGAATCACTGGGTGTAAAGGGTG...   \n",
       "...                                                  ...   \n",
       "27400  TACGTAAGGAGCGAGCGTTGTTCGGATTTATTGGGCGTAAAGGGCG...   \n",
       "27402  TACGTAGGGTCCGAGCGTTGTCCGGAGTGACTGGGCGTAAAGCGCG...   \n",
       "27405  TACGGAGGGTCCAAGCGTTATCCGGAATCACTGGGTTTAAAGGGTG...   \n",
       "27408  TACCAGCACCCCGAGTGGTCGGGACGATTATTGGGCCTAAAGCATC...   \n",
       "27409  GACAGAGGTGGCAAGCGTTGCTCGGAGTTACTGGGCATAAAGGGCG...   \n",
       "\n",
       "                                          sequence_kmers  \n",
       "0      TACGGA ACGGAG CGGAGG GGAGGG GAGGGT AGGGTG GGGT...  \n",
       "1      TACGGA ACGGAG CGGAGG GGAGGG GAGGGT AGGGTG GGGT...  \n",
       "2      TACGGA ACGGAG CGGAGG GGAGGG GAGGGT AGGGTG GGGT...  \n",
       "3      TACGGA ACGGAG CGGAGG GGAGGG GAGGGT AGGGTG GGGT...  \n",
       "4      TACGGA ACGGAG CGGAGG GGAGGG GAGGGT AGGGTC GGGT...  \n",
       "...                                                  ...  \n",
       "27400  TACGTA ACGTAA CGTAAG GTAAGG TAAGGA AAGGAG AGGA...  \n",
       "27402  TACGTA ACGTAG CGTAGG GTAGGG TAGGGT AGGGTC GGGT...  \n",
       "27405  TACGGA ACGGAG CGGAGG GGAGGG GAGGGT AGGGTC GGGT...  \n",
       "27408  TACCAG ACCAGC CCAGCA CAGCAC AGCACC GCACCC CACC...  \n",
       "27409  GACAGA ACAGAG CAGAGG AGAGGT GAGGTG AGGTGG GGTG...  \n",
       "\n",
       "[25381 rows x 6 columns]"
      ]
     },
     "execution_count": 2,
     "metadata": {},
     "output_type": "execute_result"
    }
   ],
   "source": [
    "data_df = pd.read_csv('taxonomy_preprocessed2.csv',index_col=0)\n",
    "data_df"
   ]
  },
  {
   "cell_type": "markdown",
   "id": "d3b4ea0e",
   "metadata": {},
   "source": [
    "## 2.2 Train and Test Split"
   ]
  },
  {
   "cell_type": "markdown",
   "id": "7b8307f3",
   "metadata": {},
   "source": [
    "(1) Split data into train data and test data"
   ]
  },
  {
   "cell_type": "code",
   "execution_count": 3,
   "id": "7400dffe",
   "metadata": {},
   "outputs": [],
   "source": [
    "split_ratio = 0.2  # The split ratio\n",
    "\n",
    "Train_data, test_data = train_test_split(data_df, test_size=split_ratio, random_state=1432)\n",
    "train_data, dev_data = train_test_split(Train_data, test_size=split_ratio, random_state=1432)"
   ]
  },
  {
   "cell_type": "markdown",
   "id": "05b11b64",
   "metadata": {},
   "source": [
    "(2) Change the data type from DataFrame to Dataset"
   ]
  },
  {
   "cell_type": "code",
   "execution_count": 4,
   "id": "ddd6c6ff",
   "metadata": {},
   "outputs": [],
   "source": [
    "train_data = Dataset(pa.Table.from_pandas(train_data))\n",
    "dev_data = Dataset(pa.Table.from_pandas(dev_data))\n",
    "test_data = Dataset(pa.Table.from_pandas(test_data))"
   ]
  },
  {
   "cell_type": "code",
   "execution_count": 5,
   "id": "b6400dea",
   "metadata": {},
   "outputs": [],
   "source": [
    "# sequence_kmers = [list(tokenize(substrings)) for substrings in train_data['sequence_kmers']]\n",
    "# emb_model = word2vec.Word2Vec(sequence_kmers, sg=1, min_count=1, window=3, vector_size=100)\n",
    "# # emb_model.wv['AAAGGG']"
   ]
  },
  {
   "cell_type": "markdown",
   "id": "962e4c07",
   "metadata": {},
   "source": [
    "## 2.3 LSTM Model Training"
   ]
  },
  {
   "cell_type": "markdown",
   "id": "1bbda05b",
   "metadata": {},
   "source": [
    "(1) Change the DNA short sequences into vectors"
   ]
  },
  {
   "cell_type": "code",
   "execution_count": 6,
   "id": "ae0f5928",
   "metadata": {},
   "outputs": [
    {
     "name": "stderr",
     "output_type": "stream",
     "text": [
      "/home/ec2-user/anaconda3/envs/python3/lib/python3.8/site-packages/sklearn/feature_extraction/text.py:516: UserWarning: The parameter 'token_pattern' will not be used since 'tokenizer' is not None'\n",
      "  warnings.warn(\n"
     ]
    }
   ],
   "source": [
    "# Tokenizer\n",
    "class Tokenizer(object):\n",
    "    def __call__(self, sequence):\n",
    "        return word_tokenize(sequence)\n",
    "\n",
    "vectorizer = CountVectorizer(tokenizer=Tokenizer())  # Construct the vectorizer\n",
    "\n",
    "vectorizer.fit(train_data['sequence_kmers'])  # Learn the vocabulary\n",
    "\n",
    "# Document-Term Matrix\n",
    "X_train = vectorizer.transform(train_data['sequence_kmers'])  # extract training set bags of words\n",
    "X_dev = vectorizer.transform(dev_data['sequence_kmers'])  # extract validation set bags of words\n",
    "X_test = vectorizer.transform(test_data['sequence_kmers'])  # extract test set bags of words\n",
    "\n",
    "vocab = vectorizer.vocabulary_"
   ]
  },
  {
   "cell_type": "markdown",
   "id": "2ad1838b",
   "metadata": {},
   "source": [
    "(2) Data Preprocessing"
   ]
  },
  {
   "cell_type": "code",
   "execution_count": 7,
   "id": "50df181e",
   "metadata": {},
   "outputs": [],
   "source": [
    "# 2. Data Preprocessing\n",
    "\n",
    "def encode_text(sample):\n",
    "    tokens = tokenize(sample['sequence_kmers'])  # Tokenize one document\n",
    "    \n",
    "    input_ids = []\n",
    "    for token in tokens:\n",
    "        if str.lower(token) in vocab:  # Skip words from the dev/test set that are not in the vocabulary.\n",
    "            input_ids.append(vocab[str.lower(token)]+1) # +1 is needed because we reserve 0 as a special character\n",
    "            \n",
    "    sample['input_ids'] = input_ids \n",
    "    return sample\n",
    "\n",
    "def get_text_length(sample):\n",
    "    tokens = tokenize(sample['sequence_kmers'])  # Tokenize one document\n",
    "    length = len(list(tokens))\n",
    "            \n",
    "    sample['len'] = length\n",
    "    return sample\n",
    "\n",
    "def convert_to_data_loader(dataset, flag):\n",
    "    # convert from list to tensor\n",
    "    input_tensor = torch.from_numpy(np.array(dataset['input_ids']))\n",
    "    if flag == 0:\n",
    "        label_tensor = torch.from_numpy(np.array(dataset['kingdom_n'])).long()\n",
    "    elif flag == 1:\n",
    "        label_tensor = torch.from_numpy(np.array(dataset['phylum_n'])).long()\n",
    "    elif flag == 2:\n",
    "        label_tensor = torch.from_numpy(np.array(dataset['class_n'])).long()\n",
    "    \n",
    "    len_tensor = torch.from_numpy(np.array(dataset['len'])).long() # --> Add len_tensor element\n",
    "    tensor_dataset = TensorDataset(input_tensor, label_tensor, len_tensor) # --> Add len_tensor element\n",
    "    loader = DataLoader(tensor_dataset, batch_size=batch_size, shuffle=True)\n",
    "\n",
    "    return loader"
   ]
  },
  {
   "cell_type": "code",
   "execution_count": 8,
   "id": "fbba27b2",
   "metadata": {},
   "outputs": [
    {
     "data": {
      "application/vnd.jupyter.widget-view+json": {
       "model_id": "8984fe2265354a06b8d0906c6cc5e332",
       "version_major": 2,
       "version_minor": 0
      },
      "text/plain": [
       "  0%|          | 0/16243 [00:00<?, ?ex/s]"
      ]
     },
     "metadata": {},
     "output_type": "display_data"
    },
    {
     "data": {
      "application/vnd.jupyter.widget-view+json": {
       "model_id": "6a4f30be5a6340f09a73fc69b59fc919",
       "version_major": 2,
       "version_minor": 0
      },
      "text/plain": [
       "  0%|          | 0/16243 [00:00<?, ?ex/s]"
      ]
     },
     "metadata": {},
     "output_type": "display_data"
    },
    {
     "data": {
      "application/vnd.jupyter.widget-view+json": {
       "model_id": "2b315524e3c3417eb2c49b1b44d6aaed",
       "version_major": 2,
       "version_minor": 0
      },
      "text/plain": [
       "  0%|          | 0/4061 [00:00<?, ?ex/s]"
      ]
     },
     "metadata": {},
     "output_type": "display_data"
    },
    {
     "data": {
      "application/vnd.jupyter.widget-view+json": {
       "model_id": "cd5b1dc1b03a442e9a4305f2fbfea295",
       "version_major": 2,
       "version_minor": 0
      },
      "text/plain": [
       "  0%|          | 0/4061 [00:00<?, ?ex/s]"
      ]
     },
     "metadata": {},
     "output_type": "display_data"
    },
    {
     "data": {
      "application/vnd.jupyter.widget-view+json": {
       "model_id": "f813b4d5a1c9474ca33be8939d162101",
       "version_major": 2,
       "version_minor": 0
      },
      "text/plain": [
       "  0%|          | 0/5077 [00:00<?, ?ex/s]"
      ]
     },
     "metadata": {},
     "output_type": "display_data"
    },
    {
     "data": {
      "application/vnd.jupyter.widget-view+json": {
       "model_id": "cce75c25365d4cfe8f21d7ce54c6fe06",
       "version_major": 2,
       "version_minor": 0
      },
      "text/plain": [
       "  0%|          | 0/5077 [00:00<?, ?ex/s]"
      ]
     },
     "metadata": {},
     "output_type": "display_data"
    }
   ],
   "source": [
    "# Preprocess datasets\n",
    "batch_size = 32\n",
    "\n",
    "train_data = train_data.map(encode_text)\n",
    "train_data = train_data.map(get_text_length) # --> Map train_dataset to get_text_length method\n",
    "train_loader_k = convert_to_data_loader(train_data, 0)\n",
    "train_loader_p = convert_to_data_loader(train_data, 1)\n",
    "train_loader_c = convert_to_data_loader(train_data, 2)\n",
    "\n",
    "dev_data = dev_data.map(encode_text)\n",
    "dev_data = dev_data.map(get_text_length)  # --> Map test_dataset to get_text_length method\n",
    "dev_loader_k = convert_to_data_loader(dev_data, 0)\n",
    "dev_loader_p = convert_to_data_loader(dev_data, 1)\n",
    "dev_loader_c = convert_to_data_loader(dev_data, 2)\n",
    "\n",
    "test_data = test_data.map(encode_text)\n",
    "test_data = test_data.map(get_text_length)  # --> Map test_dataset to get_text_length method\n",
    "test_loader_k = convert_to_data_loader(test_data, 0)\n",
    "test_loader_p = convert_to_data_loader(test_data, 1)\n",
    "test_loader_c = convert_to_data_loader(test_data, 2)"
   ]
  },
  {
   "cell_type": "markdown",
   "id": "0e572329",
   "metadata": {},
   "source": [
    "(3) Construct Single-task learning model"
   ]
  },
  {
   "cell_type": "code",
   "execution_count": 9,
   "id": "e2404647",
   "metadata": {},
   "outputs": [],
   "source": [
    "# 3. Construct Single-task learning model\n",
    "class DNAClassifierWithLSTM(nn.Module):\n",
    "    \n",
    "    def __init__(self, vocab_size, embedding_size, hidden_size1, hidden_size2, num_layers, num_classes): \n",
    "        super(DNAClassifierWithLSTM, self).__init__()\n",
    "\n",
    "        self.embedding_size = embedding_size\n",
    "        self.num_layers = num_layers\n",
    "        self.hidden_size = hidden_size1\n",
    "#         self.hidden_size2 = hidden_size2\n",
    "\n",
    "        self.embedding_layer = nn.Embedding(vocab_size,embedding_size) # embedding layer\n",
    "        # Hidden layer (LSTM layer) and the num_layers is the number of recurrent layers\n",
    "        self.hidden_layer = nn.LSTM(embedding_size,hidden_size1,num_layers,batch_first=True)\n",
    "        \n",
    "        self.activation = nn.ReLU() # Hidden layer\n",
    "        \n",
    "        self.output_layer= nn.Sequential(\n",
    "            nn.Linear(hidden_size1,hidden_size2),\n",
    "            nn.ReLU(),\n",
    "            nn.Dropout(),\n",
    "            nn.Linear(hidden_size2,num_classes)\n",
    "        )\n",
    "        \n",
    "    def forward (self, input_words, sequence_len):\n",
    "        # Input dimensions are:  (batch_size, seq_length)\n",
    "        embedded_words = self.embedding_layer(input_words)  # (batch_size, seq_length, embedding_size)\n",
    "   \n",
    "        # Variable length\n",
    "        embedded_words = nn.utils.rnn.pack_padded_sequence(embedded_words,sequence_len,batch_first=True,enforce_sorted=False)\n",
    "        \n",
    "        # Compute in LSTM layer\n",
    "        h0 = torch.randn(self.num_layers, len(input_words), self.hidden_size) # --> Initialize hidden state h0\n",
    "        c0 = torch.randn(self.num_layers, len(input_words), self.hidden_size) # --> Initialize cell state c0\n",
    "        embedded_words, (hn, cn)= self.hidden_layer(embedded_words, (h0,c0))  # --> LSTM layer\n",
    "        \n",
    "        # Get the last hidden state or cell state\n",
    "        embedded_words_h = hn[self.num_layers-1] # Short-term memory\n",
    "        # embedded_words_c = cn[self.num_layers-1] # Long-term memory\n",
    "\n",
    "        # Activation layer\n",
    "        h = self.activation(embedded_words_h) \n",
    "        \n",
    "        # Output layer\n",
    "        output = self.output_layer(h)    \n",
    "\n",
    "        return output "
   ]
  },
  {
   "cell_type": "markdown",
   "id": "20749477",
   "metadata": {},
   "source": [
    "(4) Construct the training model function"
   ]
  },
  {
   "cell_type": "code",
   "execution_count": 10,
   "id": "d325db9f",
   "metadata": {},
   "outputs": [],
   "source": [
    "# 4. Train model\n",
    "def train_nn(num_epochs, learning_rate, model, train_dataloader, dev_dataloader):\n",
    "# def train_nn(num_epochs, model, train_dataloader):\n",
    "    \n",
    "#     learning_rate = 0.0005 # learning rate for the gradient descent optimizer, related to the step size\n",
    "\n",
    "    loss_fn = nn.CrossEntropyLoss()  # create loss function object\n",
    "    optimizer = optim.Adam(model.parameters(), lr=learning_rate)  # create the optimizer\n",
    "    \n",
    "    for e in range(num_epochs):\n",
    "        # Track performance on the training set as we are learning...\n",
    "        total_correct = 0\n",
    "        total_trained = 0\n",
    "        train_losses = []\n",
    "\n",
    "        model.train()  # Put the model in training mode.\n",
    "\n",
    "        for i, (batch_input_ids, batch_labels, batch_length) in enumerate(train_dataloader): # --> Add batch_length element\n",
    "            # Iterate over each batch of data\n",
    "            # print(f'batch no. = {i}')\n",
    "\n",
    "            optimizer.zero_grad()  # Reset the optimizer\n",
    "\n",
    "            # Use the model to perform forward inference on the input data.\n",
    "            # This will run the forward() function.\n",
    "            output = model(batch_input_ids, batch_length) # --> Add batch_length parameter\n",
    "\n",
    "            # Compute the loss for the current batch of data\n",
    "            batch_loss = loss_fn(output, batch_labels)\n",
    "\n",
    "            # Perform back propagation to compute the gradients with respect to each weight\n",
    "            batch_loss.backward()\n",
    "\n",
    "            # Update the weights using the compute gradients\n",
    "            optimizer.step()\n",
    "\n",
    "            # Record the loss from this sample to keep track of progress.\n",
    "            train_losses.append(batch_loss.item())\n",
    "\n",
    "            # Count correct labels so we can compute accuracy on the training set\n",
    "            predicted_labels = output.argmax(1)\n",
    "            total_correct += (predicted_labels == batch_labels).sum().item()\n",
    "            total_trained += batch_labels.size(0)\n",
    "\n",
    "        train_accuracy = total_correct/total_trained*100\n",
    "\n",
    "        print(\"Epoch: {}/{}\".format((e+1), num_epochs),\n",
    "              \"Training Loss: {:.4f}\".format(np.mean(train_losses)),\n",
    "              \"Training Accuracy: {:.4f}%\".format(train_accuracy))\n",
    "\n",
    "        model.eval()  # Switch model to evaluation mode\n",
    "        total_correct = 0\n",
    "        total_trained = 0\n",
    "        dev_losses = []\n",
    "\n",
    "        for dev_input_ids, dev_labels, dev_length in dev_dataloader:  # --> Add dev_length element\n",
    "\n",
    "            optimizer.zero_grad()  # Reset the optimizer\n",
    "\n",
    "            # Use the model to perform forward inference on the input data.\n",
    "            # This will run the forward() function.\n",
    "            dev_output = model(dev_input_ids, dev_length) # --> Add dev_length parameter\n",
    "\n",
    "            # Compute the loss for the current batch of data\n",
    "            dev_loss = loss_fn(dev_output, dev_labels)\n",
    "\n",
    "            # Perform back propagation to compute the gradients with respect to each weight\n",
    "            dev_loss.backward()\n",
    "\n",
    "            # Update the weights using the compute gradients\n",
    "            optimizer.step()\n",
    "\n",
    "            # Save the loss on the dev set\n",
    "            dev_losses.append(dev_loss.item())\n",
    "\n",
    "            # Count the number of correct predictions\n",
    "            predicted_labels = dev_output.argmax(1)\n",
    "            total_correct += (predicted_labels == dev_labels).sum().item()\n",
    "            total_trained += dev_labels.size(0)\n",
    "            \n",
    "        dev_accuracy = total_correct/total_trained*100\n",
    "        \n",
    "        print(\"Epoch: {}/{}\".format((e+1), num_epochs),\n",
    "              \"Validation Loss: {:.4f}\".format(np.mean(dev_losses)),\n",
    "              \"Validation Accuracy: {:.4f}%\".format(dev_accuracy))\n",
    "    return model"
   ]
  },
  {
   "cell_type": "markdown",
   "id": "06f23fa5",
   "metadata": {},
   "source": [
    "(5) Construct the prediction function"
   ]
  },
  {
   "cell_type": "code",
   "execution_count": 11,
   "id": "22dca928",
   "metadata": {},
   "outputs": [],
   "source": [
    "# 5. The prediction function\n",
    "def predict_nn(trained_model, test_loader):\n",
    "\n",
    "    trained_model.eval()\n",
    "\n",
    "    correct = 0  # count the number of correct classification labels\n",
    "\n",
    "    gold_labs = []  # gold labels to return\n",
    "    pred_labs = []  # predicted labels to return\n",
    "    \n",
    "    for inputs, labels, length in test_loader: # --> add length element\n",
    "        test_output = trained_model(inputs, length)  # --> Add length parameter\n",
    "        predicted_labels = test_output.argmax(1)\n",
    "\n",
    "        gold_labs.extend(labels.tolist())\n",
    "        pred_labs.extend(predicted_labels.tolist())\n",
    "    \n",
    "    return gold_labs, pred_labs"
   ]
  },
  {
   "cell_type": "markdown",
   "id": "5ee30bb3",
   "metadata": {},
   "source": [
    "(6) Train models, make predictions, evaluate model and visualise the results"
   ]
  },
  {
   "cell_type": "code",
   "execution_count": 12,
   "id": "1c852eec",
   "metadata": {},
   "outputs": [],
   "source": [
    "# 6. Construct and train models\n",
    "# 6.1 Set the parameters\n",
    "num_layers = 1 # Set the number of recurrent layers  \n",
    "\n",
    "vocab_size = len(vectorizer.vocabulary_) + 1\n",
    "embedding_size = 30  # number of dimensions for embeddings\n",
    "hidden_size = 300 # number of hidden units\n",
    "hidden_size_k = 4\n",
    "hidden_size_p = 100\n",
    "hidden_size_c = 200\n",
    "num_epochs = 10\n",
    "learning_rate = 0.005\n",
    "\n",
    "num_classes_k = len(np.unique(train_data['kingdom_n'])) \n",
    "num_classes_p = len(np.unique(train_data['phylum_n'])) \n",
    "num_classes_c = len(np.unique(train_data['class_n'])) "
   ]
  },
  {
   "cell_type": "markdown",
   "id": "7f4e420f",
   "metadata": {},
   "source": [
    "**$\\cdot$Kingdom**"
   ]
  },
  {
   "cell_type": "code",
   "execution_count": null,
   "id": "3a20a2e6",
   "metadata": {},
   "outputs": [
    {
     "name": "stdout",
     "output_type": "stream",
     "text": [
      "Epoch: 1/10 Training Loss: 0.1852 Training Accuracy: 93.8743%\n",
      "Epoch: 1/10 Validation Loss: 0.0883 Validation Accuracy: 98.2763%\n",
      "Epoch: 2/10 Training Loss: 0.1145 Training Accuracy: 97.7406%\n",
      "Epoch: 2/10 Validation Loss: 0.0668 Validation Accuracy: 98.2763%\n",
      "Epoch: 3/10 Training Loss: 0.0938 Training Accuracy: 97.7406%\n",
      "Epoch: 3/10 Validation Loss: 0.0618 Validation Accuracy: 98.2763%\n",
      "Epoch: 4/10 Training Loss: 0.0929 Training Accuracy: 97.7406%\n",
      "Epoch: 4/10 Validation Loss: 0.0588 Validation Accuracy: 98.2763%\n",
      "Epoch: 5/10 Training Loss: 0.0932 Training Accuracy: 97.7406%\n",
      "Epoch: 5/10 Validation Loss: 0.0566 Validation Accuracy: 98.2763%\n",
      "Epoch: 6/10 Training Loss: 0.0942 Training Accuracy: 97.7406%\n",
      "Epoch: 6/10 Validation Loss: 0.0580 Validation Accuracy: 98.2763%\n",
      "Epoch: 7/10 Training Loss: 0.0910 Training Accuracy: 97.7406%\n",
      "Epoch: 7/10 Validation Loss: 0.0555 Validation Accuracy: 98.2763%\n",
      "Epoch: 8/10 Training Loss: 0.0917 Training Accuracy: 97.7406%\n",
      "Epoch: 8/10 Validation Loss: 0.0553 Validation Accuracy: 98.2763%\n",
      "Epoch: 9/10 Training Loss: 0.0926 Training Accuracy: 97.7406%\n",
      "Epoch: 9/10 Validation Loss: 0.0561 Validation Accuracy: 98.2763%\n",
      "Epoch: 10/10 Training Loss: 0.0905 Training Accuracy: 97.7406%\n",
      "Epoch: 10/10 Validation Loss: 0.0547 Validation Accuracy: 98.2763%\n"
     ]
    }
   ],
   "source": [
    "# 6.2 Kingdom\n",
    "# 6.2.1 Construct and train a LSTM model for kingdom  \n",
    "model_lstm_k = DNAClassifierWithLSTM(vocab_size, embedding_size, hidden_size, hidden_size_k, num_layers, num_classes_k) # Creat a LSTM\n",
    "trained_model_lstm_k = train_nn(num_epochs, learning_rate, model_lstm_k, train_loader_k, dev_loader_k) # Train model"
   ]
  },
  {
   "cell_type": "code",
   "execution_count": null,
   "id": "421d864a",
   "metadata": {},
   "outputs": [
    {
     "data": {
      "text/plain": [
       "['stl_kingdom_n1_la7_b32_lr1.model']"
      ]
     },
     "execution_count": 14,
     "metadata": {},
     "output_type": "execute_result"
    }
   ],
   "source": [
    "joblib.dump(trained_model_lstm_k, 'stl_kingdom_n1_la7_b32_lr1.model')"
   ]
  },
  {
   "cell_type": "code",
   "execution_count": null,
   "id": "01a40bfc",
   "metadata": {},
   "outputs": [],
   "source": [
    "# num_epochs_op = 1\n",
    "\n",
    "# model_lstm_k_op = DNAClassifierWithLSTM(vocab_size, embedding_size, hidden_size, hidden_size_k, num_layers, num_classes_k) # Creat a LSTM\n",
    "# trained_model_lstm_k_op = train_nn(num_epochs_op, learning_rate, model_lstm_k, train_loader_k, dev_loader_k) # Train model"
   ]
  },
  {
   "cell_type": "code",
   "execution_count": null,
   "id": "bb6b43ce",
   "metadata": {},
   "outputs": [],
   "source": [
    "# joblib.dump(trained_model_lstm_k_op, 'stl_kingdom_n1_la7_b64_lr1_op.model')"
   ]
  },
  {
   "cell_type": "markdown",
   "id": "c1ffa2ec",
   "metadata": {},
   "source": [
    "Prediction"
   ]
  },
  {
   "cell_type": "code",
   "execution_count": null,
   "id": "cda3f02e",
   "metadata": {},
   "outputs": [
    {
     "name": "stdout",
     "output_type": "stream",
     "text": [
      "Accuracy = 0.9740003939334253\n",
      "F1 score (macro average) = 0.4934144881261226\n",
      "              precision    recall  f1-score   support\n",
      "\n",
      "           0       0.00      0.00      0.00       132\n",
      "           1       0.97      1.00      0.99      4945\n",
      "\n",
      "    accuracy                           0.97      5077\n",
      "   macro avg       0.49      0.50      0.49      5077\n",
      "weighted avg       0.95      0.97      0.96      5077\n",
      "\n",
      "Precision (macro average) = 0.48700019696671265\n",
      "Recall (macro average) = 0.5\n"
     ]
    },
    {
     "name": "stderr",
     "output_type": "stream",
     "text": [
      "/home/ec2-user/anaconda3/envs/python3/lib/python3.8/site-packages/sklearn/metrics/_classification.py:1308: UndefinedMetricWarning: Precision and F-score are ill-defined and being set to 0.0 in labels with no predicted samples. Use `zero_division` parameter to control this behavior.\n",
      "  _warn_prf(average, modifier, msg_start, len(result))\n",
      "/home/ec2-user/anaconda3/envs/python3/lib/python3.8/site-packages/sklearn/metrics/_classification.py:1308: UndefinedMetricWarning: Precision and F-score are ill-defined and being set to 0.0 in labels with no predicted samples. Use `zero_division` parameter to control this behavior.\n",
      "  _warn_prf(average, modifier, msg_start, len(result))\n",
      "/home/ec2-user/anaconda3/envs/python3/lib/python3.8/site-packages/sklearn/metrics/_classification.py:1308: UndefinedMetricWarning: Precision and F-score are ill-defined and being set to 0.0 in labels with no predicted samples. Use `zero_division` parameter to control this behavior.\n",
      "  _warn_prf(average, modifier, msg_start, len(result))\n",
      "/home/ec2-user/anaconda3/envs/python3/lib/python3.8/site-packages/sklearn/metrics/_classification.py:1308: UndefinedMetricWarning: Precision is ill-defined and being set to 0.0 in labels with no predicted samples. Use `zero_division` parameter to control this behavior.\n",
      "  _warn_prf(average, modifier, msg_start, len(result))\n"
     ]
    }
   ],
   "source": [
    "# 6.2.2 Make predictions for kingdom\n",
    "trained_model_lstm_k = joblib.load('stl_kingdom_n1_la7_b32_lr1.model')\n",
    "\n",
    "gold_labs_k, pred_labs_k = predict_nn(trained_model_lstm_k, test_loader_k) # Predict the results of test data \n",
    "\n",
    "# 6.2.3 Evaluate the kingdom\n",
    "acc_k = accuracy_score(gold_labs_k, pred_labs_k)\n",
    "print(f'Accuracy = {acc_k}')\n",
    "\n",
    "f1_k = f1_score(gold_labs_k, pred_labs_k, average='macro')\n",
    "print(f'F1 score (macro average) = {f1_k}')\n",
    "\n",
    "# We can get all of these with a per-class breakdown using classification_report:\n",
    "print(classification_report(gold_labs_k, pred_labs_k))\n",
    "\n",
    "prec_k = precision_score(gold_labs_k, pred_labs_k, average='macro')\n",
    "print(f'Precision (macro average) = {prec_k}')\n",
    "\n",
    "rec_k = recall_score(gold_labs_k, pred_labs_k, average='macro')\n",
    "print(f'Recall (macro average) = {rec_k}')"
   ]
  },
  {
   "cell_type": "code",
   "execution_count": null,
   "id": "b5923a98",
   "metadata": {},
   "outputs": [
    {
     "data": {
      "text/plain": [
       "<Figure size 432x288 with 0 Axes>"
      ]
     },
     "metadata": {},
     "output_type": "display_data"
    },
    {
     "data": {
      "image/png": "[encoded data removed]",
      "text/plain": [
       "<Figure size 288x288 with 2 Axes>"
      ]
     },
     "metadata": {
      "needs_background": "light"
     },
     "output_type": "display_data"
    }
   ],
   "source": [
    "# 6.2.4 Visualise the results\n",
    "cm_k = confusion_matrix(gold_labs_k, pred_labs_k)\n",
    "\n",
    "plt.figure()\n",
    "plt.matshow(cm_k, cmap = plt.cm.GnBu)\n",
    "plt.colorbar()\n",
    "\n",
    "for i in range(cm_k.shape[0]):\n",
    "    for j in range(cm_k.shape[1]):\n",
    "        plt.text(i,j,str(cm_k[i][j]),color='orange',fontsize='x-large',ha='center',va='center',weight='semibold')\n",
    "\n",
    "plt.xlabel('Predicted label',labelpad=-220, fontsize='x-large',color= 'green')\n",
    "plt.ylabel('Gold label',labelpad=15, fontsize='x-large',color= 'green')\n",
    "plt.title('Kingdom', fontsize='xx-large',pad=30,color= 'darkblue')\n",
    "plt.show()"
   ]
  },
  {
   "cell_type": "markdown",
   "id": "4747ba27",
   "metadata": {},
   "source": [
    "**$\\cdot$Phylum**"
   ]
  },
  {
   "cell_type": "code",
   "execution_count": null,
   "id": "c4c130b4",
   "metadata": {},
   "outputs": [
    {
     "name": "stdout",
     "output_type": "stream",
     "text": [
      "Epoch: 1/10 Training Loss: 1.6599 Training Accuracy: 54.7251%\n",
      "Epoch: 1/10 Validation Loss: 1.0489 Validation Accuracy: 70.1305%\n",
      "Epoch: 2/10 Training Loss: 1.0226 Training Accuracy: 71.6555%\n",
      "Epoch: 2/10 Validation Loss: 0.7781 Validation Accuracy: 77.6902%\n",
      "Epoch: 3/10 Training Loss: 0.8283 Training Accuracy: 77.4180%\n",
      "Epoch: 3/10 Validation Loss: 0.6287 Validation Accuracy: 82.5659%\n",
      "Epoch: 4/10 Training Loss: 0.6730 Training Accuracy: 81.9676%\n",
      "Epoch: 4/10 Validation Loss: 0.4211 Validation Accuracy: 88.2541%\n",
      "Epoch: 5/10 Training Loss: 0.4770 Training Accuracy: 87.4962%\n",
      "Epoch: 5/10 Validation Loss: 0.3049 Validation Accuracy: 91.3568%\n",
      "Epoch: 6/10 Training Loss: 0.4243 Training Accuracy: 88.9860%\n",
      "Epoch: 6/10 Validation Loss: 0.2717 Validation Accuracy: 92.6619%\n",
      "Epoch: 7/10 Training Loss: 0.3235 Training Accuracy: 91.1654%\n",
      "Epoch: 7/10 Validation Loss: 0.1842 Validation Accuracy: 94.9274%\n",
      "Epoch: 8/10 Training Loss: 0.2645 Training Accuracy: 92.8338%\n",
      "Epoch: 8/10 Validation Loss: 0.1400 Validation Accuracy: 95.9370%\n",
      "Epoch: 9/10 Training Loss: 0.2335 Training Accuracy: 93.5849%\n",
      "Epoch: 9/10 Validation Loss: 0.1323 Validation Accuracy: 96.3802%\n",
      "Epoch: 10/10 Training Loss: 0.2028 Training Accuracy: 94.3237%\n",
      "Epoch: 10/10 Validation Loss: 0.1080 Validation Accuracy: 96.9712%\n"
     ]
    }
   ],
   "source": [
    "# 6.3 Phylum\n",
    "# 6.3.1 Construct and train a LSTM model for phylum\n",
    "model_lstm_p= DNAClassifierWithLSTM(vocab_size, embedding_size, hidden_size, hidden_size_p, num_layers, num_classes_p) # Creat a LSTM\n",
    "trained_model_lstm_p = train_nn(num_epochs, learning_rate, model_lstm_p, train_loader_p, dev_loader_p) # Train model"
   ]
  },
  {
   "cell_type": "code",
   "execution_count": null,
   "id": "8e3d7977",
   "metadata": {},
   "outputs": [
    {
     "data": {
      "text/plain": [
       "['stl_phylum_n1_la7_b32_lr1.model']"
      ]
     },
     "execution_count": 20,
     "metadata": {},
     "output_type": "execute_result"
    }
   ],
   "source": [
    "joblib.dump(trained_model_lstm_p, 'stl_phylum_n1_la7_b32_lr1.model')"
   ]
  },
  {
   "cell_type": "markdown",
   "id": "3dbc2145",
   "metadata": {},
   "source": [
    "Prediction"
   ]
  },
  {
   "cell_type": "code",
   "execution_count": null,
   "id": "29dae38b",
   "metadata": {},
   "outputs": [
    {
     "name": "stdout",
     "output_type": "stream",
     "text": [
      "Accuracy = 0.9399251526492023\n",
      "Precision (macro average) = 0.7196798598671217\n",
      "Recall (macro average) = 0.698445664746836\n",
      "F1 score (macro average) = 0.7042035537003544\n",
      "              precision    recall  f1-score   support\n",
      "\n",
      "           0       0.00      0.00      0.00         1\n",
      "           1       0.89      0.96      0.92       316\n",
      "           2       0.95      0.95      0.95       350\n",
      "           3       0.41      0.76      0.53        21\n",
      "           4       0.00      0.00      0.00         2\n",
      "           5       0.98      0.97      0.98       651\n",
      "           6       0.00      0.00      0.00         3\n",
      "           7       1.00      0.93      0.96        28\n",
      "           8       0.61      0.73      0.67        26\n",
      "           9       0.87      0.87      0.87       195\n",
      "          10       0.95      0.86      0.90        21\n",
      "          11       0.95      0.93      0.94       169\n",
      "          12       1.00      0.79      0.88        33\n",
      "          13       0.85      0.61      0.71        18\n",
      "          14       0.75      0.50      0.60         6\n",
      "          15       0.98      0.95      0.96       366\n",
      "          16       1.00      1.00      1.00         8\n",
      "          17       1.00      1.00      1.00         4\n",
      "          18       0.00      0.00      0.00         7\n",
      "          19       0.88      0.82      0.85        73\n",
      "          20       0.00      0.00      0.00         8\n",
      "          21       0.67      0.70      0.68        23\n",
      "          22       0.91      0.80      0.85        25\n",
      "          24       0.67      0.59      0.62        41\n",
      "          25       0.50      0.60      0.55         5\n",
      "          26       0.91      0.94      0.92       306\n",
      "          27       0.98      0.99      0.99      1879\n",
      "          28       0.53      0.44      0.48        18\n",
      "          29       0.62      0.70      0.65        23\n",
      "          30       0.80      0.87      0.83        23\n",
      "          31       1.00      0.67      0.80         6\n",
      "          32       0.86      0.90      0.88        20\n",
      "          33       0.93      0.94      0.94       267\n",
      "          34       0.70      0.64      0.67        36\n",
      "          36       0.93      0.91      0.92        93\n",
      "          37       0.83      0.83      0.83         6\n",
      "\n",
      "    accuracy                           0.94      5077\n",
      "   macro avg       0.72      0.70      0.70      5077\n",
      "weighted avg       0.94      0.94      0.94      5077\n",
      "\n"
     ]
    },
    {
     "name": "stderr",
     "output_type": "stream",
     "text": [
      "/home/ec2-user/anaconda3/envs/python3/lib/python3.8/site-packages/sklearn/metrics/_classification.py:1308: UndefinedMetricWarning: Precision is ill-defined and being set to 0.0 in labels with no predicted samples. Use `zero_division` parameter to control this behavior.\n",
      "  _warn_prf(average, modifier, msg_start, len(result))\n",
      "/home/ec2-user/anaconda3/envs/python3/lib/python3.8/site-packages/sklearn/metrics/_classification.py:1308: UndefinedMetricWarning: Precision and F-score are ill-defined and being set to 0.0 in labels with no predicted samples. Use `zero_division` parameter to control this behavior.\n",
      "  _warn_prf(average, modifier, msg_start, len(result))\n",
      "/home/ec2-user/anaconda3/envs/python3/lib/python3.8/site-packages/sklearn/metrics/_classification.py:1308: UndefinedMetricWarning: Precision and F-score are ill-defined and being set to 0.0 in labels with no predicted samples. Use `zero_division` parameter to control this behavior.\n",
      "  _warn_prf(average, modifier, msg_start, len(result))\n",
      "/home/ec2-user/anaconda3/envs/python3/lib/python3.8/site-packages/sklearn/metrics/_classification.py:1308: UndefinedMetricWarning: Precision and F-score are ill-defined and being set to 0.0 in labels with no predicted samples. Use `zero_division` parameter to control this behavior.\n",
      "  _warn_prf(average, modifier, msg_start, len(result))\n"
     ]
    }
   ],
   "source": [
    "# 6.3.2 Make predictions for phylum\n",
    "trained_model_lstm_p = joblib.load('stl_phylum_n1_la7_b32_lr1.model')\n",
    "\n",
    "gold_labs_p, pred_labs_p = predict_nn(trained_model_lstm_p, test_loader_p) # Predict the results of test data \n",
    "\n",
    "# 6.3.3 Evaluate the phylum\n",
    "acc_p = accuracy_score(gold_labs_p, pred_labs_p)\n",
    "print(f'Accuracy = {acc_p}')\n",
    "\n",
    "prec_p = precision_score(gold_labs_p, pred_labs_p, average='macro')\n",
    "print(f'Precision (macro average) = {prec_p}')\n",
    "\n",
    "rec_p = recall_score(gold_labs_p, pred_labs_p, average='macro')\n",
    "print(f'Recall (macro average) = {rec_p}')\n",
    "\n",
    "f1_p = f1_score(gold_labs_p, pred_labs_p, average='macro')\n",
    "print(f'F1 score (macro average) = {f1_p}')\n",
    "\n",
    "# We can get all of these with a per-class breakdown using classification_report:\n",
    "print(classification_report(gold_labs_p, pred_labs_p))"
   ]
  },
  {
   "cell_type": "code",
   "execution_count": null,
   "id": "a9a9d88d",
   "metadata": {},
   "outputs": [
    {
     "data": {
      "text/plain": [
       "<Figure size 432x288 with 0 Axes>"
      ]
     },
     "metadata": {},
     "output_type": "display_data"
    },
    {
     "data": {
      "image/png": "[encoded data removed]",
      "text/plain": [
       "<Figure size 1152x1152 with 2 Axes>"
      ]
     },
     "metadata": {
      "needs_background": "light"
     },
     "output_type": "display_data"
    }
   ],
   "source": [
    "# 6.3.4 Visualise the results\n",
    "cm_p = confusion_matrix(gold_labs_p, pred_labs_p)\n",
    "\n",
    "plt.figure()\n",
    "plt.rcParams[\"figure.figsize\"] = [100.00, 50.00]\n",
    "plt.matshow(cm_p, cmap = plt.cm.GnBu)\n",
    "plt.colorbar()\n",
    "\n",
    "for i in range(cm_p.shape[0]):\n",
    "    for j in range(cm_p.shape[1]):\n",
    "        plt.text(i,j,str(cm_p[i][j]),color='orange',fontsize='small',ha='center',va='center',weight='semibold')\n",
    "\n",
    "plt.xlabel('Predicted label',labelpad=-760, fontsize='x-large',color= 'green')\n",
    "plt.ylabel('Gold label',labelpad=15, fontsize='x-large',color= 'green')\n",
    "plt.title('Phylum', fontsize='xx-large',pad=30,color= 'darkblue')\n",
    "plt.show()"
   ]
  },
  {
   "cell_type": "markdown",
   "id": "8a98442e",
   "metadata": {},
   "source": [
    "**$\\cdot$Class**"
   ]
  },
  {
   "cell_type": "code",
   "execution_count": null,
   "id": "5cb5c4c7",
   "metadata": {},
   "outputs": [
    {
     "name": "stdout",
     "output_type": "stream",
     "text": [
      "Epoch: 1/10 Training Loss: 2.1447 Training Accuracy: 49.3443%\n",
      "Epoch: 1/10 Validation Loss: 1.1957 Validation Accuracy: 69.1948%\n",
      "Epoch: 2/10 Training Loss: 1.1113 Training Accuracy: 72.7575%\n",
      "Epoch: 2/10 Validation Loss: 0.7085 Validation Accuracy: 81.4578%\n",
      "Epoch: 3/10 Training Loss: 0.7987 Training Accuracy: 80.2869%\n",
      "Epoch: 3/10 Validation Loss: 0.5257 Validation Accuracy: 86.1118%\n",
      "Epoch: 4/10 Training Loss: 0.6507 Training Accuracy: 83.7345%\n",
      "Epoch: 4/10 Validation Loss: 0.4189 Validation Accuracy: 88.6727%\n",
      "Epoch: 5/10 Training Loss: 0.5576 Training Accuracy: 85.4399%\n",
      "Epoch: 5/10 Validation Loss: 0.3823 Validation Accuracy: 89.6823%\n",
      "Epoch: 6/10 Training Loss: 0.5551 Training Accuracy: 85.5753%\n",
      "Epoch: 6/10 Validation Loss: 0.3874 Validation Accuracy: 89.3869%\n",
      "Epoch: 7/10 Training Loss: 0.5103 Training Accuracy: 86.6466%\n",
      "Epoch: 7/10 Validation Loss: 0.3715 Validation Accuracy: 89.6823%\n",
      "Epoch: 8/10 Training Loss: 0.5026 Training Accuracy: 86.7882%\n",
      "Epoch: 8/10 Validation Loss: 0.3489 Validation Accuracy: 90.1010%\n",
      "Epoch: 9/10 Training Loss: 2.3033 Training Accuracy: 46.2045%\n",
      "Epoch: 9/10 Validation Loss: 1.8414 Validation Accuracy: 53.6321%\n",
      "Epoch: 10/10 Training Loss: 2.1593 Training Accuracy: 46.6478%\n",
      "Epoch: 10/10 Validation Loss: 1.5974 Validation Accuracy: 57.7198%\n"
     ]
    }
   ],
   "source": [
    "# 6.4 Class\n",
    "# 6.4.1 Construct and train a LSTM model for phylum\n",
    "model_lstm = DNAClassifierWithLSTM(vocab_size, embedding_size, hidden_size, hidden_size_c, num_layers, num_classes_c) # Creat a LSTM\n",
    "trained_model_lstm_c = train_nn(num_epochs, learning_rate, model_lstm, train_loader_c,dev_loader_c) # Train model"
   ]
  },
  {
   "cell_type": "code",
   "execution_count": null,
   "id": "1680ce74",
   "metadata": {},
   "outputs": [
    {
     "data": {
      "text/plain": [
       "['stl_class_n1_la7_b32_lr1.model']"
      ]
     },
     "execution_count": 24,
     "metadata": {},
     "output_type": "execute_result"
    }
   ],
   "source": [
    "joblib.dump(trained_model_lstm_c, 'stl_class_n1_la7_b32_lr1.model')"
   ]
  },
  {
   "cell_type": "markdown",
   "id": "593cd3de",
   "metadata": {},
   "source": [
    "Prediction"
   ]
  },
  {
   "cell_type": "code",
   "execution_count": null,
   "id": "0a190b16",
   "metadata": {},
   "outputs": [
    {
     "name": "stdout",
     "output_type": "stream",
     "text": [
      "Accuracy = 0.5861729367736852\n",
      "Precision (macro average) = 0.2728601499162765\n",
      "Recall (macro average) = 0.21883738500271122\n",
      "F1 score (macro average) = 0.2263823356702537\n",
      "              precision    recall  f1-score   support\n",
      "\n",
      "           0       0.00      0.00      0.00         5\n",
      "           1       0.00      0.00      0.00        16\n",
      "           2       0.00      0.00      0.00        18\n",
      "           3       0.00      0.00      0.00         1\n",
      "           4       0.00      0.00      0.00         3\n",
      "           5       0.70      0.69      0.70        71\n",
      "           6       0.00      0.00      0.00        12\n",
      "           7       0.40      0.72      0.51        74\n",
      "           8       0.38      0.44      0.41        34\n",
      "           9       0.58      0.66      0.62       172\n",
      "          10       0.63      0.88      0.74       647\n",
      "          11       0.35      0.20      0.25        90\n",
      "          12       0.00      0.00      0.00         2\n",
      "          13       1.00      0.50      0.67         4\n",
      "          14       0.00      0.00      0.00        11\n",
      "          15       0.00      0.00      0.00         6\n",
      "          16       0.00      0.00      0.00         6\n",
      "          17       0.00      0.00      0.00        10\n",
      "          18       0.71      0.68      0.70        92\n",
      "          19       0.52      0.58      0.55       101\n",
      "          20       0.81      0.80      0.80       222\n",
      "          21       0.00      0.00      0.00         6\n",
      "          22       0.33      0.20      0.25         5\n",
      "          23       0.00      0.00      0.00         3\n",
      "          24       0.73      0.39      0.51        28\n",
      "          25       0.62      0.57      0.59        14\n",
      "          26       0.72      0.60      0.66       108\n",
      "          27       0.67      0.33      0.44         6\n",
      "          28       0.67      0.51      0.58       260\n",
      "          29       0.00      0.00      0.00         7\n",
      "          30       0.76      0.75      0.75       106\n",
      "          31       0.88      0.83      0.86        18\n",
      "          32       0.00      0.00      0.00        14\n",
      "          33       0.00      0.00      0.00         6\n",
      "          34       0.32      0.60      0.42       465\n",
      "          35       0.00      0.00      0.00         3\n",
      "          36       0.00      0.00      0.00        12\n",
      "          37       0.00      0.00      0.00        33\n",
      "          38       0.90      0.64      0.75        14\n",
      "          39       0.57      0.86      0.69        14\n",
      "          40       1.00      0.25      0.40         4\n",
      "          41       0.89      0.67      0.77       141\n",
      "          42       0.83      0.62      0.71         8\n",
      "          43       0.00      0.00      0.00         7\n",
      "          44       0.67      0.68      0.68       515\n",
      "          45       0.00      0.00      0.00        19\n",
      "          46       0.00      0.00      0.00         4\n",
      "          47       1.00      0.36      0.53        11\n",
      "          48       0.00      0.00      0.00         3\n",
      "          49       0.00      0.00      0.00         4\n",
      "          50       0.36      0.59      0.45        32\n",
      "          51       0.00      0.00      0.00         1\n",
      "          52       0.00      0.00      0.00         8\n",
      "          54       0.00      0.00      0.00        12\n",
      "          55       0.00      0.00      0.00        10\n",
      "          56       0.00      0.00      0.00         5\n",
      "          57       0.00      0.00      0.00         7\n",
      "          58       0.64      0.50      0.56        18\n",
      "          59       0.29      0.09      0.13        23\n",
      "          60       0.00      0.00      0.00         5\n",
      "          61       0.62      0.26      0.37        19\n",
      "          63       0.00      0.00      0.00         4\n",
      "          64       0.00      0.00      0.00         1\n",
      "          65       0.00      0.00      0.00         1\n",
      "          66       0.00      0.00      0.00         5\n",
      "          67       0.00      0.00      0.00         5\n",
      "          68       0.35      0.63      0.45        27\n",
      "          69       0.00      0.00      0.00        12\n",
      "          70       0.00      0.00      0.00         9\n",
      "          71       0.00      0.00      0.00         2\n",
      "          72       0.00      0.00      0.00        36\n",
      "          73       0.67      0.64      0.66        70\n",
      "          74       0.00      0.00      0.00         5\n",
      "          75       0.73      0.79      0.76       200\n",
      "          76       0.00      0.00      0.00         6\n",
      "          77       0.00      0.00      0.00         2\n",
      "          78       0.00      0.00      0.00         2\n",
      "          79       0.00      0.00      0.00         6\n",
      "          80       0.00      0.00      0.00        12\n",
      "          81       0.00      0.00      0.00        12\n",
      "          82       0.00      0.00      0.00         5\n",
      "          83       0.00      0.00      0.00         6\n",
      "          84       1.00      0.33      0.50         3\n",
      "          85       0.00      0.00      0.00        18\n",
      "          86       1.00      0.67      0.80         6\n",
      "          87       0.52      0.18      0.27        65\n",
      "          88       0.51      0.70      0.59        77\n",
      "          89       0.00      0.00      0.00        19\n",
      "          90       1.00      0.11      0.19        19\n",
      "          91       0.75      0.14      0.24        21\n",
      "          92       0.00      0.00      0.00        16\n",
      "          93       0.00      0.00      0.00         2\n",
      "          94       0.00      0.00      0.00        12\n",
      "          95       0.00      0.00      0.00         3\n",
      "          96       0.00      0.00      0.00         7\n",
      "          97       0.00      0.00      0.00        16\n",
      "          98       0.44      0.48      0.46        87\n",
      "          99       0.00      0.00      0.00         8\n",
      "         100       0.50      0.06      0.10        18\n",
      "         101       0.00      0.00      0.00         9\n",
      "         102       0.14      0.04      0.07        46\n",
      "         103       0.60      0.19      0.29        16\n",
      "         104       0.58      0.49      0.53        51\n",
      "         105       0.00      0.00      0.00         8\n",
      "         106       0.00      0.00      0.00         8\n",
      "         107       0.00      0.00      0.00         4\n",
      "         108       0.00      0.00      0.00        12\n",
      "         109       0.55      0.52      0.53        93\n",
      "         110       0.58      0.86      0.69       113\n",
      "         111       0.00      0.00      0.00         6\n",
      "         112       0.82      0.85      0.84       220\n",
      "         113       0.71      0.77      0.74        60\n",
      "         114       0.00      0.00      0.00         9\n",
      "         115       0.36      0.24      0.29        21\n",
      "         116       0.00      0.00      0.00         1\n",
      "\n",
      "    accuracy                           0.59      5077\n",
      "   macro avg       0.27      0.22      0.23      5077\n",
      "weighted avg       0.55      0.59      0.55      5077\n",
      "\n"
     ]
    },
    {
     "name": "stderr",
     "output_type": "stream",
     "text": [
      "/home/ec2-user/anaconda3/envs/python3/lib/python3.8/site-packages/sklearn/metrics/_classification.py:1308: UndefinedMetricWarning: Precision is ill-defined and being set to 0.0 in labels with no predicted samples. Use `zero_division` parameter to control this behavior.\n",
      "  _warn_prf(average, modifier, msg_start, len(result))\n",
      "/home/ec2-user/anaconda3/envs/python3/lib/python3.8/site-packages/sklearn/metrics/_classification.py:1308: UndefinedMetricWarning: Precision and F-score are ill-defined and being set to 0.0 in labels with no predicted samples. Use `zero_division` parameter to control this behavior.\n",
      "  _warn_prf(average, modifier, msg_start, len(result))\n",
      "/home/ec2-user/anaconda3/envs/python3/lib/python3.8/site-packages/sklearn/metrics/_classification.py:1308: UndefinedMetricWarning: Precision and F-score are ill-defined and being set to 0.0 in labels with no predicted samples. Use `zero_division` parameter to control this behavior.\n",
      "  _warn_prf(average, modifier, msg_start, len(result))\n",
      "/home/ec2-user/anaconda3/envs/python3/lib/python3.8/site-packages/sklearn/metrics/_classification.py:1308: UndefinedMetricWarning: Precision and F-score are ill-defined and being set to 0.0 in labels with no predicted samples. Use `zero_division` parameter to control this behavior.\n",
      "  _warn_prf(average, modifier, msg_start, len(result))\n"
     ]
    }
   ],
   "source": [
    "# 6.4.2 Make predictions for class\n",
    "trained_model_lstm_c = joblib.load('stl_class_n1_la7_b32_lr1.model')\n",
    "\n",
    "gold_labs_c, pred_labs_c = predict_nn(trained_model_lstm_c, test_loader_c) # Predict the results of test data \n",
    "\n",
    "# 6.4.3 Evaluate the class\n",
    "acc_c = accuracy_score(gold_labs_c, pred_labs_c)\n",
    "print(f'Accuracy = {acc_c}')\n",
    "\n",
    "prec_c = precision_score(gold_labs_c, pred_labs_c, average='macro')\n",
    "print(f'Precision (macro average) = {prec_c}')\n",
    "\n",
    "rec_c = recall_score(gold_labs_c, pred_labs_c, average='macro')\n",
    "print(f'Recall (macro average) = {rec_c}')\n",
    "\n",
    "f1_c = f1_score(gold_labs_c, pred_labs_c, average='macro')\n",
    "print(f'F1 score (macro average) = {f1_c}')\n",
    "\n",
    "# We can get all of these with a per-class breakdown using classification_report:\n",
    "print(classification_report(gold_labs_c, pred_labs_c))"
   ]
  },
  {
   "cell_type": "code",
   "execution_count": null,
   "id": "60ee472e",
   "metadata": {},
   "outputs": [
    {
     "data": {
      "text/plain": [
       "<Figure size 7200x3600 with 0 Axes>"
      ]
     },
     "metadata": {},
     "output_type": "display_data"
    },
    {
     "data": {
      "image/png": "[encoded data removed]",
      "text/plain": [
       "<Figure size 1152x1152 with 2 Axes>"
      ]
     },
     "metadata": {
      "needs_background": "light"
     },
     "output_type": "display_data"
    }
   ],
   "source": [
    "# 6.4.4 Visualise the results\n",
    "cm_c = confusion_matrix(gold_labs_c, pred_labs_c)\n",
    "\n",
    "plt.figure()\n",
    "plt.rcParams[\"figure.figsize\"] = [100.00, 50.00]\n",
    "plt.matshow(cm_c, cmap = plt.cm.GnBu)\n",
    "plt.colorbar()\n",
    "\n",
    "for i in range(cm_c.shape[0]):\n",
    "    for j in range(cm_c.shape[1]):\n",
    "        if cm_c[i][j] !=0:\n",
    "            plt.text(i,j,str(cm_c[i][j]),color='orange',fontsize='small',ha='center',va='center',weight='normal')\n",
    "\n",
    "plt.xlabel('Predicted label',labelpad=-760, fontsize='x-large',color= 'green')\n",
    "plt.ylabel('Gold label',labelpad=15, fontsize='x-large',color= 'green')\n",
    "plt.title('Class', fontsize='xx-large',pad=30,color= 'darkblue')\n",
    "plt.show()"
   ]
  },
  {
   "cell_type": "code",
   "execution_count": null,
   "id": "586e006f",
   "metadata": {},
   "outputs": [],
   "source": []
  }
 ],
 "metadata": {
  "kernelspec": {
   "display_name": "conda_python3",
   "language": "python",
   "name": "conda_python3"
  },
  "language_info": {
   "codemirror_mode": {
    "name": "ipython",
    "version": 3
   },
   "file_extension": ".py",
   "mimetype": "text/x-python",
   "name": "python",
   "nbconvert_exporter": "python",
   "pygments_lexer": "ipython3",
   "version": "3.8.12"
  }
 },
 "nbformat": 4,
 "nbformat_minor": 5
}
